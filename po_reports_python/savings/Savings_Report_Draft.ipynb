{
 "cells": [
  {
   "cell_type": "code",
   "execution_count": 35,
   "metadata": {
    "ExecuteTime": {
     "end_time": "2017-11-20T15:49:40.910305Z",
     "start_time": "2017-11-20T15:49:40.867305Z"
    }
   },
   "outputs": [],
   "source": [
    "import pandas as pd\n",
    "import numpy as np\n",
    "\n",
    "class SavingsA:\n",
    "    \"\"\"\n",
    "    Name: Savings Report\n",
    "    Author: GuoRubing\n",
    "    Date: Nov. 17, 2017\n",
    "    input: Summary, IM, Price1, Cross1\n",
    "    output: Savings\n",
    "    \"\"\"\n",
    "    def __init__(self, sav_dataframe, im_dataframe,):\n",
    "        self.sav_df = sav_dataframe\n",
    "        self.im_df = im_dataframe\n",
    "        \n",
    "    def sav_1(self):\n",
    "        \"\"\"\n",
    "        :type my_dataframe: DataFrame\n",
    "        :rtype: DataFrame\n",
    "        \"\"\"\n",
    "        foo = self.sav_df[:]\n",
    "        foo = foo[np.isfinite(foo[\"Item No\"])]\n",
    "        foo[\"Item No\"] = foo[\"Item No\"].astype(int).astype(str)\n",
    "        foo['SAP+UOM'] = foo[\"Item No\"].str.cat(foo[\"U O M\"], sep = '-')\n",
    "        #foo[\"EA Price\"] = foo[\"Last Price\"]/foo[\"EA Conversion\"]\n",
    "        return foo\n",
    "    def imMergeSav_1(self):\n",
    "        df_im = self.im_df.loc[:]\n",
    "        df_im[\"OrderUoM\"] = df_im[\"OUoM\"].combine_first(df_im[\"BUoM\"]) \n",
    "        df_im[\"OUoM\"].fillna(df_im[\"BUoM\"], inplace=True)\n",
    "        df_im[\"Material Number\"]=df_im[\"Material Number\"].fillna(0).astype(float).astype(int).astype(str)\n",
    "        df_im[\"SAP+UOM\"] = df_im[\"Material Number\"].str.cat(df_im[\"OUoM\"], sep = '-')\n",
    "        df_im[\"Conversion Factor\"] = df_im[\"ConvOrder\"]*df_im[\"PyxConvLow\"]\n",
    "        im_s1 = df_im['SAP+UOM']\n",
    "        im_s2 = df_im[\"Conversion Factor\"]\n",
    "        df_im_Rng = pd.concat([im_s1, im_s2], axis=1)\n",
    "        Merge1 = pd.merge(self.sav_1(), df_im_Rng, left_on = \"SAP+UOM\", right_on = \"SAP+UOM\", how = \"left\")\n",
    "        Merge1[\"EA Conversion\"] = Merge1[\"Conversion Factor\"]\n",
    "        Merge1[\"EA Price\"] = Merge1[\"Last Price\"]/Merge1[\"EA Conversion\"]\n",
    "        Merge1[\"EA Qty\"] = Merge1[\"Sum of Qty Paid\"]/Merge1[\"EA Conversion\"]\n",
    "        return Merge1\n",
    "    def price(self):\n",
    "        self.imMergeSav_1()"
   ]
  },
  {
   "cell_type": "code",
   "execution_count": 88,
   "metadata": {
    "ExecuteTime": {
     "end_time": "2017-11-20T18:05:14.567305Z",
     "start_time": "2017-11-20T18:05:14.428305Z"
    }
   },
   "outputs": [
    {
     "name": "stdout",
     "output_type": "stream",
     "text": [
      "  Manufacturer Name Manufacturer Part No  \\\n",
      "0         J & J ASP              AS20390   \n",
      "1            METREX              10-6000   \n",
      "2            METREX              10-6000   \n",
      "3            METREX               10-602   \n",
      "\n",
      "                                  Last Desc  \\\n",
      "0     SOLUTION DISINFECT CIDEX OPA 1 GALLON   \n",
      "1  DISINFECTANT OPA + MTRCD 1GL INST RTU HI   \n",
      "2          SOLUTION METRICIDE OPA PLUS 4/CS   \n",
      "3          STRIP DSINF TST MTRCD OPA + MNTR   \n",
      "\n",
      "                          Vendor Name Vendor Mat Number U O M Item No  \\\n",
      "0  MEDLINE INDUSTRIES (OFF-SITE ONLY)         J-J20390H   GLL   24060   \n",
      "1              MEDLINE INDUSTRIES INC         MAP106000    CS   10234   \n",
      "2           HENRY SCHEIN INCORPORATED           6408231    CS   24064   \n",
      "3              MEDLINE INDUSTRIES INC          MAP10602    CS   19066   \n",
      "\n",
      "   Last Price  Sum of Qty Paid  Sum of Total    SAP+UOM  Conversion Factor  \\\n",
      "0       66.71               16       1067.36  24060-GLL                  1   \n",
      "1       80.00               37       2960.00   10234-CS                  4   \n",
      "2      193.96                2        387.92   24064-CS                  1   \n",
      "3       82.45               22       1813.90   19066-CS                  2   \n",
      "\n",
      "   EA Conversion  EA Price  EA Qty  \n",
      "0              1    66.710   16.00  \n",
      "1              4    20.000    9.25  \n",
      "2              1   193.960    2.00  \n",
      "3              2    41.225   11.00  \n"
     ]
    }
   ],
   "source": [
    "xlsx_file = \"SAP_Sterilization_Solutions.xlsx\"\n",
    "#df1=pd.read_csv(csv_file)\n",
    "#Show pd.read_csv details\n",
    "#help(pd.read_csv)\n",
    "#help(pd.read_excel)\n",
    "df_sav = pd.read_excel(xlsx_file, sheetname=\"Savings\")\n",
    "df_im = pd.read_excel(xlsx_file, sheetname=\"IM\")\n",
    "df_price = pd.read_excel(xlsx_file, sheetname = \"Price1\")\n",
    "a = SavingsA(df_sav, df_im)\n",
    "print(a.imMergeSav_1())"
   ]
  },
  {
   "cell_type": "code",
   "execution_count": 121,
   "metadata": {
    "ExecuteTime": {
     "end_time": "2017-11-20T19:39:49.504305Z",
     "start_time": "2017-11-20T19:39:49.418305Z"
    }
   },
   "outputs": [
    {
     "name": "stdout",
     "output_type": "stream",
     "text": [
      "{'Metrex Research Corp': [                                         ProductName MfgProductId  \\\n",
      "0  METRICIDE 2.6% ACTIVATED DIALDEHYDE SOLUTION  ...      10-1400   \n",
      "1  METRICIDE 2.6% ACTIVATED DIALDEHYDE 14 DAY (QU...      10-1405   \n",
      "2                DISINFECTANT, METRICIDE LNG LIFE GL      10-2800   \n",
      "3  METRICIDE 28 2.5% LONG-LIFE ACTIVATED DIALDEHY...      10-2805   \n",
      "4                              METRI-TEST 1.5% STRIP       10-303   \n",
      "5                         METRISTRIP 10-304   (2/CS)       10-304   \n",
      "6                                          METRIZYME      10-4000   \n",
      "7                                        METRISPONGE      10-4025   \n",
      "8                                 METRICIDE OPA PLUS      10-6000   \n",
      "9                            MET OPA PLUS TEST STRIP       10-602   \n",
      "\n",
      "   DistributorProductID UOMCode GreaterUOMCode  EqualsLesserUOMQuantity  \\\n",
      "0                   NaN      CA             CA                        4   \n",
      "1                   NaN      CA             CA                       16   \n",
      "2                   NaN      CA             CA                        4   \n",
      "3                   NaN      CA             CA                       16   \n",
      "4                   NaN      CA             CA                      120   \n",
      "5                   NaN      CA             CA                      120   \n",
      "6                   NaN      CA             CA                        4   \n",
      "7                   NaN      CA             CA                      100   \n",
      "8                   NaN      CA             CA                        4   \n",
      "9                   NaN      CA             CA                      200   \n",
      "\n",
      "  LesserUOMCode  GreaterUOMCode_2  EqualsLesserUOMQuantity_2  LesserUOMCode_2  \\\n",
      "0            EA               NaN                        NaN              NaN   \n",
      "1            EA               NaN                        NaN              NaN   \n",
      "2            EA               NaN                        NaN              NaN   \n",
      "3            EA               NaN                        NaN              NaN   \n",
      "4            EA               NaN                        NaN              NaN   \n",
      "5            EA               NaN                        NaN              NaN   \n",
      "6            EA               NaN                        NaN              NaN   \n",
      "7            EA               NaN                        NaN              NaN   \n",
      "8            EA               NaN                        NaN              NaN   \n",
      "9            EA               NaN                        NaN              NaN   \n",
      "\n",
      "     ContractKey  PimKey   Price   EA Price  \n",
      "0  8799278121585     NaN   22.04   5.510000  \n",
      "1  8799278121585     NaN   56.24   3.515000  \n",
      "2  8799278121585     NaN   29.92   7.480000  \n",
      "3  8799278121585     NaN   47.34   2.958750  \n",
      "4  8799278121585     NaN   59.32   0.494333  \n",
      "5  8799278121585     NaN   59.32   0.494333  \n",
      "6  8799278121585     NaN  111.02  27.755000  \n",
      "7  8799278121585     NaN   95.70   0.957000  \n",
      "8  8799278121585     NaN   78.00  19.500000  \n",
      "9  8799278121585     NaN   80.99   0.404950  ]}\n"
     ]
    }
   ],
   "source": [
    "# Price Macro\n",
    "\n",
    "\"\"\"\n",
    "def sav_1(df):\n",
    "    foo = df[:]\n",
    "    \n",
    "    foo = foo[np.isfinite(df['Item No'])]\n",
    "    #df_sav[\"Item No\"] = df_sav[\"Item No\"].fillna(0).astype(float).astype(int).astype(str)\n",
    "    foo[\"Item No\"] = foo[\"Item No\"].astype(float).astype(int).astype(str)\n",
    "    foo[\"SAP+UOM\"] = foo[\"Item No\"].str.cat(foo[\"U O M\"], sep = '-')\n",
    "    return foo\n",
    "sav_1(df_sav)\n",
    "\"\"\"\n",
    "xl = pd.ExcelFile(xlsx_file)\n",
    "#xl.parse(sheet_name)\n",
    "#x=['Price1', 'Price2','Price3', 'Price1']\n",
    "def PriceCross(xl):\n",
    "    \n",
    "    #xl.sheet_names  # see all sheet names\n",
    "    v_dict = {}\n",
    "    cp_pair = []\n",
    "    priceRng_df = pd.DataFrame()\n",
    "    crossRng_df = pd.DataFrame()\n",
    "    #for sheet_name in xl.sheet_names:\n",
    "    for sheet_name in xl.sheet_names:\n",
    "        #print(sheet_name,)\n",
    "        if '1' in sheet_name:\n",
    "            if \"Price\" in sheet_name: \n",
    "                #v_dict[sheet_name] = pd.read_excel(xlsx_file, sheetname=sheet_name)\n",
    "                df1 = pd.read_excel(xlsx_file, sheetname=sheet_name)\n",
    "                vendor_name = df1[\"SupplierName\"][0]\n",
    "                #d[vendor_name] = d[sheet_name]\n",
    "                #print (d[sheet_name][\"ProductName\"])\n",
    "                priceRng_df = df1.loc[:, 'ProductName':'Price']\n",
    "                priceRng_df[\"EA Price\"] = priceRng_df[\"Price\"]/priceRng_df[\"EqualsLesserUOMQuantity\"]\n",
    "                cp_pair.append(priceRng_df)\n",
    "                v_dict[vendor_name] = cp_pair\n",
    "                price_df_list.append(sheet_name)\n",
    "                return v_dict\n",
    "            elif \"Cross\" in sheet_name:\n",
    "                v_dict[sheet_name] = pd.read_excel(xlsx_file, sheetname=sheet_name)\n",
    "                crossRng_df = v_dict[sheet_name].loc[:, 'ProductName':'Price']\n",
    "print(PriceCross(xl))"
   ]
  },
  {
   "cell_type": "code",
   "execution_count": 96,
   "metadata": {
    "ExecuteTime": {
     "end_time": "2017-11-20T18:27:59.729305Z",
     "start_time": "2017-11-20T18:27:59.723305Z"
    }
   },
   "outputs": [
    {
     "ename": "SyntaxError",
     "evalue": "invalid syntax (<ipython-input-96-857fbd077a7d>, line 4)",
     "output_type": "error",
     "traceback": [
      "\u001b[1;36m  File \u001b[1;32m\"<ipython-input-96-857fbd077a7d>\"\u001b[1;36m, line \u001b[1;32m4\u001b[0m\n\u001b[1;33m    sheet[vendor_name] =\u001b[0m\n\u001b[1;37m                         ^\u001b[0m\n\u001b[1;31mSyntaxError\u001b[0m\u001b[1;31m:\u001b[0m invalid syntax\n"
     ]
    }
   ],
   "source": [
    "d = {}\n",
    "def PriceMacro(sheet):\n",
    "    vendor_name = sheet[\"SupplierName\"][0]\n",
    "    sheet[vendor_name] = \n",
    "    d[sheet_name] = pd.read_excel(xlsx_file, sheetname=sheet_name)\n",
    "    print(vendor_name)\n",
    "PriceMacro(price_df_list[0])\n",
    "#print(vendor_name)"
   ]
  },
  {
   "cell_type": "code",
   "execution_count": 112,
   "metadata": {
    "ExecuteTime": {
     "end_time": "2017-11-20T18:47:55.099305Z",
     "start_time": "2017-11-20T18:47:55.090305Z"
    }
   },
   "outputs": [
    {
     "name": "stdout",
     "output_type": "stream",
     "text": [
      "   x  y  v1\n",
      "0  1  3   1\n",
      "1  2  4   2\n",
      "2  3  5   3\n",
      "   y  v1\n",
      "0  3   1\n",
      "1  4   2\n",
      "2  5   3\n"
     ]
    }
   ],
   "source": [
    "x = pd.DataFrame({'x': [1, 2, 3], 'y': [3, 4, 5]})\n",
    "#print (x['x'][0])\n",
    "x['v1']=x['x']\n",
    "print(x)\n",
    "print (x.loc[:,'y':'v1'])"
   ]
  },
  {
   "cell_type": "code",
   "execution_count": null,
   "metadata": {
    "ExecuteTime": {
     "end_time": "2017-11-20T16:14:59.148305Z",
     "start_time": "2017-11-20T16:14:59.098305Z"
    }
   },
   "outputs": [],
   "source": []
  },
  {
   "cell_type": "code",
   "execution_count": 8,
   "metadata": {
    "ExecuteTime": {
     "end_time": "2017-11-09T04:44:26.623796Z",
     "start_time": "2017-11-09T04:44:26.436397Z"
    }
   },
   "outputs": [
    {
     "data": {
      "text/html": [
       "<style  type=\"text/css\" >\n",
       "</style>  \n",
       "<table id=\"T_aa53179e_c508_11e7_8326_f48e38b8f5d4\" > \n",
       "<thead>    <tr> \n",
       "        <th class=\"blank level0\" ></th> \n",
       "        <th class=\"col_heading level0 col0\" >a</th> \n",
       "        <th class=\"col_heading level0 col1\" >b</th> \n",
       "        <th class=\"col_heading level0 col2\" >c</th> \n",
       "    </tr></thead> \n",
       "<tbody>    <tr> \n",
       "        <th id=\"T_aa53179e_c508_11e7_8326_f48e38b8f5d4level0_row0\" class=\"row_heading level0 row0\" >0</th> \n",
       "        <td id=\"T_aa53179e_c508_11e7_8326_f48e38b8f5d4row0_col0\" class=\"data row0 col0\" >0.292139</td> \n",
       "        <td id=\"T_aa53179e_c508_11e7_8326_f48e38b8f5d4row0_col1\" class=\"data row0 col1\" >-7.34445</td> \n",
       "        <td id=\"T_aa53179e_c508_11e7_8326_f48e38b8f5d4row0_col2\" class=\"data row0 col2\" >a</td> \n",
       "    </tr>    <tr> \n",
       "        <th id=\"T_aa53179e_c508_11e7_8326_f48e38b8f5d4level0_row1\" class=\"row_heading level0 row1\" >1</th> \n",
       "        <td id=\"T_aa53179e_c508_11e7_8326_f48e38b8f5d4row1_col0\" class=\"data row1 col0\" >3.89978</td> \n",
       "        <td id=\"T_aa53179e_c508_11e7_8326_f48e38b8f5d4row1_col1\" class=\"data row1 col1\" >-3.11239</td> \n",
       "        <td id=\"T_aa53179e_c508_11e7_8326_f48e38b8f5d4row1_col2\" class=\"data row1 col2\" >b</td> \n",
       "    </tr>    <tr> \n",
       "        <th id=\"T_aa53179e_c508_11e7_8326_f48e38b8f5d4level0_row2\" class=\"row_heading level0 row2\" >2</th> \n",
       "        <td id=\"T_aa53179e_c508_11e7_8326_f48e38b8f5d4row2_col0\" class=\"data row2 col0\" >1.23942</td> \n",
       "        <td id=\"T_aa53179e_c508_11e7_8326_f48e38b8f5d4row2_col1\" class=\"data row2 col1\" >-1.12177</td> \n",
       "        <td id=\"T_aa53179e_c508_11e7_8326_f48e38b8f5d4row2_col2\" class=\"data row2 col2\" >c</td> \n",
       "    </tr>    <tr> \n",
       "        <th id=\"T_aa53179e_c508_11e7_8326_f48e38b8f5d4level0_row3\" class=\"row_heading level0 row3\" >3</th> \n",
       "        <td id=\"T_aa53179e_c508_11e7_8326_f48e38b8f5d4row3_col0\" class=\"data row3 col0\" >3.82345</td> \n",
       "        <td id=\"T_aa53179e_c508_11e7_8326_f48e38b8f5d4row3_col1\" class=\"data row3 col1\" >-5.41029</td> \n",
       "        <td id=\"T_aa53179e_c508_11e7_8326_f48e38b8f5d4row3_col2\" class=\"data row3 col2\" >d</td> \n",
       "    </tr></tbody> \n",
       "</table> "
      ],
      "text/plain": [
       "<pandas.io.formats.style.Styler at 0x22fe320>"
      ]
     },
     "execution_count": 8,
     "metadata": {},
     "output_type": "execute_result"
    }
   ],
   "source": [
    "df = pd.DataFrame(np.random.randn(4, 2)*3, columns=['a', 'b'])\n",
    "df.style.format(\"{:.2}\")\n",
    "df['c'] = ['a', 'b', 'c', 'd']\n",
    "df.style.format({'C': str.upper})"
   ]
  },
  {
   "cell_type": "code",
   "execution_count": null,
   "metadata": {
    "collapsed": true
   },
   "outputs": [],
   "source": []
  },
  {
   "cell_type": "code",
   "execution_count": null,
   "metadata": {
    "collapsed": true
   },
   "outputs": [],
   "source": []
  },
  {
   "cell_type": "code",
   "execution_count": null,
   "metadata": {
    "collapsed": true
   },
   "outputs": [],
   "source": [
    "\n"
   ]
  },
  {
   "cell_type": "code",
   "execution_count": 137,
   "metadata": {},
   "outputs": [
    {
     "data": {
      "text/html": [
       "<div>\n",
       "<style>\n",
       "    .dataframe thead tr:only-child th {\n",
       "        text-align: right;\n",
       "    }\n",
       "\n",
       "    .dataframe thead th {\n",
       "        text-align: left;\n",
       "    }\n",
       "\n",
       "    .dataframe tbody tr th {\n",
       "        vertical-align: top;\n",
       "    }\n",
       "</style>\n",
       "<table border=\"1\" class=\"dataframe\">\n",
       "  <thead>\n",
       "    <tr style=\"text-align: right;\">\n",
       "      <th></th>\n",
       "      <th>SAP+UOM</th>\n",
       "      <th>Conversion Factor</th>\n",
       "    </tr>\n",
       "  </thead>\n",
       "  <tbody>\n",
       "    <tr>\n",
       "      <th>0</th>\n",
       "      <td>10234-CS</td>\n",
       "      <td>4</td>\n",
       "    </tr>\n",
       "    <tr>\n",
       "      <th>1</th>\n",
       "      <td>19066-CS</td>\n",
       "      <td>2</td>\n",
       "    </tr>\n",
       "    <tr>\n",
       "      <th>2</th>\n",
       "      <td>24060-GLL</td>\n",
       "      <td>1</td>\n",
       "    </tr>\n",
       "    <tr>\n",
       "      <th>3</th>\n",
       "      <td>24064-CS</td>\n",
       "      <td>1</td>\n",
       "    </tr>\n",
       "    <tr>\n",
       "      <th>4</th>\n",
       "      <td>27359-GLL</td>\n",
       "      <td>1</td>\n",
       "    </tr>\n",
       "    <tr>\n",
       "      <th>5</th>\n",
       "      <td>47606-EA</td>\n",
       "      <td>1</td>\n",
       "    </tr>\n",
       "  </tbody>\n",
       "</table>\n",
       "</div>"
      ],
      "text/plain": [
       "     SAP+UOM  Conversion Factor\n",
       "0   10234-CS                  4\n",
       "1   19066-CS                  2\n",
       "2  24060-GLL                  1\n",
       "3   24064-CS                  1\n",
       "4  27359-GLL                  1\n",
       "5   47606-EA                  1"
      ]
     },
     "execution_count": 137,
     "metadata": {},
     "output_type": "execute_result"
    }
   ],
   "source": [
    "def im(df):\n",
    "    df_im = df.loc[:]\n",
    "    df_im[\"OrderUoM\"] = df_im[\"OUoM\"].combine_first(df_im[\"BUoM\"]) \n",
    "    df_im[\"OUoM\"].fillna(df_im[\"BUoM\"], inplace=True)\n",
    "    df_im[\"Material Number\"]=df_im[\"Material Number\"].fillna(0).astype(float).astype(int).astype(str)\n",
    "    df_im[\"SAP+UOM\"] = df_im[\"Material Number\"].str.cat(df_im[\"OUoM\"], sep = '-')\n",
    "    #type(df_im[\"Material Number\"])\n",
    "    df_im[\"Conversion Factor\"] = df_im[\"ConvOrder\"]*df_im[\"PyxConvLow\"]\n",
    "    im_s1 = df_im['SAP+UOM']\n",
    "    im_s2 = df_im[\"Conversion Factor\"]\n",
    "    df_im_Rng = pd.concat([im_s1, im_s2], axis=1)\n",
    "    return df_im_Rng\n",
    "im(df_im)"
   ]
  },
  {
   "cell_type": "code",
   "execution_count": null,
   "metadata": {
    "collapsed": true
   },
   "outputs": [],
   "source": [
    "# Sav_1\n",
    "#df1['Item No'].fillna(0)\n",
    "df_sav[\"Item No\"] = df_sav[\"Item No\"].fillna(0).astype(float).astype(int).astype(str)\n",
    "#df_sav[\"Item No\"]\n",
    "\n",
    "#ser = pd.Series([1,2], dtype = 'int64')\n",
    "#ser.astype('str')\n",
    "#df_sav[\"Manufacturer Part No\"]\n",
    "df_sav[\"SAP+UOM\"] = df_sav[\"Item No\"].str.cat(df_sav[\"U O M\"], sep = '-')\n",
    "\n",
    "\n",
    "# IM_Macro VBA:\n",
    "df_im.head()\n",
    "#df_im.dtypes\n",
    "df_im[\"OrderUoM\"] = df_im[\"OUoM\"].combine_first(df_im[\"BUoM\"]) \n",
    "\n",
    "df_im[\"OUoM\"].fillna(df_im[\"BUoM\"], inplace=True)\n",
    "df_im[\"Material Number\"]=df_im[\"Material Number\"].fillna(0).astype(float).astype(int).astype(str)\n",
    "df_im[\"SAP+UOM\"] = df_im[\"Material Number\"].str.cat(df_im[\"OUoM\"], sep = '-')\n",
    "type(df_im[\"Material Number\"])\n",
    "df_im[\"Conversion Factor\"] = df_im[\"ConvOrder\"]*df_im[\"PyxConvLow\"]\n",
    "df_im\n",
    "\n",
    "im_s1 = df_im['SAP+UOM']\n",
    "im_s2 = df_im[\"Conversion Factor\"] \n",
    "df_im_Rng = pd.concat([im_s1, im_s2], axis=1)\n",
    "df_sav = pd.merge(df_sav, df_im_Rng, left_on = 'SAP+UOM', right_on = 'SAP+UOM', how='left')\n",
    "\n",
    "df_sav.dtypes"
   ]
  },
  {
   "cell_type": "code",
   "execution_count": null,
   "metadata": {
    "collapsed": true
   },
   "outputs": [],
   "source": []
  },
  {
   "cell_type": "code",
   "execution_count": 89,
   "metadata": {
    "collapsed": true
   },
   "outputs": [],
   "source": [
    "dfc = pd.DataFrame({'A':['aaa','bbb','ccc'],'B':[1,2,3]})"
   ]
  },
  {
   "cell_type": "code",
   "execution_count": 90,
   "metadata": {},
   "outputs": [
    {
     "data": {
      "text/html": [
       "<div>\n",
       "<style>\n",
       "    .dataframe thead tr:only-child th {\n",
       "        text-align: right;\n",
       "    }\n",
       "\n",
       "    .dataframe thead th {\n",
       "        text-align: left;\n",
       "    }\n",
       "\n",
       "    .dataframe tbody tr th {\n",
       "        vertical-align: top;\n",
       "    }\n",
       "</style>\n",
       "<table border=\"1\" class=\"dataframe\">\n",
       "  <thead>\n",
       "    <tr style=\"text-align: right;\">\n",
       "      <th></th>\n",
       "      <th>A</th>\n",
       "      <th>B</th>\n",
       "    </tr>\n",
       "  </thead>\n",
       "  <tbody>\n",
       "    <tr>\n",
       "      <th>0</th>\n",
       "      <td>aaa</td>\n",
       "      <td>1</td>\n",
       "    </tr>\n",
       "    <tr>\n",
       "      <th>1</th>\n",
       "      <td>bbb</td>\n",
       "      <td>2</td>\n",
       "    </tr>\n",
       "    <tr>\n",
       "      <th>2</th>\n",
       "      <td>ccc</td>\n",
       "      <td>3</td>\n",
       "    </tr>\n",
       "  </tbody>\n",
       "</table>\n",
       "</div>"
      ],
      "text/plain": [
       "     A  B\n",
       "0  aaa  1\n",
       "1  bbb  2\n",
       "2  ccc  3"
      ]
     },
     "execution_count": 90,
     "metadata": {},
     "output_type": "execute_result"
    }
   ],
   "source": [
    "dfc"
   ]
  },
  {
   "cell_type": "code",
   "execution_count": 91,
   "metadata": {
    "collapsed": true
   },
   "outputs": [],
   "source": [
    "dfc.loc[0,'A'] = 11"
   ]
  },
  {
   "cell_type": "code",
   "execution_count": 94,
   "metadata": {},
   "outputs": [
    {
     "data": {
      "text/html": [
       "<div>\n",
       "<style>\n",
       "    .dataframe thead tr:only-child th {\n",
       "        text-align: right;\n",
       "    }\n",
       "\n",
       "    .dataframe thead th {\n",
       "        text-align: left;\n",
       "    }\n",
       "\n",
       "    .dataframe tbody tr th {\n",
       "        vertical-align: top;\n",
       "    }\n",
       "</style>\n",
       "<table border=\"1\" class=\"dataframe\">\n",
       "  <thead>\n",
       "    <tr style=\"text-align: right;\">\n",
       "      <th></th>\n",
       "      <th>A</th>\n",
       "      <th>B</th>\n",
       "    </tr>\n",
       "  </thead>\n",
       "  <tbody>\n",
       "    <tr>\n",
       "      <th>0</th>\n",
       "      <td>11</td>\n",
       "      <td>1</td>\n",
       "    </tr>\n",
       "    <tr>\n",
       "      <th>1</th>\n",
       "      <td>bbb</td>\n",
       "      <td>2</td>\n",
       "    </tr>\n",
       "    <tr>\n",
       "      <th>2</th>\n",
       "      <td>ccc</td>\n",
       "      <td>3</td>\n",
       "    </tr>\n",
       "  </tbody>\n",
       "</table>\n",
       "</div>"
      ],
      "text/plain": [
       "     A  B\n",
       "0   11  1\n",
       "1  bbb  2\n",
       "2  ccc  3"
      ]
     },
     "execution_count": 94,
     "metadata": {},
     "output_type": "execute_result"
    }
   ],
   "source": [
    "dfc.loc[:]"
   ]
  },
  {
   "cell_type": "code",
   "execution_count": null,
   "metadata": {
    "collapsed": true
   },
   "outputs": [],
   "source": []
  },
  {
   "cell_type": "code",
   "execution_count": null,
   "metadata": {
    "collapsed": true
   },
   "outputs": [],
   "source": []
  },
  {
   "cell_type": "code",
   "execution_count": null,
   "metadata": {
    "collapsed": true
   },
   "outputs": [],
   "source": []
  },
  {
   "cell_type": "code",
   "execution_count": null,
   "metadata": {
    "collapsed": true
   },
   "outputs": [],
   "source": []
  },
  {
   "cell_type": "code",
   "execution_count": null,
   "metadata": {
    "collapsed": true
   },
   "outputs": [],
   "source": []
  }
 ],
 "metadata": {
  "kernelspec": {
   "display_name": "Python 3",
   "language": "python",
   "name": "python3"
  },
  "language_info": {
   "codemirror_mode": {
    "name": "ipython",
    "version": 3
   },
   "file_extension": ".py",
   "mimetype": "text/x-python",
   "name": "python",
   "nbconvert_exporter": "python",
   "pygments_lexer": "ipython3",
   "version": "3.6.2"
  }
 },
 "nbformat": 4,
 "nbformat_minor": 2
}
