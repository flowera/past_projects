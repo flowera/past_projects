{
 "cells": [
  {
   "cell_type": "code",
   "execution_count": 87,
   "metadata": {
    "collapsed": true
   },
   "outputs": [],
   "source": []
  },
  {
   "cell_type": "markdown",
   "metadata": {},
   "source": [
    "# Pandas 0.20.3 documentation \n",
    "<a href = 'http://pandas.pydata.org/pandas-docs/stable/io.html#basic'>Click here for details ...</a>\n",
    "\n",
    "http://jupyter.readthedocs.io/en/latest/running.html\n",
    "\n",
    "http://pandas.pydata.org/pandas-docs/stable/io.html#basic\n"
   ]
  },
  {
   "cell_type": "code",
   "execution_count": null,
   "metadata": {
    "collapsed": true
   },
   "outputs": [],
   "source": []
  },
  {
   "cell_type": "code",
   "execution_count": 17,
   "metadata": {
    "collapsed": true
   },
   "outputs": [],
   "source": [
    "import pandas as pd\n",
    "import numpy as np\n",
    "df = pd.read_csv(\"C:/Users/GuoRubing/Google Drive/Python/uams_reports_test/sap_test.csv\")"
   ]
  },
  {
   "cell_type": "code",
   "execution_count": 18,
   "metadata": {
    "scrolled": false
   },
   "outputs": [
    {
     "data": {
      "text/html": [
       "<div>\n",
       "<table border=\"1\" class=\"dataframe\">\n",
       "  <thead>\n",
       "    <tr style=\"text-align: right;\">\n",
       "      <th></th>\n",
       "      <th>PO Number</th>\n",
       "      <th>PO Line</th>\n",
       "      <th>Cont Ind</th>\n",
       "      <th>Contract</th>\n",
       "      <th>Cont Type</th>\n",
       "      <th>Invoice Date</th>\n",
       "      <th>Invoice No</th>\n",
       "      <th>Vendor Reference</th>\n",
       "      <th>Date PO Created</th>\n",
       "      <th>Total Cost per Line</th>\n",
       "      <th>...</th>\n",
       "      <th>Manufacturer Name</th>\n",
       "      <th>UNSPSC code</th>\n",
       "      <th>UNSPSC Desc</th>\n",
       "      <th>Purch Gp</th>\n",
       "      <th>Buyer Name</th>\n",
       "      <th>Case No</th>\n",
       "      <th>SQ Cart No</th>\n",
       "      <th>Req No</th>\n",
       "      <th>Req Line</th>\n",
       "      <th>PO Unit Price</th>\n",
       "    </tr>\n",
       "  </thead>\n",
       "  <tbody>\n",
       "    <tr>\n",
       "      <th>0</th>\n",
       "      <td>4.500134e+09</td>\n",
       "      <td>300.0</td>\n",
       "      <td>NaN</td>\n",
       "      <td>NONC1500-M</td>\n",
       "      <td>NaN</td>\n",
       "      <td>1/22/2016</td>\n",
       "      <td>5.109316e+09</td>\n",
       "      <td>1.093508e+09</td>\n",
       "      <td>1/19/2016</td>\n",
       "      <td>260.81</td>\n",
       "      <td>...</td>\n",
       "      <td>MEDLINE INDUSTRIES INC</td>\n",
       "      <td>42182201.0</td>\n",
       "      <td>ELECTRONIC MEDICAL THERMOMETERS</td>\n",
       "      <td>WB</td>\n",
       "      <td>Janice Carter</td>\n",
       "      <td>NaN</td>\n",
       "      <td>NaN</td>\n",
       "      <td>12101312.0</td>\n",
       "      <td>10.0</td>\n",
       "      <td>260.81</td>\n",
       "    </tr>\n",
       "    <tr>\n",
       "      <th>1</th>\n",
       "      <td>4.500134e+09</td>\n",
       "      <td>3.0</td>\n",
       "      <td>NaN</td>\n",
       "      <td>NaN</td>\n",
       "      <td>NaN</td>\n",
       "      <td>1/21/2016</td>\n",
       "      <td>5.109316e+09</td>\n",
       "      <td>5.109316e+09</td>\n",
       "      <td>1/19/2016</td>\n",
       "      <td>34.20</td>\n",
       "      <td>...</td>\n",
       "      <td>FISHER HEALTHCARE</td>\n",
       "      <td>41112220.0</td>\n",
       "      <td>LABORATORY FREEZER OR REFRIGERATOR THERMOMETERS</td>\n",
       "      <td>WB</td>\n",
       "      <td>Janice Carter</td>\n",
       "      <td>NaN</td>\n",
       "      <td>NaN</td>\n",
       "      <td>12101192.0</td>\n",
       "      <td>10.0</td>\n",
       "      <td>5.70</td>\n",
       "    </tr>\n",
       "    <tr>\n",
       "      <th>2</th>\n",
       "      <td>4.500134e+09</td>\n",
       "      <td>1.0</td>\n",
       "      <td>NaN</td>\n",
       "      <td>NaN</td>\n",
       "      <td>NaN</td>\n",
       "      <td>2/2/2016</td>\n",
       "      <td>5.109324e+09</td>\n",
       "      <td>5.109324e+09</td>\n",
       "      <td>1/27/2016</td>\n",
       "      <td>5.70</td>\n",
       "      <td>...</td>\n",
       "      <td>FISHER HEALTHCARE</td>\n",
       "      <td>41112220.0</td>\n",
       "      <td>LABORATORY FREEZER OR REFRIGERATOR THERMOMETERS</td>\n",
       "      <td>WB</td>\n",
       "      <td>Janice Carter</td>\n",
       "      <td>NaN</td>\n",
       "      <td>NaN</td>\n",
       "      <td>12105105.0</td>\n",
       "      <td>10.0</td>\n",
       "      <td>5.70</td>\n",
       "    </tr>\n",
       "    <tr>\n",
       "      <th>3</th>\n",
       "      <td>4.500135e+09</td>\n",
       "      <td>285.0</td>\n",
       "      <td>NaN</td>\n",
       "      <td>NONC1500-M</td>\n",
       "      <td>NaN</td>\n",
       "      <td>2/23/2016</td>\n",
       "      <td>5.109339e+09</td>\n",
       "      <td>1.094749e+09</td>\n",
       "      <td>2/16/2016</td>\n",
       "      <td>260.81</td>\n",
       "      <td>...</td>\n",
       "      <td>MEDLINE INDUSTRIES INC</td>\n",
       "      <td>42182201.0</td>\n",
       "      <td>ELECTRONIC MEDICAL THERMOMETERS</td>\n",
       "      <td>WB</td>\n",
       "      <td>Janice Carter</td>\n",
       "      <td>NaN</td>\n",
       "      <td>NaN</td>\n",
       "      <td>12114089.0</td>\n",
       "      <td>10.0</td>\n",
       "      <td>260.81</td>\n",
       "    </tr>\n",
       "    <tr>\n",
       "      <th>4</th>\n",
       "      <td>4.500135e+09</td>\n",
       "      <td>2.0</td>\n",
       "      <td>NaN</td>\n",
       "      <td>NONC1500-M</td>\n",
       "      <td>NaN</td>\n",
       "      <td>2/29/2016</td>\n",
       "      <td>5.109344e+09</td>\n",
       "      <td>1.094976e+09</td>\n",
       "      <td>2/26/2016</td>\n",
       "      <td>22.32</td>\n",
       "      <td>...</td>\n",
       "      <td>MEDLINE INDUSTRIES INC</td>\n",
       "      <td>42182201.0</td>\n",
       "      <td>ELECTRONIC MEDICAL THERMOMETERS</td>\n",
       "      <td>LB</td>\n",
       "      <td>LUM Buyer</td>\n",
       "      <td>NaN</td>\n",
       "      <td>NaN</td>\n",
       "      <td>12119375.0</td>\n",
       "      <td>26.0</td>\n",
       "      <td>1.86</td>\n",
       "    </tr>\n",
       "  </tbody>\n",
       "</table>\n",
       "<p>5 rows × 52 columns</p>\n",
       "</div>"
      ],
      "text/plain": [
       "      PO Number  PO Line Cont Ind    Contract Cont Type Invoice Date  \\\n",
       "0  4.500134e+09    300.0      NaN  NONC1500-M       NaN    1/22/2016   \n",
       "1  4.500134e+09      3.0      NaN         NaN       NaN    1/21/2016   \n",
       "2  4.500134e+09      1.0      NaN         NaN       NaN     2/2/2016   \n",
       "3  4.500135e+09    285.0      NaN  NONC1500-M       NaN    2/23/2016   \n",
       "4  4.500135e+09      2.0      NaN  NONC1500-M       NaN    2/29/2016   \n",
       "\n",
       "     Invoice No  Vendor Reference Date PO Created Total Cost per Line  \\\n",
       "0  5.109316e+09      1.093508e+09       1/19/2016              260.81   \n",
       "1  5.109316e+09      5.109316e+09       1/19/2016               34.20   \n",
       "2  5.109324e+09      5.109324e+09       1/27/2016                5.70   \n",
       "3  5.109339e+09      1.094749e+09       2/16/2016              260.81   \n",
       "4  5.109344e+09      1.094976e+09       2/26/2016               22.32   \n",
       "\n",
       "       ...             Manufacturer Name  UNSPSC code  \\\n",
       "0      ...        MEDLINE INDUSTRIES INC   42182201.0   \n",
       "1      ...             FISHER HEALTHCARE   41112220.0   \n",
       "2      ...             FISHER HEALTHCARE   41112220.0   \n",
       "3      ...        MEDLINE INDUSTRIES INC   42182201.0   \n",
       "4      ...        MEDLINE INDUSTRIES INC   42182201.0   \n",
       "\n",
       "                                       UNSPSC Desc  Purch Gp     Buyer Name  \\\n",
       "0                  ELECTRONIC MEDICAL THERMOMETERS        WB  Janice Carter   \n",
       "1  LABORATORY FREEZER OR REFRIGERATOR THERMOMETERS        WB  Janice Carter   \n",
       "2  LABORATORY FREEZER OR REFRIGERATOR THERMOMETERS        WB  Janice Carter   \n",
       "3                  ELECTRONIC MEDICAL THERMOMETERS        WB  Janice Carter   \n",
       "4                  ELECTRONIC MEDICAL THERMOMETERS        LB      LUM Buyer   \n",
       "\n",
       "   Case No SQ Cart No      Req No Req Line  PO Unit Price  \n",
       "0      NaN        NaN  12101312.0     10.0         260.81  \n",
       "1      NaN        NaN  12101192.0     10.0           5.70  \n",
       "2      NaN        NaN  12105105.0     10.0           5.70  \n",
       "3      NaN        NaN  12114089.0     10.0         260.81  \n",
       "4      NaN        NaN  12119375.0     26.0           1.86  \n",
       "\n",
       "[5 rows x 52 columns]"
      ]
     },
     "execution_count": 18,
     "metadata": {},
     "output_type": "execute_result"
    }
   ],
   "source": [
    "df.head()"
   ]
  },
  {
   "cell_type": "code",
   "execution_count": 25,
   "metadata": {},
   "outputs": [
    {
     "data": {
      "text/plain": [
       "33"
      ]
     },
     "execution_count": 25,
     "metadata": {},
     "output_type": "execute_result"
    }
   ],
   "source": [
    "len(df.index) # sum total row Number"
   ]
  },
  {
   "cell_type": "code",
   "execution_count": 26,
   "metadata": {},
   "outputs": [
    {
     "data": {
      "text/html": [
       "<div>\n",
       "<table border=\"1\" class=\"dataframe\">\n",
       "  <thead>\n",
       "    <tr style=\"text-align: right;\">\n",
       "      <th></th>\n",
       "      <th>PO Number</th>\n",
       "      <th>PO Line</th>\n",
       "      <th>Cont Ind</th>\n",
       "      <th>Contract</th>\n",
       "      <th>Cont Type</th>\n",
       "      <th>Invoice Date</th>\n",
       "      <th>Invoice No</th>\n",
       "      <th>Vendor Reference</th>\n",
       "      <th>Date PO Created</th>\n",
       "      <th>Total Cost per Line</th>\n",
       "      <th>...</th>\n",
       "      <th>Manufacturer Name</th>\n",
       "      <th>UNSPSC code</th>\n",
       "      <th>UNSPSC Desc</th>\n",
       "      <th>Purch Gp</th>\n",
       "      <th>Buyer Name</th>\n",
       "      <th>Case No</th>\n",
       "      <th>SQ Cart No</th>\n",
       "      <th>Req No</th>\n",
       "      <th>Req Line</th>\n",
       "      <th>PO Unit Price</th>\n",
       "    </tr>\n",
       "  </thead>\n",
       "  <tbody>\n",
       "    <tr>\n",
       "      <th>32</th>\n",
       "      <td>NaN</td>\n",
       "      <td>NaN</td>\n",
       "      <td>NaN</td>\n",
       "      <td>NaN</td>\n",
       "      <td>NaN</td>\n",
       "      <td>NaN</td>\n",
       "      <td>NaN</td>\n",
       "      <td>NaN</td>\n",
       "      <td>NaN</td>\n",
       "      <td>5,147.42</td>\n",
       "      <td>...</td>\n",
       "      <td>NaN</td>\n",
       "      <td>NaN</td>\n",
       "      <td>NaN</td>\n",
       "      <td>NaN</td>\n",
       "      <td>NaN</td>\n",
       "      <td>NaN</td>\n",
       "      <td>NaN</td>\n",
       "      <td>NaN</td>\n",
       "      <td>NaN</td>\n",
       "      <td>NaN</td>\n",
       "    </tr>\n",
       "  </tbody>\n",
       "</table>\n",
       "<p>1 rows × 52 columns</p>\n",
       "</div>"
      ],
      "text/plain": [
       "    PO Number  PO Line Cont Ind Contract Cont Type Invoice Date  Invoice No  \\\n",
       "32        NaN      NaN      NaN      NaN       NaN          NaN         NaN   \n",
       "\n",
       "    Vendor Reference Date PO Created Total Cost per Line      ...        \\\n",
       "32               NaN             NaN            5,147.42      ...         \n",
       "\n",
       "    Manufacturer Name  UNSPSC code  UNSPSC Desc  Purch Gp  Buyer Name  \\\n",
       "32                NaN          NaN          NaN       NaN         NaN   \n",
       "\n",
       "    Case No SQ Cart No Req No Req Line  PO Unit Price  \n",
       "32      NaN        NaN    NaN      NaN            NaN  \n",
       "\n",
       "[1 rows x 52 columns]"
      ]
     },
     "execution_count": 26,
     "metadata": {},
     "output_type": "execute_result"
    }
   ],
   "source": [
    "df.tail(1) #last row as df"
   ]
  },
  {
   "cell_type": "code",
   "execution_count": 27,
   "metadata": {
    "collapsed": true
   },
   "outputs": [],
   "source": [
    "df_sap = df[df['Qty Paid'] != 0]"
   ]
  },
  {
   "cell_type": "code",
   "execution_count": null,
   "metadata": {},
   "outputs": [],
   "source": []
  },
  {
   "cell_type": "code",
   "execution_count": 29,
   "metadata": {},
   "outputs": [
    {
     "data": {
      "text/html": [
       "<div>\n",
       "<table border=\"1\" class=\"dataframe\">\n",
       "  <thead>\n",
       "    <tr style=\"text-align: right;\">\n",
       "      <th></th>\n",
       "      <th>MPN-UOM</th>\n",
       "      <th>Date PO Created</th>\n",
       "      <th>Description</th>\n",
       "      <th>Unit Price less Dist Fee</th>\n",
       "    </tr>\n",
       "  </thead>\n",
       "  <tbody>\n",
       "    <tr>\n",
       "      <th>0</th>\n",
       "      <td>MDS9950-CS</td>\n",
       "      <td>1/19/2016</td>\n",
       "      <td>THERMOMETER ORAL ELEC DGTL SCALE 144/CS</td>\n",
       "      <td>256.32</td>\n",
       "    </tr>\n",
       "    <tr>\n",
       "      <th>1</th>\n",
       "      <td>13-201-966-EA</td>\n",
       "      <td>1/19/2016</td>\n",
       "      <td>THERMOMETER 15105S FRZ-GUIDE -40 TO +80</td>\n",
       "      <td>5.70</td>\n",
       "    </tr>\n",
       "    <tr>\n",
       "      <th>2</th>\n",
       "      <td>13-201-966-EA</td>\n",
       "      <td>1/27/2016</td>\n",
       "      <td>THERMOMETER 15105S FRZ-GUIDE -40 TO +80</td>\n",
       "      <td>5.70</td>\n",
       "    </tr>\n",
       "    <tr>\n",
       "      <th>3</th>\n",
       "      <td>MDS9950-CS</td>\n",
       "      <td>2/16/2016</td>\n",
       "      <td>THERMOMETER ORAL ELEC DGTL SCALE 144/CS</td>\n",
       "      <td>256.32</td>\n",
       "    </tr>\n",
       "    <tr>\n",
       "      <th>4</th>\n",
       "      <td>MDS9950-EA</td>\n",
       "      <td>2/26/2016</td>\n",
       "      <td>THERMOMETER ORAL ELEC DGTL SCALE</td>\n",
       "      <td>1.83</td>\n",
       "    </tr>\n",
       "  </tbody>\n",
       "</table>\n",
       "</div>"
      ],
      "text/plain": [
       "         MPN-UOM Date PO Created                              Description  \\\n",
       "0     MDS9950-CS       1/19/2016  THERMOMETER ORAL ELEC DGTL SCALE 144/CS   \n",
       "1  13-201-966-EA       1/19/2016  THERMOMETER 15105S FRZ-GUIDE -40 TO +80   \n",
       "2  13-201-966-EA       1/27/2016  THERMOMETER 15105S FRZ-GUIDE -40 TO +80   \n",
       "3     MDS9950-CS       2/16/2016  THERMOMETER ORAL ELEC DGTL SCALE 144/CS   \n",
       "4     MDS9950-EA       2/26/2016         THERMOMETER ORAL ELEC DGTL SCALE   \n",
       "\n",
       "   Unit Price less Dist Fee  \n",
       "0                    256.32  \n",
       "1                      5.70  \n",
       "2                      5.70  \n",
       "3                    256.32  \n",
       "4                      1.83  "
      ]
     },
     "execution_count": 29,
     "metadata": {},
     "output_type": "execute_result"
    }
   ],
   "source": [
    "\n",
    "\n",
    "# Last Tab \n",
    "s1 = df_sap['Manufacturer Part No']\n",
    "s2 = df_sap['U O M']\n",
    "df_sap['MPN-UOM'] = s1.str.cat(s2, sep = '-')\n",
    "\n",
    "s3 = df_sap['MPN-UOM']\n",
    "s4 = df_sap['Date PO Created']\n",
    "s5 = df_sap['Description']\n",
    "s6 = df_sap['Unit Price less Dist Fee']\n",
    "pd.concat([s3, s4, s5, s6], axis=1).head()\n",
    "\n"
   ]
  },
  {
   "cell_type": "code",
   "execution_count": 32,
   "metadata": {},
   "outputs": [],
   "source": [
    "#df_SAP['Manufacturer Part No'] +'--'+ df_SAP['U O M']"
   ]
  },
  {
   "cell_type": "code",
   "execution_count": 34,
   "metadata": {},
   "outputs": [],
   "source": [
    "\n",
    "s1 = df_SAP['Manufacturer Part No']\n",
    "s2 = df_SAP['U O M']\n",
    "pd.concat([s1, s2], axis=1).head()\n",
    "df_SAP['MPN-UOM'] = s1.str.cat(s2, sep = '-')\n",
    "\n",
    "# Series Concatenate\n",
    "#pd.concat([s1, s2], axis=1) "
   ]
  },
  {
   "cell_type": "code",
   "execution_count": 35,
   "metadata": {},
   "outputs": [
    {
     "data": {
      "text/plain": [
       "'a+b'"
      ]
     },
     "execution_count": 35,
     "metadata": {},
     "output_type": "execute_result"
    }
   ],
   "source": [
    "'+'.join(['a', 'b'])"
   ]
  },
  {
   "cell_type": "code",
   "execution_count": 36,
   "metadata": {},
   "outputs": [
    {
     "data": {
      "text/plain": [
       "0       MDS9950-CS\n",
       "1    13-201-966-EA\n",
       "2    13-201-966-EA\n",
       "3       MDS9950-CS\n",
       "4       MDS9950-EA\n",
       "Name: Manufacturer Part No, dtype: object"
      ]
     },
     "execution_count": 36,
     "metadata": {},
     "output_type": "execute_result"
    }
   ],
   "source": [
    "#Series(['a', 'b', 'c']).str.cat(['A', 'B', 'C'], sep=',')\n",
    "s1.str.cat(s2, sep = '-').head()"
   ]
  },
  {
   "cell_type": "code",
   "execution_count": 37,
   "metadata": {},
   "outputs": [
    {
     "data": {
      "text/html": [
       "<div>\n",
       "<table border=\"1\" class=\"dataframe\">\n",
       "  <thead>\n",
       "    <tr style=\"text-align: right;\">\n",
       "      <th></th>\n",
       "      <th>PO Number</th>\n",
       "      <th>PO Line</th>\n",
       "      <th>Cont Ind</th>\n",
       "      <th>Contract</th>\n",
       "      <th>Cont Type</th>\n",
       "      <th>Invoice Date</th>\n",
       "      <th>Invoice No</th>\n",
       "      <th>Vendor Reference</th>\n",
       "      <th>Date PO Created</th>\n",
       "      <th>Total Cost per Line</th>\n",
       "      <th>...</th>\n",
       "      <th>UNSPSC code</th>\n",
       "      <th>UNSPSC Desc</th>\n",
       "      <th>Purch Gp</th>\n",
       "      <th>Buyer Name</th>\n",
       "      <th>Case No</th>\n",
       "      <th>SQ Cart No</th>\n",
       "      <th>Req No</th>\n",
       "      <th>Req Line</th>\n",
       "      <th>PO Unit Price</th>\n",
       "      <th>MPN-UOM</th>\n",
       "    </tr>\n",
       "  </thead>\n",
       "  <tbody>\n",
       "    <tr>\n",
       "      <th>0</th>\n",
       "      <td>4.500134e+09</td>\n",
       "      <td>300.0</td>\n",
       "      <td>NaN</td>\n",
       "      <td>NONC1500-M</td>\n",
       "      <td>NaN</td>\n",
       "      <td>1/22/2016</td>\n",
       "      <td>5.109316e+09</td>\n",
       "      <td>1.093508e+09</td>\n",
       "      <td>1/19/2016</td>\n",
       "      <td>260.81</td>\n",
       "      <td>...</td>\n",
       "      <td>42182201.0</td>\n",
       "      <td>ELECTRONIC MEDICAL THERMOMETERS</td>\n",
       "      <td>WB</td>\n",
       "      <td>Janice Carter</td>\n",
       "      <td>NaN</td>\n",
       "      <td>NaN</td>\n",
       "      <td>12101312.0</td>\n",
       "      <td>10.0</td>\n",
       "      <td>260.81</td>\n",
       "      <td>MDS9950-CS</td>\n",
       "    </tr>\n",
       "    <tr>\n",
       "      <th>1</th>\n",
       "      <td>4.500134e+09</td>\n",
       "      <td>3.0</td>\n",
       "      <td>NaN</td>\n",
       "      <td>NaN</td>\n",
       "      <td>NaN</td>\n",
       "      <td>1/21/2016</td>\n",
       "      <td>5.109316e+09</td>\n",
       "      <td>5.109316e+09</td>\n",
       "      <td>1/19/2016</td>\n",
       "      <td>34.20</td>\n",
       "      <td>...</td>\n",
       "      <td>41112220.0</td>\n",
       "      <td>LABORATORY FREEZER OR REFRIGERATOR THERMOMETERS</td>\n",
       "      <td>WB</td>\n",
       "      <td>Janice Carter</td>\n",
       "      <td>NaN</td>\n",
       "      <td>NaN</td>\n",
       "      <td>12101192.0</td>\n",
       "      <td>10.0</td>\n",
       "      <td>5.70</td>\n",
       "      <td>13-201-966-EA</td>\n",
       "    </tr>\n",
       "    <tr>\n",
       "      <th>2</th>\n",
       "      <td>4.500134e+09</td>\n",
       "      <td>1.0</td>\n",
       "      <td>NaN</td>\n",
       "      <td>NaN</td>\n",
       "      <td>NaN</td>\n",
       "      <td>2/2/2016</td>\n",
       "      <td>5.109324e+09</td>\n",
       "      <td>5.109324e+09</td>\n",
       "      <td>1/27/2016</td>\n",
       "      <td>5.70</td>\n",
       "      <td>...</td>\n",
       "      <td>41112220.0</td>\n",
       "      <td>LABORATORY FREEZER OR REFRIGERATOR THERMOMETERS</td>\n",
       "      <td>WB</td>\n",
       "      <td>Janice Carter</td>\n",
       "      <td>NaN</td>\n",
       "      <td>NaN</td>\n",
       "      <td>12105105.0</td>\n",
       "      <td>10.0</td>\n",
       "      <td>5.70</td>\n",
       "      <td>13-201-966-EA</td>\n",
       "    </tr>\n",
       "    <tr>\n",
       "      <th>3</th>\n",
       "      <td>4.500135e+09</td>\n",
       "      <td>285.0</td>\n",
       "      <td>NaN</td>\n",
       "      <td>NONC1500-M</td>\n",
       "      <td>NaN</td>\n",
       "      <td>2/23/2016</td>\n",
       "      <td>5.109339e+09</td>\n",
       "      <td>1.094749e+09</td>\n",
       "      <td>2/16/2016</td>\n",
       "      <td>260.81</td>\n",
       "      <td>...</td>\n",
       "      <td>42182201.0</td>\n",
       "      <td>ELECTRONIC MEDICAL THERMOMETERS</td>\n",
       "      <td>WB</td>\n",
       "      <td>Janice Carter</td>\n",
       "      <td>NaN</td>\n",
       "      <td>NaN</td>\n",
       "      <td>12114089.0</td>\n",
       "      <td>10.0</td>\n",
       "      <td>260.81</td>\n",
       "      <td>MDS9950-CS</td>\n",
       "    </tr>\n",
       "    <tr>\n",
       "      <th>4</th>\n",
       "      <td>4.500135e+09</td>\n",
       "      <td>2.0</td>\n",
       "      <td>NaN</td>\n",
       "      <td>NONC1500-M</td>\n",
       "      <td>NaN</td>\n",
       "      <td>2/29/2016</td>\n",
       "      <td>5.109344e+09</td>\n",
       "      <td>1.094976e+09</td>\n",
       "      <td>2/26/2016</td>\n",
       "      <td>22.32</td>\n",
       "      <td>...</td>\n",
       "      <td>42182201.0</td>\n",
       "      <td>ELECTRONIC MEDICAL THERMOMETERS</td>\n",
       "      <td>LB</td>\n",
       "      <td>LUM Buyer</td>\n",
       "      <td>NaN</td>\n",
       "      <td>NaN</td>\n",
       "      <td>12119375.0</td>\n",
       "      <td>26.0</td>\n",
       "      <td>1.86</td>\n",
       "      <td>MDS9950-EA</td>\n",
       "    </tr>\n",
       "  </tbody>\n",
       "</table>\n",
       "<p>5 rows × 53 columns</p>\n",
       "</div>"
      ],
      "text/plain": [
       "      PO Number  PO Line Cont Ind    Contract Cont Type Invoice Date  \\\n",
       "0  4.500134e+09    300.0      NaN  NONC1500-M       NaN    1/22/2016   \n",
       "1  4.500134e+09      3.0      NaN         NaN       NaN    1/21/2016   \n",
       "2  4.500134e+09      1.0      NaN         NaN       NaN     2/2/2016   \n",
       "3  4.500135e+09    285.0      NaN  NONC1500-M       NaN    2/23/2016   \n",
       "4  4.500135e+09      2.0      NaN  NONC1500-M       NaN    2/29/2016   \n",
       "\n",
       "     Invoice No  Vendor Reference Date PO Created Total Cost per Line  \\\n",
       "0  5.109316e+09      1.093508e+09       1/19/2016              260.81   \n",
       "1  5.109316e+09      5.109316e+09       1/19/2016               34.20   \n",
       "2  5.109324e+09      5.109324e+09       1/27/2016                5.70   \n",
       "3  5.109339e+09      1.094749e+09       2/16/2016              260.81   \n",
       "4  5.109344e+09      1.094976e+09       2/26/2016               22.32   \n",
       "\n",
       "       ...        UNSPSC code  \\\n",
       "0      ...         42182201.0   \n",
       "1      ...         41112220.0   \n",
       "2      ...         41112220.0   \n",
       "3      ...         42182201.0   \n",
       "4      ...         42182201.0   \n",
       "\n",
       "                                       UNSPSC Desc  Purch Gp     Buyer Name  \\\n",
       "0                  ELECTRONIC MEDICAL THERMOMETERS        WB  Janice Carter   \n",
       "1  LABORATORY FREEZER OR REFRIGERATOR THERMOMETERS        WB  Janice Carter   \n",
       "2  LABORATORY FREEZER OR REFRIGERATOR THERMOMETERS        WB  Janice Carter   \n",
       "3                  ELECTRONIC MEDICAL THERMOMETERS        WB  Janice Carter   \n",
       "4                  ELECTRONIC MEDICAL THERMOMETERS        LB      LUM Buyer   \n",
       "\n",
       "   Case No  SQ Cart No      Req No Req Line PO Unit Price        MPN-UOM  \n",
       "0      NaN         NaN  12101312.0     10.0        260.81     MDS9950-CS  \n",
       "1      NaN         NaN  12101192.0     10.0          5.70  13-201-966-EA  \n",
       "2      NaN         NaN  12105105.0     10.0          5.70  13-201-966-EA  \n",
       "3      NaN         NaN  12114089.0     10.0        260.81     MDS9950-CS  \n",
       "4      NaN         NaN  12119375.0     26.0          1.86     MDS9950-EA  \n",
       "\n",
       "[5 rows x 53 columns]"
      ]
     },
     "execution_count": 37,
     "metadata": {},
     "output_type": "execute_result"
    }
   ],
   "source": [
    "df_SAP.head()"
   ]
  },
  {
   "cell_type": "code",
   "execution_count": 38,
   "metadata": {},
   "outputs": [
    {
     "data": {
      "text/html": [
       "<div>\n",
       "<table border=\"1\" class=\"dataframe\">\n",
       "  <thead>\n",
       "    <tr style=\"text-align: right;\">\n",
       "      <th></th>\n",
       "      <th>PO Number</th>\n",
       "      <th>PO Line</th>\n",
       "    </tr>\n",
       "  </thead>\n",
       "  <tbody>\n",
       "    <tr>\n",
       "      <th>0</th>\n",
       "      <td>4.500134e+09</td>\n",
       "      <td>300.0</td>\n",
       "    </tr>\n",
       "    <tr>\n",
       "      <th>1</th>\n",
       "      <td>4.500134e+09</td>\n",
       "      <td>3.0</td>\n",
       "    </tr>\n",
       "    <tr>\n",
       "      <th>2</th>\n",
       "      <td>4.500134e+09</td>\n",
       "      <td>1.0</td>\n",
       "    </tr>\n",
       "    <tr>\n",
       "      <th>3</th>\n",
       "      <td>4.500135e+09</td>\n",
       "      <td>285.0</td>\n",
       "    </tr>\n",
       "    <tr>\n",
       "      <th>4</th>\n",
       "      <td>4.500135e+09</td>\n",
       "      <td>2.0</td>\n",
       "    </tr>\n",
       "  </tbody>\n",
       "</table>\n",
       "</div>"
      ],
      "text/plain": [
       "      PO Number  PO Line\n",
       "0  4.500134e+09    300.0\n",
       "1  4.500134e+09      3.0\n",
       "2  4.500134e+09      1.0\n",
       "3  4.500135e+09    285.0\n",
       "4  4.500135e+09      2.0"
      ]
     },
     "execution_count": 38,
     "metadata": {},
     "output_type": "execute_result"
    }
   ],
   "source": [
    "df_SAP.ix[:,0:2].head()"
   ]
  },
  {
   "cell_type": "code",
   "execution_count": 39,
   "metadata": {},
   "outputs": [
    {
     "data": {
      "text/html": [
       "<div>\n",
       "<table border=\"1\" class=\"dataframe\">\n",
       "  <thead>\n",
       "    <tr style=\"text-align: right;\">\n",
       "      <th></th>\n",
       "      <th>MPN-UOM</th>\n",
       "      <th>Date PO Created</th>\n",
       "      <th>Description</th>\n",
       "      <th>Unit Price less Dist Fee</th>\n",
       "    </tr>\n",
       "  </thead>\n",
       "  <tbody>\n",
       "    <tr>\n",
       "      <th>4</th>\n",
       "      <td>MDS9950-EA</td>\n",
       "      <td>2/26/2016</td>\n",
       "      <td>THERMOMETER ORAL ELEC DGTL SCALE</td>\n",
       "      <td>1.83</td>\n",
       "    </tr>\n",
       "    <tr>\n",
       "      <th>3</th>\n",
       "      <td>MDS9950-CS</td>\n",
       "      <td>2/16/2016</td>\n",
       "      <td>THERMOMETER ORAL ELEC DGTL SCALE 144/CS</td>\n",
       "      <td>256.32</td>\n",
       "    </tr>\n",
       "    <tr>\n",
       "      <th>2</th>\n",
       "      <td>13-201-966-EA</td>\n",
       "      <td>1/27/2016</td>\n",
       "      <td>THERMOMETER 15105S FRZ-GUIDE -40 TO +80</td>\n",
       "      <td>5.70</td>\n",
       "    </tr>\n",
       "    <tr>\n",
       "      <th>1</th>\n",
       "      <td>13-201-966-EA</td>\n",
       "      <td>1/19/2016</td>\n",
       "      <td>THERMOMETER 15105S FRZ-GUIDE -40 TO +80</td>\n",
       "      <td>5.70</td>\n",
       "    </tr>\n",
       "    <tr>\n",
       "      <th>0</th>\n",
       "      <td>MDS9950-CS</td>\n",
       "      <td>1/19/2016</td>\n",
       "      <td>THERMOMETER ORAL ELEC DGTL SCALE 144/CS</td>\n",
       "      <td>256.32</td>\n",
       "    </tr>\n",
       "  </tbody>\n",
       "</table>\n",
       "</div>"
      ],
      "text/plain": [
       "         MPN-UOM Date PO Created                              Description  \\\n",
       "4     MDS9950-EA       2/26/2016         THERMOMETER ORAL ELEC DGTL SCALE   \n",
       "3     MDS9950-CS       2/16/2016  THERMOMETER ORAL ELEC DGTL SCALE 144/CS   \n",
       "2  13-201-966-EA       1/27/2016  THERMOMETER 15105S FRZ-GUIDE -40 TO +80   \n",
       "1  13-201-966-EA       1/19/2016  THERMOMETER 15105S FRZ-GUIDE -40 TO +80   \n",
       "0     MDS9950-CS       1/19/2016  THERMOMETER ORAL ELEC DGTL SCALE 144/CS   \n",
       "\n",
       "   Unit Price less Dist Fee  \n",
       "4                      1.83  \n",
       "3                    256.32  \n",
       "2                      5.70  \n",
       "1                      5.70  \n",
       "0                    256.32  "
      ]
     },
     "execution_count": 39,
     "metadata": {},
     "output_type": "execute_result"
    }
   ],
   "source": [
    "# Last Tab \n",
    "s1 = df_SAP['Manufacturer Part No']\n",
    "s2 = df_SAP['U O M']\n",
    "s3 = df_SAP['MPN-UOM']\n",
    "s4 = df_SAP['Date PO Created']\n",
    "s5 = df_SAP['Description']\n",
    "s6 = df_SAP['Unit Price less Dist Fee']\n",
    "pd.concat([s3, s4, s5, s6], axis=1).head()\n",
    "df_last = pd.concat([s3, s4, s5, s6], axis=1).head()\n",
    "df_last = df_last.sort_values(['Date PO Created', 'MPN-UOM'],ascending = [0,1])\n",
    "df_last"
   ]
  },
  {
   "cell_type": "code",
   "execution_count": 40,
   "metadata": {},
   "outputs": [
    {
     "data": {
      "text/html": [
       "<div>\n",
       "<table border=\"1\" class=\"dataframe\">\n",
       "  <thead>\n",
       "    <tr style=\"text-align: right;\">\n",
       "      <th></th>\n",
       "      <th>MPN-UOM</th>\n",
       "      <th>Date PO Created</th>\n",
       "      <th>Description</th>\n",
       "      <th>Unit Price less Dist Fee</th>\n",
       "    </tr>\n",
       "  </thead>\n",
       "  <tbody>\n",
       "    <tr>\n",
       "      <th>4</th>\n",
       "      <td>MDS9950-EA</td>\n",
       "      <td>2/26/2016</td>\n",
       "      <td>THERMOMETER ORAL ELEC DGTL SCALE</td>\n",
       "      <td>1.83</td>\n",
       "    </tr>\n",
       "    <tr>\n",
       "      <th>3</th>\n",
       "      <td>MDS9950-CS</td>\n",
       "      <td>2/16/2016</td>\n",
       "      <td>THERMOMETER ORAL ELEC DGTL SCALE 144/CS</td>\n",
       "      <td>256.32</td>\n",
       "    </tr>\n",
       "    <tr>\n",
       "      <th>2</th>\n",
       "      <td>13-201-966-EA</td>\n",
       "      <td>1/27/2016</td>\n",
       "      <td>THERMOMETER 15105S FRZ-GUIDE -40 TO +80</td>\n",
       "      <td>5.70</td>\n",
       "    </tr>\n",
       "  </tbody>\n",
       "</table>\n",
       "</div>"
      ],
      "text/plain": [
       "         MPN-UOM Date PO Created                              Description  \\\n",
       "4     MDS9950-EA       2/26/2016         THERMOMETER ORAL ELEC DGTL SCALE   \n",
       "3     MDS9950-CS       2/16/2016  THERMOMETER ORAL ELEC DGTL SCALE 144/CS   \n",
       "2  13-201-966-EA       1/27/2016  THERMOMETER 15105S FRZ-GUIDE -40 TO +80   \n",
       "\n",
       "   Unit Price less Dist Fee  \n",
       "4                      1.83  \n",
       "3                    256.32  \n",
       "2                      5.70  "
      ]
     },
     "execution_count": 40,
     "metadata": {},
     "output_type": "execute_result"
    }
   ],
   "source": [
    "df_last.drop_duplicates(subset = ['MPN-UOM'], keep = 'first')"
   ]
  },
  {
   "cell_type": "code",
   "execution_count": 48,
   "metadata": {
    "scrolled": false
   },
   "outputs": [
    {
     "data": {
      "text/plain": [
       "Index([u'PO Number', u'PO Line', u'Cont Ind', u'Contract', u'Cont Type',\n",
       "       u'Invoice Date', u'Invoice No', u'Vendor Reference',\n",
       "       u'Date PO Created_x', u'Total Cost per Line', u'Freight Amt',\n",
       "       u'Unit Price', u'Unit Price less Dist Fee_x', u'Dist Fee %',\n",
       "       u'Dist Fee Amt', u'Qty Paid', u'MatGrp', u'U O M',\n",
       "       u'Material Group Desc', u'Item No', u'Stock', u'Description_x',\n",
       "       u'GL Acct', u'GL Acct Desc', u'Fund', u'Fund Ctr', u'Fund Ctr Desc',\n",
       "       u'Div Node', u'Division Desc', u'Dept Node', u'Department Desc',\n",
       "       u'Sub-Dept', u'Sub-Dept Desc', u'Cost Ctr', u'Recipient',\n",
       "       u'Unloading Pt', u'WBS Element', u'Vendor No', u'Vendor Name',\n",
       "       u'Vendor Mat Number', u'Manufacturer Part No', u'Manufacturer',\n",
       "       u'Manufacturer Name', u'UNSPSC code', u'UNSPSC Desc', u'Purch Gp',\n",
       "       u'Buyer Name', u'Case No', u'SQ Cart No', u'Req No', u'Req Line',\n",
       "       u'PO Unit Price', u'MPN-UOM', u'Date PO Created_y', u'Description_y',\n",
       "       u'Unit Price less Dist Fee_y'],\n",
       "      dtype='object')"
      ]
     },
     "execution_count": 48,
     "metadata": {},
     "output_type": "execute_result"
    }
   ],
   "source": [
    "df_sum = pd.merge(df_SAP, df_last, left_on = 'MPN-UOM', right_on = 'MPN-UOM', how='left')\n",
    "df_sum.columns"
   ]
  },
  {
   "cell_type": "code",
   "execution_count": 68,
   "metadata": {},
   "outputs": [
    {
     "data": {
      "text/html": [
       "<div>\n",
       "<table border=\"1\" class=\"dataframe\">\n",
       "  <thead>\n",
       "    <tr style=\"text-align: right;\">\n",
       "      <th></th>\n",
       "      <th></th>\n",
       "      <th></th>\n",
       "      <th></th>\n",
       "      <th>Qty Paid</th>\n",
       "      <th>Unit Price less Dist Fee_y</th>\n",
       "    </tr>\n",
       "    <tr>\n",
       "      <th>MPN-UOM</th>\n",
       "      <th>Vendor Mat Number</th>\n",
       "      <th>U O M</th>\n",
       "      <th>Unit Price less Dist Fee_y</th>\n",
       "      <th></th>\n",
       "      <th></th>\n",
       "    </tr>\n",
       "  </thead>\n",
       "  <tbody>\n",
       "    <tr>\n",
       "      <th>13-201-966-EA</th>\n",
       "      <th>13-201-966</th>\n",
       "      <th>EA</th>\n",
       "      <th>5.70</th>\n",
       "      <td>18.0</td>\n",
       "      <td>34.20</td>\n",
       "    </tr>\n",
       "    <tr>\n",
       "      <th>MDS9950-CS</th>\n",
       "      <th>MDS9950</th>\n",
       "      <th>CS</th>\n",
       "      <th>256.32</th>\n",
       "      <td>4.0</td>\n",
       "      <td>1025.28</td>\n",
       "    </tr>\n",
       "    <tr>\n",
       "      <th>MDS9950-EA</th>\n",
       "      <th>MDS9950H</th>\n",
       "      <th>EA</th>\n",
       "      <th>1.83</th>\n",
       "      <td>250.0</td>\n",
       "      <td>49.41</td>\n",
       "    </tr>\n",
       "  </tbody>\n",
       "</table>\n",
       "</div>"
      ],
      "text/plain": [
       "                                                                  Qty Paid  \\\n",
       "MPN-UOM       Vendor Mat Number U O M Unit Price less Dist Fee_y             \n",
       "13-201-966-EA 13-201-966        EA    5.70                            18.0   \n",
       "MDS9950-CS    MDS9950           CS    256.32                           4.0   \n",
       "MDS9950-EA    MDS9950H          EA    1.83                           250.0   \n",
       "\n",
       "                                                                  Unit Price less Dist Fee_y  \n",
       "MPN-UOM       Vendor Mat Number U O M Unit Price less Dist Fee_y                              \n",
       "13-201-966-EA 13-201-966        EA    5.70                                             34.20  \n",
       "MDS9950-CS    MDS9950           CS    256.32                                         1025.28  \n",
       "MDS9950-EA    MDS9950H          EA    1.83                                             49.41  "
      ]
     },
     "execution_count": 68,
     "metadata": {},
     "output_type": "execute_result"
    }
   ],
   "source": [
    "df_sum.groupby(['Manufacturer Name', 'MPN-UOM', 'Vendor Mat Number', 'U O M', 'Unit Price less Dist Fee_y'])[['Qty Paid','Unit Price less Dist Fee_y']].sum()\n",
    "#df_sum.groupby(['Manufacturer Name'])[['Qty Paid']].sum()"
   ]
  },
  {
   "cell_type": "code",
   "execution_count": 66,
   "metadata": {},
   "outputs": [
    {
     "data": {
      "text/plain": [
       "PO Number                     float64\n",
       "PO Line                       float64\n",
       "Cont Ind                       object\n",
       "Contract                       object\n",
       "Cont Type                      object\n",
       "Invoice Date                   object\n",
       "Invoice No                    float64\n",
       "Vendor Reference              float64\n",
       "Date PO Created_x              object\n",
       "Total Cost per Line            object\n",
       "Freight Amt                   float64\n",
       "Unit Price                    float64\n",
       "Unit Price less Dist Fee_x    float64\n",
       "Dist Fee %                    float64\n",
       "Dist Fee Amt                  float64\n",
       "Qty Paid                      float64\n",
       "MatGrp                         object\n",
       "U O M                          object\n",
       "Material Group Desc            object\n",
       "Item No                       float64\n",
       "Stock                          object\n",
       "Description_x                  object\n",
       "GL Acct                       float64\n",
       "GL Acct Desc                   object\n",
       "Fund                          float64\n",
       "Fund Ctr                      float64\n",
       "Fund Ctr Desc                  object\n",
       "Div Node                       object\n",
       "Division Desc                  object\n",
       "Dept Node                      object\n",
       "Department Desc                object\n",
       "Sub-Dept                       object\n",
       "Sub-Dept Desc                  object\n",
       "Cost Ctr                      float64\n",
       "Recipient                      object\n",
       "Unloading Pt                   object\n",
       "WBS Element                   float64\n",
       "Vendor No                     float64\n",
       "Vendor Name                    object\n",
       "Vendor Mat Number              object\n",
       "Manufacturer Part No           object\n",
       "Manufacturer                  float64\n",
       "Manufacturer Name              object\n",
       "UNSPSC code                   float64\n",
       "UNSPSC Desc                    object\n",
       "Purch Gp                       object\n",
       "Buyer Name                     object\n",
       "Case No                       float64\n",
       "SQ Cart No                    float64\n",
       "Req No                        float64\n",
       "Req Line                      float64\n",
       "PO Unit Price                 float64\n",
       "MPN-UOM                        object\n",
       "Date PO Created_y              object\n",
       "Description_y                  object\n",
       "Unit Price less Dist Fee_y    float64\n",
       "dtype: object"
      ]
     },
     "execution_count": 66,
     "metadata": {},
     "output_type": "execute_result"
    }
   ],
   "source": [
    "df_sum.dtypes"
   ]
  },
  {
   "cell_type": "code",
   "execution_count": null,
   "metadata": {
    "collapsed": true
   },
   "outputs": [],
   "source": []
  },
  {
   "cell_type": "code",
   "execution_count": null,
   "metadata": {
    "collapsed": true
   },
   "outputs": [],
   "source": []
  },
  {
   "cell_type": "code",
   "execution_count": 170,
   "metadata": {
    "collapsed": true
   },
   "outputs": [],
   "source": [
    "df3 = pd.DataFrame(np.random.randn(10, 5), columns=['a', 'b', 'c', 'd', 'e'])"
   ]
  },
  {
   "cell_type": "code",
   "execution_count": 171,
   "metadata": {},
   "outputs": [
    {
     "data": {
      "text/html": [
       "<div>\n",
       "<table border=\"1\" class=\"dataframe\">\n",
       "  <thead>\n",
       "    <tr style=\"text-align: right;\">\n",
       "      <th></th>\n",
       "      <th>a</th>\n",
       "      <th>b</th>\n",
       "      <th>c</th>\n",
       "      <th>d</th>\n",
       "      <th>e</th>\n",
       "    </tr>\n",
       "  </thead>\n",
       "  <tbody>\n",
       "    <tr>\n",
       "      <th>0</th>\n",
       "      <td>-1.299143</td>\n",
       "      <td>2.268889</td>\n",
       "      <td>-0.480602</td>\n",
       "      <td>-0.275277</td>\n",
       "      <td>0.038287</td>\n",
       "    </tr>\n",
       "    <tr>\n",
       "      <th>1</th>\n",
       "      <td>-1.081656</td>\n",
       "      <td>-0.413782</td>\n",
       "      <td>-0.022104</td>\n",
       "      <td>0.416602</td>\n",
       "      <td>-0.548919</td>\n",
       "    </tr>\n",
       "    <tr>\n",
       "      <th>2</th>\n",
       "      <td>-0.807311</td>\n",
       "      <td>-0.818453</td>\n",
       "      <td>-1.906613</td>\n",
       "      <td>-0.390310</td>\n",
       "      <td>-0.723852</td>\n",
       "    </tr>\n",
       "    <tr>\n",
       "      <th>3</th>\n",
       "      <td>1.695810</td>\n",
       "      <td>-1.074022</td>\n",
       "      <td>-0.754306</td>\n",
       "      <td>-0.915000</td>\n",
       "      <td>-0.012793</td>\n",
       "    </tr>\n",
       "    <tr>\n",
       "      <th>4</th>\n",
       "      <td>-0.929404</td>\n",
       "      <td>1.415696</td>\n",
       "      <td>1.794740</td>\n",
       "      <td>-0.118777</td>\n",
       "      <td>-0.176110</td>\n",
       "    </tr>\n",
       "    <tr>\n",
       "      <th>5</th>\n",
       "      <td>0.711798</td>\n",
       "      <td>-1.260145</td>\n",
       "      <td>0.023965</td>\n",
       "      <td>-0.609081</td>\n",
       "      <td>-2.117910</td>\n",
       "    </tr>\n",
       "    <tr>\n",
       "      <th>6</th>\n",
       "      <td>-0.780523</td>\n",
       "      <td>0.436188</td>\n",
       "      <td>-1.294992</td>\n",
       "      <td>-1.589001</td>\n",
       "      <td>0.763984</td>\n",
       "    </tr>\n",
       "    <tr>\n",
       "      <th>7</th>\n",
       "      <td>1.968692</td>\n",
       "      <td>-1.809733</td>\n",
       "      <td>-0.411487</td>\n",
       "      <td>0.521441</td>\n",
       "      <td>-0.468095</td>\n",
       "    </tr>\n",
       "    <tr>\n",
       "      <th>8</th>\n",
       "      <td>-1.104553</td>\n",
       "      <td>-0.308282</td>\n",
       "      <td>-1.134508</td>\n",
       "      <td>-0.216585</td>\n",
       "      <td>-0.538495</td>\n",
       "    </tr>\n",
       "    <tr>\n",
       "      <th>9</th>\n",
       "      <td>-0.187438</td>\n",
       "      <td>-0.735028</td>\n",
       "      <td>0.497043</td>\n",
       "      <td>-0.473841</td>\n",
       "      <td>-0.488194</td>\n",
       "    </tr>\n",
       "  </tbody>\n",
       "</table>\n",
       "</div>"
      ],
      "text/plain": [
       "          a         b         c         d         e\n",
       "0 -1.299143  2.268889 -0.480602 -0.275277  0.038287\n",
       "1 -1.081656 -0.413782 -0.022104  0.416602 -0.548919\n",
       "2 -0.807311 -0.818453 -1.906613 -0.390310 -0.723852\n",
       "3  1.695810 -1.074022 -0.754306 -0.915000 -0.012793\n",
       "4 -0.929404  1.415696  1.794740 -0.118777 -0.176110\n",
       "5  0.711798 -1.260145  0.023965 -0.609081 -2.117910\n",
       "6 -0.780523  0.436188 -1.294992 -1.589001  0.763984\n",
       "7  1.968692 -1.809733 -0.411487  0.521441 -0.468095\n",
       "8 -1.104553 -0.308282 -1.134508 -0.216585 -0.538495\n",
       "9 -0.187438 -0.735028  0.497043 -0.473841 -0.488194"
      ]
     },
     "execution_count": 171,
     "metadata": {},
     "output_type": "execute_result"
    }
   ],
   "source": [
    "df3"
   ]
  },
  {
   "cell_type": "code",
   "execution_count": null,
   "metadata": {
    "collapsed": true
   },
   "outputs": [],
   "source": []
  },
  {
   "cell_type": "code",
   "execution_count": null,
   "metadata": {
    "collapsed": true
   },
   "outputs": [],
   "source": []
  },
  {
   "cell_type": "code",
   "execution_count": 77,
   "metadata": {},
   "outputs": [
    {
     "data": {
      "text/plain": [
       "'a,b,c'"
      ]
     },
     "execution_count": 77,
     "metadata": {},
     "output_type": "execute_result"
    }
   ],
   "source": [
    "Series(['a', 'b', 'c']).str.cat(sep=',')"
   ]
  },
  {
   "cell_type": "code",
   "execution_count": 75,
   "metadata": {
    "collapsed": true
   },
   "outputs": [],
   "source": [
    "from pandas import Series"
   ]
  },
  {
   "cell_type": "code",
   "execution_count": 76,
   "metadata": {},
   "outputs": [
    {
     "data": {
      "text/plain": [
       "'a,b,c'"
      ]
     },
     "execution_count": 76,
     "metadata": {},
     "output_type": "execute_result"
    }
   ],
   "source": [
    "Series(['a', 'b', 'c']).str.cat(sep=',')"
   ]
  },
  {
   "cell_type": "code",
   "execution_count": 22,
   "metadata": {
    "scrolled": true
   },
   "outputs": [
    {
     "name": "stdout",
     "output_type": "stream",
     "text": [
      "The slowest run took 19.12 times longer than the fastest. This could mean that an intermediate result is being cached.\n",
      "1000000 loops, best of 3: 911 ns per loop\n"
     ]
    }
   ],
   "source": [
    "timeit df.shape"
   ]
  },
  {
   "cell_type": "code",
   "execution_count": 23,
   "metadata": {},
   "outputs": [
    {
     "name": "stdout",
     "output_type": "stream",
     "text": [
      "The slowest run took 150.72 times longer than the fastest. This could mean that an intermediate result is being cached.\n",
      "10000000 loops, best of 3: 75.8 ns per loop\n"
     ]
    }
   ],
   "source": [
    "timeit df.index"
   ]
  },
  {
   "cell_type": "code",
   "execution_count": 26,
   "metadata": {},
   "outputs": [
    {
     "data": {
      "text/plain": [
       "Unit Price                  28\n",
       "Unit Price less Dist Fee    28\n",
       "Dist Fee %                  28\n",
       "Dist Fee Amt                28\n",
       "Qty Paid                    28\n",
       "MatGrp                      28\n",
       "U O M                       28\n",
       "Unnamed: 7                   0\n",
       "Unnamed: 8                   0\n",
       "Unnamed: 9                   1\n",
       "Unnamed: 10                  1\n",
       "dtype: int64"
      ]
     },
     "execution_count": 26,
     "metadata": {},
     "output_type": "execute_result"
    }
   ],
   "source": [
    "df.count(0)"
   ]
  },
  {
   "cell_type": "code",
   "execution_count": 27,
   "metadata": {},
   "outputs": [
    {
     "data": {
      "text/plain": [
       "RangeIndex(start=0, stop=29, step=1)"
      ]
     },
     "execution_count": 27,
     "metadata": {},
     "output_type": "execute_result"
    }
   ],
   "source": [
    "df.index"
   ]
  },
  {
   "cell_type": "code",
   "execution_count": 28,
   "metadata": {},
   "outputs": [
    {
     "data": {
      "text/plain": [
       "11"
      ]
     },
     "execution_count": 28,
     "metadata": {},
     "output_type": "execute_result"
    }
   ],
   "source": [
    "len(df.columns)"
   ]
  },
  {
   "cell_type": "code",
   "execution_count": 29,
   "metadata": {},
   "outputs": [
    {
     "data": {
      "text/plain": [
       "Index([u'Unit Price', u'Unit Price less Dist Fee', u'Dist Fee %',\n",
       "       u'Dist Fee Amt', u'Qty Paid', u'MatGrp', u'U O M', u'Unnamed: 7',\n",
       "       u'Unnamed: 8', u'Unnamed: 9', u'Unnamed: 10'],\n",
       "      dtype='object')"
      ]
     },
     "execution_count": 29,
     "metadata": {},
     "output_type": "execute_result"
    }
   ],
   "source": [
    "df.columns"
   ]
  },
  {
   "cell_type": "markdown",
   "metadata": {},
   "source": [
    "## HINT: ##\n",
    "How to get row count:? Most efficient way!?\n",
    "\n",
    "__https://stackoverflow.com/questions/15943769/how-do-i-get-the-row-count-of-a-pandas-dataframe__"
   ]
  },
  {
   "cell_type": "code",
   "execution_count": null,
   "metadata": {
    "collapsed": true
   },
   "outputs": [],
   "source": []
  },
  {
   "cell_type": "code",
   "execution_count": null,
   "metadata": {
    "collapsed": true
   },
   "outputs": [],
   "source": []
  },
  {
   "cell_type": "code",
   "execution_count": null,
   "metadata": {
    "collapsed": true
   },
   "outputs": [],
   "source": []
  },
  {
   "cell_type": "code",
   "execution_count": null,
   "metadata": {
    "collapsed": true
   },
   "outputs": [],
   "source": []
  },
  {
   "cell_type": "code",
   "execution_count": 24,
   "metadata": {},
   "outputs": [
    {
     "data": {
      "text/html": [
       "<div>\n",
       "<table border=\"1\" class=\"dataframe\">\n",
       "  <thead>\n",
       "    <tr style=\"text-align: right;\">\n",
       "      <th></th>\n",
       "      <th>Unit Price</th>\n",
       "      <th>Unit Price less Dist Fee</th>\n",
       "      <th>Dist Fee %</th>\n",
       "      <th>Dist Fee Amt</th>\n",
       "      <th>Qty Paid</th>\n",
       "      <th>MatGrp</th>\n",
       "      <th>U O M</th>\n",
       "    </tr>\n",
       "  </thead>\n",
       "  <tbody>\n",
       "    <tr>\n",
       "      <th>3</th>\n",
       "      <td>4.71</td>\n",
       "      <td>4.63</td>\n",
       "      <td>0.0175</td>\n",
       "      <td>0.08</td>\n",
       "      <td>4</td>\n",
       "      <td>H29</td>\n",
       "      <td>EA</td>\n",
       "    </tr>\n",
       "    <tr>\n",
       "      <th>4</th>\n",
       "      <td>24.35</td>\n",
       "      <td>23.93</td>\n",
       "      <td>0.0175</td>\n",
       "      <td>0.42</td>\n",
       "      <td>1</td>\n",
       "      <td>H17</td>\n",
       "      <td>CS</td>\n",
       "    </tr>\n",
       "  </tbody>\n",
       "</table>\n",
       "</div>"
      ],
      "text/plain": [
       "   Unit Price  Unit Price less Dist Fee  Dist Fee %  Dist Fee Amt  Qty Paid  \\\n",
       "3        4.71                      4.63      0.0175          0.08         4   \n",
       "4       24.35                     23.93      0.0175          0.42         1   \n",
       "\n",
       "  MatGrp U O M  \n",
       "3    H29    EA  \n",
       "4    H17    CS  "
      ]
     },
     "execution_count": 24,
     "metadata": {},
     "output_type": "execute_result"
    }
   ],
   "source": [
    "df[3:5]"
   ]
  },
  {
   "cell_type": "code",
   "execution_count": 25,
   "metadata": {},
   "outputs": [
    {
     "data": {
      "text/plain": [
       "Unit Price                    4.71\n",
       "Unit Price less Dist Fee      4.63\n",
       "Dist Fee %                  0.0175\n",
       "Dist Fee Amt                  0.08\n",
       "Qty Paid                         8\n",
       "MatGrp                         H29\n",
       "U O M                           EA\n",
       "Name: 1, dtype: object"
      ]
     },
     "execution_count": 25,
     "metadata": {},
     "output_type": "execute_result"
    }
   ],
   "source": [
    "df.loc[1]"
   ]
  },
  {
   "cell_type": "code",
   "execution_count": 26,
   "metadata": {},
   "outputs": [
    {
     "data": {
      "text/plain": [
       "Unit Price                    4.71\n",
       "Unit Price less Dist Fee      4.63\n",
       "Dist Fee %                  0.0175\n",
       "Dist Fee Amt                  0.08\n",
       "Qty Paid                         8\n",
       "MatGrp                         H29\n",
       "U O M                           EA\n",
       "Name: 1, dtype: object"
      ]
     },
     "execution_count": 26,
     "metadata": {},
     "output_type": "execute_result"
    }
   ],
   "source": [
    "df.iloc[1]"
   ]
  },
  {
   "cell_type": "code",
   "execution_count": 27,
   "metadata": {},
   "outputs": [
    {
     "name": "stdout",
     "output_type": "stream",
     "text": [
      "<class 'pandas.core.frame.DataFrame'>\n",
      "RangeIndex: 28 entries, 0 to 27\n",
      "Data columns (total 7 columns):\n",
      "Unit Price                  28 non-null float64\n",
      "Unit Price less Dist Fee    28 non-null float64\n",
      "Dist Fee %                  28 non-null float64\n",
      "Dist Fee Amt                28 non-null float64\n",
      "Qty Paid                    28 non-null int64\n",
      "MatGrp                      28 non-null object\n",
      "U O M                       28 non-null object\n",
      "dtypes: float64(4), int64(1), object(2)\n",
      "memory usage: 1.6+ KB\n"
     ]
    }
   ],
   "source": [
    "df.info()"
   ]
  },
  {
   "cell_type": "code",
   "execution_count": 29,
   "metadata": {},
   "outputs": [
    {
     "data": {
      "text/plain": [
       "array([[-0.5472924 ,  1.08422219,  0.01953574],\n",
       "       [-0.64524308, -0.3072253 ,  2.13017443],\n",
       "       [ 0.27041088, -0.58103745, -0.65473917]])"
      ]
     },
     "execution_count": 29,
     "metadata": {},
     "output_type": "execute_result"
    }
   ],
   "source": [
    "np.random.randn(3,3)"
   ]
  },
  {
   "cell_type": "code",
   "execution_count": 32,
   "metadata": {
    "collapsed": true
   },
   "outputs": [],
   "source": [
    "pd.set_option('display.width', 80) # default is 80"
   ]
  },
  {
   "cell_type": "code",
   "execution_count": 34,
   "metadata": {},
   "outputs": [
    {
     "data": {
      "text/html": [
       "<div>\n",
       "<table border=\"1\" class=\"dataframe\">\n",
       "  <thead>\n",
       "    <tr style=\"text-align: right;\">\n",
       "      <th></th>\n",
       "      <th>Unit Price</th>\n",
       "      <th>Unit Price less Dist Fee</th>\n",
       "      <th>Dist Fee %</th>\n",
       "      <th>Dist Fee Amt</th>\n",
       "      <th>Qty Paid</th>\n",
       "      <th>MatGrp</th>\n",
       "      <th>U O M</th>\n",
       "    </tr>\n",
       "  </thead>\n",
       "  <tbody>\n",
       "    <tr>\n",
       "      <th>0</th>\n",
       "      <td>24.35</td>\n",
       "      <td>23.93</td>\n",
       "      <td>0.0175</td>\n",
       "      <td>0.42</td>\n",
       "      <td>1</td>\n",
       "      <td>H17</td>\n",
       "      <td>CS</td>\n",
       "    </tr>\n",
       "    <tr>\n",
       "      <th>1</th>\n",
       "      <td>4.71</td>\n",
       "      <td>4.63</td>\n",
       "      <td>0.0175</td>\n",
       "      <td>0.08</td>\n",
       "      <td>8</td>\n",
       "      <td>H29</td>\n",
       "      <td>EA</td>\n",
       "    </tr>\n",
       "    <tr>\n",
       "      <th>2</th>\n",
       "      <td>4.71</td>\n",
       "      <td>4.63</td>\n",
       "      <td>0.0175</td>\n",
       "      <td>0.08</td>\n",
       "      <td>2</td>\n",
       "      <td>H29</td>\n",
       "      <td>EA</td>\n",
       "    </tr>\n",
       "    <tr>\n",
       "      <th>3</th>\n",
       "      <td>4.71</td>\n",
       "      <td>4.63</td>\n",
       "      <td>0.0175</td>\n",
       "      <td>0.08</td>\n",
       "      <td>4</td>\n",
       "      <td>H29</td>\n",
       "      <td>EA</td>\n",
       "    </tr>\n",
       "    <tr>\n",
       "      <th>4</th>\n",
       "      <td>24.35</td>\n",
       "      <td>23.93</td>\n",
       "      <td>0.0175</td>\n",
       "      <td>0.42</td>\n",
       "      <td>1</td>\n",
       "      <td>H17</td>\n",
       "      <td>CS</td>\n",
       "    </tr>\n",
       "  </tbody>\n",
       "</table>\n",
       "</div>"
      ],
      "text/plain": [
       "   Unit Price  Unit Price less Dist Fee  Dist Fee %  Dist Fee Amt  Qty Paid  \\\n",
       "0       24.35                     23.93      0.0175          0.42         1   \n",
       "1        4.71                      4.63      0.0175          0.08         8   \n",
       "2        4.71                      4.63      0.0175          0.08         2   \n",
       "3        4.71                      4.63      0.0175          0.08         4   \n",
       "4       24.35                     23.93      0.0175          0.42         1   \n",
       "\n",
       "  MatGrp U O M  \n",
       "0    H17    CS  \n",
       "1    H29    EA  \n",
       "2    H29    EA  \n",
       "3    H29    EA  \n",
       "4    H17    CS  "
      ]
     },
     "execution_count": 34,
     "metadata": {},
     "output_type": "execute_result"
    }
   ],
   "source": [
    "df.head()\n"
   ]
  },
  {
   "cell_type": "code",
   "execution_count": 3,
   "metadata": {
    "collapsed": true
   },
   "outputs": [],
   "source": [
    "left = pd.DataFrame({'key': ['cam', 'heath', 'jason', 'cam'], 'v1': [10, 11, 12, 2]})"
   ]
  },
  {
   "cell_type": "code",
   "execution_count": 4,
   "metadata": {},
   "outputs": [
    {
     "data": {
      "text/html": [
       "<div>\n",
       "<table border=\"1\" class=\"dataframe\">\n",
       "  <thead>\n",
       "    <tr style=\"text-align: right;\">\n",
       "      <th></th>\n",
       "      <th>key</th>\n",
       "      <th>v1</th>\n",
       "    </tr>\n",
       "  </thead>\n",
       "  <tbody>\n",
       "    <tr>\n",
       "      <th>0</th>\n",
       "      <td>cam</td>\n",
       "      <td>10</td>\n",
       "    </tr>\n",
       "    <tr>\n",
       "      <th>1</th>\n",
       "      <td>heath</td>\n",
       "      <td>11</td>\n",
       "    </tr>\n",
       "    <tr>\n",
       "      <th>2</th>\n",
       "      <td>jason</td>\n",
       "      <td>12</td>\n",
       "    </tr>\n",
       "    <tr>\n",
       "      <th>3</th>\n",
       "      <td>cam</td>\n",
       "      <td>2</td>\n",
       "    </tr>\n",
       "  </tbody>\n",
       "</table>\n",
       "</div>"
      ],
      "text/plain": [
       "     key  v1\n",
       "0    cam  10\n",
       "1  heath  11\n",
       "2  jason  12\n",
       "3    cam   2"
      ]
     },
     "execution_count": 4,
     "metadata": {},
     "output_type": "execute_result"
    }
   ],
   "source": [
    "left\n"
   ]
  },
  {
   "cell_type": "code",
   "execution_count": 7,
   "metadata": {},
   "outputs": [
    {
     "data": {
      "text/html": [
       "<div>\n",
       "<table border=\"1\" class=\"dataframe\">\n",
       "  <thead>\n",
       "    <tr style=\"text-align: right;\">\n",
       "      <th></th>\n",
       "      <th>key</th>\n",
       "      <th>v1</th>\n",
       "    </tr>\n",
       "  </thead>\n",
       "  <tbody>\n",
       "    <tr>\n",
       "      <th>0</th>\n",
       "      <td>cam</td>\n",
       "      <td>20</td>\n",
       "    </tr>\n",
       "    <tr>\n",
       "      <th>1</th>\n",
       "      <td>heath</td>\n",
       "      <td>30</td>\n",
       "    </tr>\n",
       "    <tr>\n",
       "      <th>2</th>\n",
       "      <td>jason</td>\n",
       "      <td>44</td>\n",
       "    </tr>\n",
       "  </tbody>\n",
       "</table>\n",
       "</div>"
      ],
      "text/plain": [
       "     key  v1\n",
       "0    cam  20\n",
       "1  heath  30\n",
       "2  jason  44"
      ]
     },
     "execution_count": 7,
     "metadata": {},
     "output_type": "execute_result"
    }
   ],
   "source": [
    "right = pd.DataFrame({'key': ['cam', 'heath', 'jason'], 'v1': [20, 30, 44]})\n",
    "right"
   ]
  },
  {
   "cell_type": "code",
   "execution_count": 11,
   "metadata": {},
   "outputs": [
    {
     "data": {
      "text/html": [
       "<div>\n",
       "<table border=\"1\" class=\"dataframe\">\n",
       "  <thead>\n",
       "    <tr style=\"text-align: right;\">\n",
       "      <th></th>\n",
       "      <th>key</th>\n",
       "      <th>v1_x</th>\n",
       "      <th>v1_y</th>\n",
       "    </tr>\n",
       "  </thead>\n",
       "  <tbody>\n",
       "    <tr>\n",
       "      <th>0</th>\n",
       "      <td>cam</td>\n",
       "      <td>10</td>\n",
       "      <td>20</td>\n",
       "    </tr>\n",
       "    <tr>\n",
       "      <th>1</th>\n",
       "      <td>heath</td>\n",
       "      <td>11</td>\n",
       "      <td>30</td>\n",
       "    </tr>\n",
       "    <tr>\n",
       "      <th>2</th>\n",
       "      <td>jason</td>\n",
       "      <td>12</td>\n",
       "      <td>44</td>\n",
       "    </tr>\n",
       "    <tr>\n",
       "      <th>3</th>\n",
       "      <td>cam</td>\n",
       "      <td>2</td>\n",
       "      <td>20</td>\n",
       "    </tr>\n",
       "  </tbody>\n",
       "</table>\n",
       "</div>"
      ],
      "text/plain": [
       "     key  v1_x  v1_y\n",
       "0    cam    10    20\n",
       "1  heath    11    30\n",
       "2  jason    12    44\n",
       "3    cam     2    20"
      ]
     },
     "execution_count": 11,
     "metadata": {},
     "output_type": "execute_result"
    }
   ],
   "source": [
    "import pandas as pd\n",
    "rev_df = pd.merge(left, right, left_on = 'key', right_on = 'key', how='left')\n",
    "rev_df\n"
   ]
  },
  {
   "cell_type": "code",
   "execution_count": 15,
   "metadata": {},
   "outputs": [
    {
     "data": {
      "text/html": [
       "<div>\n",
       "<table border=\"1\" class=\"dataframe\">\n",
       "  <thead>\n",
       "    <tr style=\"text-align: right;\">\n",
       "      <th></th>\n",
       "      <th>v1_x</th>\n",
       "      <th>v1_y</th>\n",
       "    </tr>\n",
       "    <tr>\n",
       "      <th>key</th>\n",
       "      <th></th>\n",
       "      <th></th>\n",
       "    </tr>\n",
       "  </thead>\n",
       "  <tbody>\n",
       "    <tr>\n",
       "      <th>cam</th>\n",
       "      <td>12</td>\n",
       "      <td>40</td>\n",
       "    </tr>\n",
       "    <tr>\n",
       "      <th>heath</th>\n",
       "      <td>11</td>\n",
       "      <td>30</td>\n",
       "    </tr>\n",
       "    <tr>\n",
       "      <th>jason</th>\n",
       "      <td>12</td>\n",
       "      <td>44</td>\n",
       "    </tr>\n",
       "  </tbody>\n",
       "</table>\n",
       "</div>"
      ],
      "text/plain": [
       "       v1_x  v1_y\n",
       "key              \n",
       "cam      12    40\n",
       "heath    11    30\n",
       "jason    12    44"
      ]
     },
     "execution_count": 15,
     "metadata": {},
     "output_type": "execute_result"
    }
   ],
   "source": [
    "rev_df.groupby(['key']).sum()"
   ]
  },
  {
   "cell_type": "code",
   "execution_count": null,
   "metadata": {
    "collapsed": true
   },
   "outputs": [],
   "source": []
  },
  {
   "cell_type": "code",
   "execution_count": null,
   "metadata": {
    "collapsed": true
   },
   "outputs": [],
   "source": []
  },
  {
   "cell_type": "code",
   "execution_count": 41,
   "metadata": {
    "collapsed": true
   },
   "outputs": [],
   "source": [
    "data = 'col1,col2,col3\\na,b,1\\na,b,2\\nc,d,3'"
   ]
  },
  {
   "cell_type": "code",
   "execution_count": null,
   "metadata": {
    "collapsed": true
   },
   "outputs": [],
   "source": []
  },
  {
   "cell_type": "code",
   "execution_count": null,
   "metadata": {
    "collapsed": true
   },
   "outputs": [],
   "source": []
  },
  {
   "cell_type": "code",
   "execution_count": 53,
   "metadata": {
    "collapsed": true
   },
   "outputs": [],
   "source": [
    "from StringIO import StringIO # for Python 2"
   ]
  },
  {
   "cell_type": "code",
   "execution_count": 54,
   "metadata": {},
   "outputs": [
    {
     "data": {
      "text/html": [
       "<div>\n",
       "<table border=\"1\" class=\"dataframe\">\n",
       "  <thead>\n",
       "    <tr style=\"text-align: right;\">\n",
       "      <th></th>\n",
       "      <th>col1</th>\n",
       "      <th>col2</th>\n",
       "      <th>col3</th>\n",
       "    </tr>\n",
       "  </thead>\n",
       "  <tbody>\n",
       "    <tr>\n",
       "      <th>0</th>\n",
       "      <td>a</td>\n",
       "      <td>b</td>\n",
       "      <td>1</td>\n",
       "    </tr>\n",
       "    <tr>\n",
       "      <th>1</th>\n",
       "      <td>a</td>\n",
       "      <td>b</td>\n",
       "      <td>2</td>\n",
       "    </tr>\n",
       "    <tr>\n",
       "      <th>2</th>\n",
       "      <td>c</td>\n",
       "      <td>d</td>\n",
       "      <td>3</td>\n",
       "    </tr>\n",
       "  </tbody>\n",
       "</table>\n",
       "</div>"
      ],
      "text/plain": [
       "  col1 col2  col3\n",
       "0    a    b     1\n",
       "1    a    b     2\n",
       "2    c    d     3"
      ]
     },
     "execution_count": 54,
     "metadata": {},
     "output_type": "execute_result"
    }
   ],
   "source": [
    "pd.read_csv(StringIO(data))"
   ]
  },
  {
   "cell_type": "code",
   "execution_count": 83,
   "metadata": {
    "collapsed": true
   },
   "outputs": [],
   "source": [
    "df2 = pd.read_csv(\"C:/Users/GuoRubing/Google Drive/Python/uams_reports_test/SAP.csv\")"
   ]
  },
  {
   "cell_type": "code",
   "execution_count": 84,
   "metadata": {},
   "outputs": [
    {
     "data": {
      "text/html": [
       "<div>\n",
       "<table border=\"1\" class=\"dataframe\">\n",
       "  <thead>\n",
       "    <tr style=\"text-align: right;\">\n",
       "      <th></th>\n",
       "      <th>PO Number</th>\n",
       "      <th>PO Line</th>\n",
       "      <th>Cont Ind</th>\n",
       "      <th>Contract</th>\n",
       "      <th>Cont Type</th>\n",
       "      <th>Invoice Date</th>\n",
       "      <th>Invoice No</th>\n",
       "      <th>Vendor Reference</th>\n",
       "      <th>Date PO Created</th>\n",
       "      <th>Total Cost per Line</th>\n",
       "      <th>...</th>\n",
       "      <th>Manufacturer Name</th>\n",
       "      <th>UNSPSC code</th>\n",
       "      <th>UNSPSC Desc</th>\n",
       "      <th>Purch Gp</th>\n",
       "      <th>Buyer Name</th>\n",
       "      <th>Case No</th>\n",
       "      <th>SQ Cart No</th>\n",
       "      <th>Req No</th>\n",
       "      <th>Req Line</th>\n",
       "      <th>PO Unit Price</th>\n",
       "    </tr>\n",
       "  </thead>\n",
       "  <tbody>\n",
       "    <tr>\n",
       "      <th>0</th>\n",
       "      <td>4500133194</td>\n",
       "      <td>40.0</td>\n",
       "      <td>X</td>\n",
       "      <td>MS25276</td>\n",
       "      <td>AROK</td>\n",
       "      <td>1/7/2016</td>\n",
       "      <td>5.109306e+09</td>\n",
       "      <td>1.092907e+09</td>\n",
       "      <td>1/4/2016</td>\n",
       "      <td>957.12</td>\n",
       "      <td>...</td>\n",
       "      <td>MEDLINE INDUSTRIES INC</td>\n",
       "      <td>42181605.0</td>\n",
       "      <td>BLOOD PRESSURE CUFF OR BLADDER</td>\n",
       "      <td>WB</td>\n",
       "      <td>Janice Carter</td>\n",
       "      <td>NaN</td>\n",
       "      <td>NaN</td>\n",
       "      <td>12094108.0</td>\n",
       "      <td>10.0</td>\n",
       "      <td>9.97</td>\n",
       "    </tr>\n",
       "    <tr>\n",
       "      <th>1</th>\n",
       "      <td>4500133194</td>\n",
       "      <td>41.0</td>\n",
       "      <td>X</td>\n",
       "      <td>MS25276</td>\n",
       "      <td>AROK</td>\n",
       "      <td>1/7/2016</td>\n",
       "      <td>5.109306e+09</td>\n",
       "      <td>1.092907e+09</td>\n",
       "      <td>1/4/2016</td>\n",
       "      <td>158.73</td>\n",
       "      <td>...</td>\n",
       "      <td>MEDLINE INDUSTRIES INC</td>\n",
       "      <td>42181605.0</td>\n",
       "      <td>BLOOD PRESSURE CUFF OR BLADDER</td>\n",
       "      <td>WB</td>\n",
       "      <td>Janice Carter</td>\n",
       "      <td>NaN</td>\n",
       "      <td>NaN</td>\n",
       "      <td>12094109.0</td>\n",
       "      <td>10.0</td>\n",
       "      <td>12.21</td>\n",
       "    </tr>\n",
       "    <tr>\n",
       "      <th>2</th>\n",
       "      <td>4500133245</td>\n",
       "      <td>35.0</td>\n",
       "      <td>X</td>\n",
       "      <td>MS25276</td>\n",
       "      <td>AROK</td>\n",
       "      <td>1/8/2016</td>\n",
       "      <td>5.109307e+09</td>\n",
       "      <td>1.092964e+09</td>\n",
       "      <td>1/5/2016</td>\n",
       "      <td>608.17</td>\n",
       "      <td>...</td>\n",
       "      <td>MEDLINE INDUSTRIES INC</td>\n",
       "      <td>42181605.0</td>\n",
       "      <td>BLOOD PRESSURE CUFF OR BLADDER</td>\n",
       "      <td>WB</td>\n",
       "      <td>Janice Carter</td>\n",
       "      <td>NaN</td>\n",
       "      <td>NaN</td>\n",
       "      <td>12094837.0</td>\n",
       "      <td>10.0</td>\n",
       "      <td>9.97</td>\n",
       "    </tr>\n",
       "    <tr>\n",
       "      <th>3</th>\n",
       "      <td>4500133245</td>\n",
       "      <td>36.0</td>\n",
       "      <td>X</td>\n",
       "      <td>MS25276</td>\n",
       "      <td>AROK</td>\n",
       "      <td>1/8/2016</td>\n",
       "      <td>5.109307e+09</td>\n",
       "      <td>1.092964e+09</td>\n",
       "      <td>1/5/2016</td>\n",
       "      <td>451.77</td>\n",
       "      <td>...</td>\n",
       "      <td>MEDLINE INDUSTRIES INC</td>\n",
       "      <td>42181605.0</td>\n",
       "      <td>BLOOD PRESSURE CUFF OR BLADDER</td>\n",
       "      <td>WB</td>\n",
       "      <td>Janice Carter</td>\n",
       "      <td>NaN</td>\n",
       "      <td>NaN</td>\n",
       "      <td>12094838.0</td>\n",
       "      <td>10.0</td>\n",
       "      <td>12.21</td>\n",
       "    </tr>\n",
       "    <tr>\n",
       "      <th>4</th>\n",
       "      <td>4500133297</td>\n",
       "      <td>28.0</td>\n",
       "      <td>X</td>\n",
       "      <td>MS25276</td>\n",
       "      <td>AROK</td>\n",
       "      <td>1/7/2016</td>\n",
       "      <td>5.109307e+09</td>\n",
       "      <td>1.092907e+09</td>\n",
       "      <td>1/6/2016</td>\n",
       "      <td>827.51</td>\n",
       "      <td>...</td>\n",
       "      <td>MEDLINE INDUSTRIES INC</td>\n",
       "      <td>42181605.0</td>\n",
       "      <td>BLOOD PRESSURE CUFF OR BLADDER</td>\n",
       "      <td>WB</td>\n",
       "      <td>Janice Carter</td>\n",
       "      <td>NaN</td>\n",
       "      <td>NaN</td>\n",
       "      <td>12095469.0</td>\n",
       "      <td>10.0</td>\n",
       "      <td>9.97</td>\n",
       "    </tr>\n",
       "  </tbody>\n",
       "</table>\n",
       "<p>5 rows × 52 columns</p>\n",
       "</div>"
      ],
      "text/plain": [
       "    PO Number  PO Line Cont Ind Contract Cont Type Invoice Date    Invoice No  \\\n",
       "0  4500133194     40.0        X  MS25276      AROK     1/7/2016  5.109306e+09   \n",
       "1  4500133194     41.0        X  MS25276      AROK     1/7/2016  5.109306e+09   \n",
       "2  4500133245     35.0        X  MS25276      AROK     1/8/2016  5.109307e+09   \n",
       "3  4500133245     36.0        X  MS25276      AROK     1/8/2016  5.109307e+09   \n",
       "4  4500133297     28.0        X  MS25276      AROK     1/7/2016  5.109307e+09   \n",
       "\n",
       "   Vendor Reference Date PO Created Total Cost per Line      ...       \\\n",
       "0      1.092907e+09        1/4/2016              957.12      ...        \n",
       "1      1.092907e+09        1/4/2016              158.73      ...        \n",
       "2      1.092964e+09        1/5/2016              608.17      ...        \n",
       "3      1.092964e+09        1/5/2016              451.77      ...        \n",
       "4      1.092907e+09        1/6/2016              827.51      ...        \n",
       "\n",
       "        Manufacturer Name UNSPSC code                     UNSPSC Desc  \\\n",
       "0  MEDLINE INDUSTRIES INC  42181605.0  BLOOD PRESSURE CUFF OR BLADDER   \n",
       "1  MEDLINE INDUSTRIES INC  42181605.0  BLOOD PRESSURE CUFF OR BLADDER   \n",
       "2  MEDLINE INDUSTRIES INC  42181605.0  BLOOD PRESSURE CUFF OR BLADDER   \n",
       "3  MEDLINE INDUSTRIES INC  42181605.0  BLOOD PRESSURE CUFF OR BLADDER   \n",
       "4  MEDLINE INDUSTRIES INC  42181605.0  BLOOD PRESSURE CUFF OR BLADDER   \n",
       "\n",
       "   Purch Gp     Buyer Name  Case No SQ Cart No      Req No Req Line  \\\n",
       "0        WB  Janice Carter      NaN        NaN  12094108.0     10.0   \n",
       "1        WB  Janice Carter      NaN        NaN  12094109.0     10.0   \n",
       "2        WB  Janice Carter      NaN        NaN  12094837.0     10.0   \n",
       "3        WB  Janice Carter      NaN        NaN  12094838.0     10.0   \n",
       "4        WB  Janice Carter      NaN        NaN  12095469.0     10.0   \n",
       "\n",
       "  PO Unit Price  \n",
       "0          9.97  \n",
       "1         12.21  \n",
       "2          9.97  \n",
       "3         12.21  \n",
       "4          9.97  \n",
       "\n",
       "[5 rows x 52 columns]"
      ]
     },
     "execution_count": 84,
     "metadata": {},
     "output_type": "execute_result"
    }
   ],
   "source": [
    "df2.head()"
   ]
  },
  {
   "cell_type": "code",
   "execution_count": 85,
   "metadata": {},
   "outputs": [
    {
     "data": {
      "text/plain": [
       "3210"
      ]
     },
     "execution_count": 85,
     "metadata": {},
     "output_type": "execute_result"
    }
   ],
   "source": [
    "len(df2.index)"
   ]
  },
  {
   "cell_type": "code",
   "execution_count": 86,
   "metadata": {},
   "outputs": [
    {
     "data": {
      "text/plain": [
       "RangeIndex(start=0, stop=3210, step=1)"
      ]
     },
     "execution_count": 86,
     "metadata": {},
     "output_type": "execute_result"
    }
   ],
   "source": []
  },
  {
   "cell_type": "code",
   "execution_count": null,
   "metadata": {
    "collapsed": true
   },
   "outputs": [],
   "source": []
  }
 ],
 "metadata": {
  "kernelspec": {
   "display_name": "Python [conda env:DAND]",
   "language": "python",
   "name": "conda-env-DAND-py"
  },
  "language_info": {
   "codemirror_mode": {
    "name": "ipython",
    "version": 2
   },
   "file_extension": ".py",
   "mimetype": "text/x-python",
   "name": "python",
   "nbconvert_exporter": "python",
   "pygments_lexer": "ipython2",
   "version": "2.7.12"
  }
 },
 "nbformat": 4,
 "nbformat_minor": 2
}
