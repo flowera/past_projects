{
 "cells": [
  {
   "cell_type": "code",
   "execution_count": 87,
   "metadata": {
    "collapsed": true
   },
   "outputs": [],
   "source": []
  },
  {
   "cell_type": "markdown",
   "metadata": {},
   "source": [
    "# Pandas 0.20.3 documentation \n",
    "<a href = 'http://pandas.pydata.org/pandas-docs/stable/io.html#basic'>Click here for details ...</a>\n",
    "\n",
    "http://jupyter.readthedocs.io/en/latest/running.html\n",
    "\n",
    "http://pandas.pydata.org/pandas-docs/stable/io.html#basic\n"
   ]
  },
  {
   "cell_type": "code",
   "execution_count": null,
   "metadata": {
    "collapsed": true
   },
   "outputs": [],
   "source": []
  },
  {
   "cell_type": "code",
   "execution_count": 274,
   "metadata": {
    "collapsed": true
   },
   "outputs": [],
   "source": [
    "import pandas as pd\n",
    "import numpy as np\n",
    "df = pd.read_csv(\"C:/Users/GuoRubing/Google Drive/Python/uams_reports_test/sap2.csv\")"
   ]
  },
  {
   "cell_type": "code",
   "execution_count": 275,
   "metadata": {
    "scrolled": false
   },
   "outputs": [
    {
     "data": {
      "text/html": [
       "<div>\n",
       "<table border=\"1\" class=\"dataframe\">\n",
       "  <thead>\n",
       "    <tr style=\"text-align: right;\">\n",
       "      <th></th>\n",
       "      <th>PO Number</th>\n",
       "      <th>PO Line</th>\n",
       "      <th>Cont Ind</th>\n",
       "      <th>Contract</th>\n",
       "      <th>Cont Type</th>\n",
       "      <th>Invoice Date</th>\n",
       "      <th>Invoice No</th>\n",
       "      <th>Vendor Reference</th>\n",
       "      <th>Date PO Created</th>\n",
       "      <th>Total Cost per Line</th>\n",
       "      <th>...</th>\n",
       "      <th>Manufacturer Name</th>\n",
       "      <th>UNSPSC code</th>\n",
       "      <th>UNSPSC Desc</th>\n",
       "      <th>Purch Gp</th>\n",
       "      <th>Buyer Name</th>\n",
       "      <th>Case No</th>\n",
       "      <th>SQ Cart No</th>\n",
       "      <th>Req No</th>\n",
       "      <th>Req Line</th>\n",
       "      <th>PO Unit Price</th>\n",
       "    </tr>\n",
       "  </thead>\n",
       "  <tbody>\n",
       "    <tr>\n",
       "      <th>0</th>\n",
       "      <td>4.500134e+09</td>\n",
       "      <td>300.0</td>\n",
       "      <td>NaN</td>\n",
       "      <td>NONC1500-M</td>\n",
       "      <td>NaN</td>\n",
       "      <td>1/22/2016</td>\n",
       "      <td>5.109316e+09</td>\n",
       "      <td>1.093508e+09</td>\n",
       "      <td>1/19/2016</td>\n",
       "      <td>260.81</td>\n",
       "      <td>...</td>\n",
       "      <td>MEDLINE INDUSTRIES INC</td>\n",
       "      <td>42182201.0</td>\n",
       "      <td>ELECTRONIC MEDICAL THERMOMETERS</td>\n",
       "      <td>WB</td>\n",
       "      <td>Janice Carter</td>\n",
       "      <td>NaN</td>\n",
       "      <td>NaN</td>\n",
       "      <td>12101312.0</td>\n",
       "      <td>10.0</td>\n",
       "      <td>260.81</td>\n",
       "    </tr>\n",
       "    <tr>\n",
       "      <th>1</th>\n",
       "      <td>4.500134e+09</td>\n",
       "      <td>3.0</td>\n",
       "      <td>NaN</td>\n",
       "      <td>NaN</td>\n",
       "      <td>NaN</td>\n",
       "      <td>1/21/2016</td>\n",
       "      <td>5.109316e+09</td>\n",
       "      <td>5.109316e+09</td>\n",
       "      <td>1/19/2016</td>\n",
       "      <td>34.2</td>\n",
       "      <td>...</td>\n",
       "      <td>FISHER HEALTHCARE</td>\n",
       "      <td>41112220.0</td>\n",
       "      <td>LABORATORY FREEZER OR REFRIGERATOR THERMOMETERS</td>\n",
       "      <td>WB</td>\n",
       "      <td>Janice Carter</td>\n",
       "      <td>NaN</td>\n",
       "      <td>NaN</td>\n",
       "      <td>12101192.0</td>\n",
       "      <td>10.0</td>\n",
       "      <td>5.70</td>\n",
       "    </tr>\n",
       "    <tr>\n",
       "      <th>2</th>\n",
       "      <td>4.500134e+09</td>\n",
       "      <td>1.0</td>\n",
       "      <td>NaN</td>\n",
       "      <td>NaN</td>\n",
       "      <td>NaN</td>\n",
       "      <td>2/2/2016</td>\n",
       "      <td>5.109324e+09</td>\n",
       "      <td>5.109324e+09</td>\n",
       "      <td>1/27/2016</td>\n",
       "      <td>5.7</td>\n",
       "      <td>...</td>\n",
       "      <td>FISHER HEALTHCARE</td>\n",
       "      <td>41112220.0</td>\n",
       "      <td>LABORATORY FREEZER OR REFRIGERATOR THERMOMETERS</td>\n",
       "      <td>WB</td>\n",
       "      <td>Janice Carter</td>\n",
       "      <td>NaN</td>\n",
       "      <td>NaN</td>\n",
       "      <td>12105105.0</td>\n",
       "      <td>10.0</td>\n",
       "      <td>5.70</td>\n",
       "    </tr>\n",
       "    <tr>\n",
       "      <th>3</th>\n",
       "      <td>4.500135e+09</td>\n",
       "      <td>285.0</td>\n",
       "      <td>NaN</td>\n",
       "      <td>NONC1500-M</td>\n",
       "      <td>NaN</td>\n",
       "      <td>2/23/2016</td>\n",
       "      <td>5.109339e+09</td>\n",
       "      <td>1.094749e+09</td>\n",
       "      <td>2/16/2016</td>\n",
       "      <td>260.81</td>\n",
       "      <td>...</td>\n",
       "      <td>MEDLINE INDUSTRIES INC</td>\n",
       "      <td>42182201.0</td>\n",
       "      <td>ELECTRONIC MEDICAL THERMOMETERS</td>\n",
       "      <td>WB</td>\n",
       "      <td>Janice Carter</td>\n",
       "      <td>NaN</td>\n",
       "      <td>NaN</td>\n",
       "      <td>12114089.0</td>\n",
       "      <td>10.0</td>\n",
       "      <td>260.81</td>\n",
       "    </tr>\n",
       "    <tr>\n",
       "      <th>4</th>\n",
       "      <td>4.500135e+09</td>\n",
       "      <td>2.0</td>\n",
       "      <td>NaN</td>\n",
       "      <td>NONC1500-M</td>\n",
       "      <td>NaN</td>\n",
       "      <td>2/29/2016</td>\n",
       "      <td>5.109344e+09</td>\n",
       "      <td>1.094976e+09</td>\n",
       "      <td>2/26/2016</td>\n",
       "      <td>22.32</td>\n",
       "      <td>...</td>\n",
       "      <td>MEDLINE INDUSTRIES INC</td>\n",
       "      <td>42182201.0</td>\n",
       "      <td>ELECTRONIC MEDICAL THERMOMETERS</td>\n",
       "      <td>LB</td>\n",
       "      <td>LUM Buyer</td>\n",
       "      <td>NaN</td>\n",
       "      <td>NaN</td>\n",
       "      <td>12119375.0</td>\n",
       "      <td>26.0</td>\n",
       "      <td>1.86</td>\n",
       "    </tr>\n",
       "  </tbody>\n",
       "</table>\n",
       "<p>5 rows × 52 columns</p>\n",
       "</div>"
      ],
      "text/plain": [
       "      PO Number  PO Line Cont Ind    Contract Cont Type Invoice Date  \\\n",
       "0  4.500134e+09    300.0      NaN  NONC1500-M       NaN    1/22/2016   \n",
       "1  4.500134e+09      3.0      NaN         NaN       NaN    1/21/2016   \n",
       "2  4.500134e+09      1.0      NaN         NaN       NaN     2/2/2016   \n",
       "3  4.500135e+09    285.0      NaN  NONC1500-M       NaN    2/23/2016   \n",
       "4  4.500135e+09      2.0      NaN  NONC1500-M       NaN    2/29/2016   \n",
       "\n",
       "     Invoice No  Vendor Reference Date PO Created Total Cost per Line  \\\n",
       "0  5.109316e+09      1.093508e+09       1/19/2016              260.81   \n",
       "1  5.109316e+09      5.109316e+09       1/19/2016                34.2   \n",
       "2  5.109324e+09      5.109324e+09       1/27/2016                 5.7   \n",
       "3  5.109339e+09      1.094749e+09       2/16/2016              260.81   \n",
       "4  5.109344e+09      1.094976e+09       2/26/2016               22.32   \n",
       "\n",
       "       ...             Manufacturer Name  UNSPSC code  \\\n",
       "0      ...        MEDLINE INDUSTRIES INC   42182201.0   \n",
       "1      ...             FISHER HEALTHCARE   41112220.0   \n",
       "2      ...             FISHER HEALTHCARE   41112220.0   \n",
       "3      ...        MEDLINE INDUSTRIES INC   42182201.0   \n",
       "4      ...        MEDLINE INDUSTRIES INC   42182201.0   \n",
       "\n",
       "                                       UNSPSC Desc  Purch Gp     Buyer Name  \\\n",
       "0                  ELECTRONIC MEDICAL THERMOMETERS        WB  Janice Carter   \n",
       "1  LABORATORY FREEZER OR REFRIGERATOR THERMOMETERS        WB  Janice Carter   \n",
       "2  LABORATORY FREEZER OR REFRIGERATOR THERMOMETERS        WB  Janice Carter   \n",
       "3                  ELECTRONIC MEDICAL THERMOMETERS        WB  Janice Carter   \n",
       "4                  ELECTRONIC MEDICAL THERMOMETERS        LB      LUM Buyer   \n",
       "\n",
       "   Case No SQ Cart No      Req No Req Line  PO Unit Price  \n",
       "0      NaN        NaN  12101312.0     10.0         260.81  \n",
       "1      NaN        NaN  12101192.0     10.0           5.70  \n",
       "2      NaN        NaN  12105105.0     10.0           5.70  \n",
       "3      NaN        NaN  12114089.0     10.0         260.81  \n",
       "4      NaN        NaN  12119375.0     26.0           1.86  \n",
       "\n",
       "[5 rows x 52 columns]"
      ]
     },
     "execution_count": 275,
     "metadata": {},
     "output_type": "execute_result"
    }
   ],
   "source": [
    "df.head()"
   ]
  },
  {
   "cell_type": "code",
   "execution_count": 276,
   "metadata": {},
   "outputs": [
    {
     "data": {
      "text/plain": [
       "33"
      ]
     },
     "execution_count": 276,
     "metadata": {},
     "output_type": "execute_result"
    }
   ],
   "source": [
    "len(df.index) # sum total row Number"
   ]
  },
  {
   "cell_type": "code",
   "execution_count": 277,
   "metadata": {},
   "outputs": [
    {
     "data": {
      "text/html": [
       "<div>\n",
       "<table border=\"1\" class=\"dataframe\">\n",
       "  <thead>\n",
       "    <tr style=\"text-align: right;\">\n",
       "      <th></th>\n",
       "      <th>PO Number</th>\n",
       "      <th>PO Line</th>\n",
       "      <th>Cont Ind</th>\n",
       "      <th>Contract</th>\n",
       "      <th>Cont Type</th>\n",
       "      <th>Invoice Date</th>\n",
       "      <th>Invoice No</th>\n",
       "      <th>Vendor Reference</th>\n",
       "      <th>Date PO Created</th>\n",
       "      <th>Total Cost per Line</th>\n",
       "      <th>...</th>\n",
       "      <th>Manufacturer Name</th>\n",
       "      <th>UNSPSC code</th>\n",
       "      <th>UNSPSC Desc</th>\n",
       "      <th>Purch Gp</th>\n",
       "      <th>Buyer Name</th>\n",
       "      <th>Case No</th>\n",
       "      <th>SQ Cart No</th>\n",
       "      <th>Req No</th>\n",
       "      <th>Req Line</th>\n",
       "      <th>PO Unit Price</th>\n",
       "    </tr>\n",
       "  </thead>\n",
       "  <tbody>\n",
       "    <tr>\n",
       "      <th>32</th>\n",
       "      <td>NaN</td>\n",
       "      <td>NaN</td>\n",
       "      <td>NaN</td>\n",
       "      <td>NaN</td>\n",
       "      <td>NaN</td>\n",
       "      <td>NaN</td>\n",
       "      <td>NaN</td>\n",
       "      <td>NaN</td>\n",
       "      <td>NaN</td>\n",
       "      <td>5,147.42</td>\n",
       "      <td>...</td>\n",
       "      <td>NaN</td>\n",
       "      <td>NaN</td>\n",
       "      <td>NaN</td>\n",
       "      <td>NaN</td>\n",
       "      <td>NaN</td>\n",
       "      <td>NaN</td>\n",
       "      <td>NaN</td>\n",
       "      <td>NaN</td>\n",
       "      <td>NaN</td>\n",
       "      <td>NaN</td>\n",
       "    </tr>\n",
       "  </tbody>\n",
       "</table>\n",
       "<p>1 rows × 52 columns</p>\n",
       "</div>"
      ],
      "text/plain": [
       "    PO Number  PO Line Cont Ind Contract Cont Type Invoice Date  Invoice No  \\\n",
       "32        NaN      NaN      NaN      NaN       NaN          NaN         NaN   \n",
       "\n",
       "    Vendor Reference Date PO Created Total Cost per Line      ...        \\\n",
       "32               NaN             NaN            5,147.42      ...         \n",
       "\n",
       "    Manufacturer Name  UNSPSC code  UNSPSC Desc  Purch Gp  Buyer Name  \\\n",
       "32                NaN          NaN          NaN       NaN         NaN   \n",
       "\n",
       "    Case No SQ Cart No Req No Req Line  PO Unit Price  \n",
       "32      NaN        NaN    NaN      NaN            NaN  \n",
       "\n",
       "[1 rows x 52 columns]"
      ]
     },
     "execution_count": 277,
     "metadata": {},
     "output_type": "execute_result"
    }
   ],
   "source": [
    "df.tail(1) #last row as df"
   ]
  },
  {
   "cell_type": "code",
   "execution_count": 278,
   "metadata": {
    "collapsed": true
   },
   "outputs": [],
   "source": [
    "df_sap = df[df['Qty Paid'] != 0]"
   ]
  },
  {
   "cell_type": "code",
   "execution_count": null,
   "metadata": {},
   "outputs": [],
   "source": []
  },
  {
   "cell_type": "code",
   "execution_count": 279,
   "metadata": {},
   "outputs": [
    {
     "data": {
      "text/html": [
       "<div>\n",
       "<table border=\"1\" class=\"dataframe\">\n",
       "  <thead>\n",
       "    <tr style=\"text-align: right;\">\n",
       "      <th></th>\n",
       "      <th>MPN-UOM</th>\n",
       "      <th>Date PO Created</th>\n",
       "      <th>Description</th>\n",
       "      <th>Unit Price less Dist Fee</th>\n",
       "    </tr>\n",
       "  </thead>\n",
       "  <tbody>\n",
       "    <tr>\n",
       "      <th>0</th>\n",
       "      <td>MDS9950-CS</td>\n",
       "      <td>1/19/2016</td>\n",
       "      <td>THERMOMETER ORAL ELEC DGTL SCALE 144/CS</td>\n",
       "      <td>256.32</td>\n",
       "    </tr>\n",
       "    <tr>\n",
       "      <th>1</th>\n",
       "      <td>13-201-966-EA</td>\n",
       "      <td>1/19/2016</td>\n",
       "      <td>THERMOMETER 15105S FRZ-GUIDE -40 TO +80</td>\n",
       "      <td>5.70</td>\n",
       "    </tr>\n",
       "    <tr>\n",
       "      <th>2</th>\n",
       "      <td>13-201-966-EA</td>\n",
       "      <td>1/27/2016</td>\n",
       "      <td>THERMOMETER 15105S FRZ-GUIDE -40 TO +80</td>\n",
       "      <td>5.70</td>\n",
       "    </tr>\n",
       "    <tr>\n",
       "      <th>3</th>\n",
       "      <td>MDS9950-CS</td>\n",
       "      <td>2/16/2016</td>\n",
       "      <td>THERMOMETER ORAL ELEC DGTL SCALE 144/CS</td>\n",
       "      <td>256.32</td>\n",
       "    </tr>\n",
       "    <tr>\n",
       "      <th>4</th>\n",
       "      <td>MDS9950-EA</td>\n",
       "      <td>2/26/2016</td>\n",
       "      <td>THERMOMETER ORAL ELEC DGTL SCALE</td>\n",
       "      <td>1.83</td>\n",
       "    </tr>\n",
       "  </tbody>\n",
       "</table>\n",
       "</div>"
      ],
      "text/plain": [
       "         MPN-UOM Date PO Created                              Description  \\\n",
       "0     MDS9950-CS       1/19/2016  THERMOMETER ORAL ELEC DGTL SCALE 144/CS   \n",
       "1  13-201-966-EA       1/19/2016  THERMOMETER 15105S FRZ-GUIDE -40 TO +80   \n",
       "2  13-201-966-EA       1/27/2016  THERMOMETER 15105S FRZ-GUIDE -40 TO +80   \n",
       "3     MDS9950-CS       2/16/2016  THERMOMETER ORAL ELEC DGTL SCALE 144/CS   \n",
       "4     MDS9950-EA       2/26/2016         THERMOMETER ORAL ELEC DGTL SCALE   \n",
       "\n",
       "   Unit Price less Dist Fee  \n",
       "0                    256.32  \n",
       "1                      5.70  \n",
       "2                      5.70  \n",
       "3                    256.32  \n",
       "4                      1.83  "
      ]
     },
     "execution_count": 279,
     "metadata": {},
     "output_type": "execute_result"
    }
   ],
   "source": [
    "\n",
    "\n",
    "# Last Tab \n",
    "s1 = df_sap['Manufacturer Part No']\n",
    "s2 = df_sap['U O M']\n",
    "df_sap['MPN-UOM'] = s1.str.cat(s2, sep = '-')\n",
    "\n",
    "s3 = df_sap['MPN-UOM']\n",
    "s4 = df_sap['Date PO Created']\n",
    "s5 = df_sap['Description']\n",
    "s6 = df_sap['Unit Price less Dist Fee']\n",
    "pd.concat([s3, s4, s5, s6], axis=1).head()\n",
    "\n"
   ]
  },
  {
   "cell_type": "code",
   "execution_count": 280,
   "metadata": {},
   "outputs": [
    {
     "data": {
      "text/html": [
       "<div>\n",
       "<table border=\"1\" class=\"dataframe\">\n",
       "  <thead>\n",
       "    <tr style=\"text-align: right;\">\n",
       "      <th></th>\n",
       "      <th>MPN-UOM</th>\n",
       "      <th>Date PO Created</th>\n",
       "      <th>Description</th>\n",
       "      <th>Unit Price less Dist Fee</th>\n",
       "    </tr>\n",
       "  </thead>\n",
       "  <tbody>\n",
       "    <tr>\n",
       "      <th>4</th>\n",
       "      <td>MDS9950-EA</td>\n",
       "      <td>2/26/2016</td>\n",
       "      <td>THERMOMETER ORAL ELEC DGTL SCALE</td>\n",
       "      <td>1.83</td>\n",
       "    </tr>\n",
       "    <tr>\n",
       "      <th>3</th>\n",
       "      <td>MDS9950-CS</td>\n",
       "      <td>2/16/2016</td>\n",
       "      <td>THERMOMETER ORAL ELEC DGTL SCALE 144/CS</td>\n",
       "      <td>256.32</td>\n",
       "    </tr>\n",
       "    <tr>\n",
       "      <th>2</th>\n",
       "      <td>13-201-966-EA</td>\n",
       "      <td>1/27/2016</td>\n",
       "      <td>THERMOMETER 15105S FRZ-GUIDE -40 TO +80</td>\n",
       "      <td>5.70</td>\n",
       "    </tr>\n",
       "    <tr>\n",
       "      <th>1</th>\n",
       "      <td>13-201-966-EA</td>\n",
       "      <td>1/19/2016</td>\n",
       "      <td>THERMOMETER 15105S FRZ-GUIDE -40 TO +80</td>\n",
       "      <td>5.70</td>\n",
       "    </tr>\n",
       "    <tr>\n",
       "      <th>0</th>\n",
       "      <td>MDS9950-CS</td>\n",
       "      <td>1/19/2016</td>\n",
       "      <td>THERMOMETER ORAL ELEC DGTL SCALE 144/CS</td>\n",
       "      <td>256.32</td>\n",
       "    </tr>\n",
       "  </tbody>\n",
       "</table>\n",
       "</div>"
      ],
      "text/plain": [
       "         MPN-UOM Date PO Created                              Description  \\\n",
       "4     MDS9950-EA       2/26/2016         THERMOMETER ORAL ELEC DGTL SCALE   \n",
       "3     MDS9950-CS       2/16/2016  THERMOMETER ORAL ELEC DGTL SCALE 144/CS   \n",
       "2  13-201-966-EA       1/27/2016  THERMOMETER 15105S FRZ-GUIDE -40 TO +80   \n",
       "1  13-201-966-EA       1/19/2016  THERMOMETER 15105S FRZ-GUIDE -40 TO +80   \n",
       "0     MDS9950-CS       1/19/2016  THERMOMETER ORAL ELEC DGTL SCALE 144/CS   \n",
       "\n",
       "   Unit Price less Dist Fee  \n",
       "4                      1.83  \n",
       "3                    256.32  \n",
       "2                      5.70  \n",
       "1                      5.70  \n",
       "0                    256.32  "
      ]
     },
     "execution_count": 280,
     "metadata": {},
     "output_type": "execute_result"
    }
   ],
   "source": [
    "df_last = pd.concat([s3, s4, s5, s6], axis=1).head()\n",
    "df_last = df_last.sort_values(['Date PO Created', 'MPN-UOM'],ascending = [0,1])\n",
    "df_last"
   ]
  },
  {
   "cell_type": "code",
   "execution_count": 281,
   "metadata": {
    "scrolled": true
   },
   "outputs": [
    {
     "data": {
      "text/html": [
       "<div>\n",
       "<table border=\"1\" class=\"dataframe\">\n",
       "  <thead>\n",
       "    <tr style=\"text-align: right;\">\n",
       "      <th></th>\n",
       "      <th>MPN-UOM</th>\n",
       "      <th>Date PO Created</th>\n",
       "      <th>Description</th>\n",
       "      <th>Unit Price less Dist Fee</th>\n",
       "    </tr>\n",
       "  </thead>\n",
       "  <tbody>\n",
       "    <tr>\n",
       "      <th>4</th>\n",
       "      <td>MDS9950-EA</td>\n",
       "      <td>2/26/2016</td>\n",
       "      <td>THERMOMETER ORAL ELEC DGTL SCALE</td>\n",
       "      <td>1.83</td>\n",
       "    </tr>\n",
       "    <tr>\n",
       "      <th>3</th>\n",
       "      <td>MDS9950-CS</td>\n",
       "      <td>2/16/2016</td>\n",
       "      <td>THERMOMETER ORAL ELEC DGTL SCALE 144/CS</td>\n",
       "      <td>256.32</td>\n",
       "    </tr>\n",
       "    <tr>\n",
       "      <th>2</th>\n",
       "      <td>13-201-966-EA</td>\n",
       "      <td>1/27/2016</td>\n",
       "      <td>THERMOMETER 15105S FRZ-GUIDE -40 TO +80</td>\n",
       "      <td>5.70</td>\n",
       "    </tr>\n",
       "  </tbody>\n",
       "</table>\n",
       "</div>"
      ],
      "text/plain": [
       "         MPN-UOM Date PO Created                              Description  \\\n",
       "4     MDS9950-EA       2/26/2016         THERMOMETER ORAL ELEC DGTL SCALE   \n",
       "3     MDS9950-CS       2/16/2016  THERMOMETER ORAL ELEC DGTL SCALE 144/CS   \n",
       "2  13-201-966-EA       1/27/2016  THERMOMETER 15105S FRZ-GUIDE -40 TO +80   \n",
       "\n",
       "   Unit Price less Dist Fee  \n",
       "4                      1.83  \n",
       "3                    256.32  \n",
       "2                      5.70  "
      ]
     },
     "execution_count": 281,
     "metadata": {},
     "output_type": "execute_result"
    }
   ],
   "source": [
    "\n",
    "df_last = df_last.drop_duplicates(subset = ['MPN-UOM'], keep = 'first')\n",
    "df_last"
   ]
  },
  {
   "cell_type": "code",
   "execution_count": 282,
   "metadata": {},
   "outputs": [
    {
     "data": {
      "text/html": [
       "<div>\n",
       "<table border=\"1\" class=\"dataframe\">\n",
       "  <thead>\n",
       "    <tr style=\"text-align: right;\">\n",
       "      <th></th>\n",
       "      <th>MPN-UOM</th>\n",
       "      <th>Date PO Created</th>\n",
       "      <th>Last Description</th>\n",
       "      <th>Last Price</th>\n",
       "    </tr>\n",
       "  </thead>\n",
       "  <tbody>\n",
       "    <tr>\n",
       "      <th>4</th>\n",
       "      <td>MDS9950-EA</td>\n",
       "      <td>2/26/2016</td>\n",
       "      <td>THERMOMETER ORAL ELEC DGTL SCALE</td>\n",
       "      <td>1.83</td>\n",
       "    </tr>\n",
       "    <tr>\n",
       "      <th>3</th>\n",
       "      <td>MDS9950-CS</td>\n",
       "      <td>2/16/2016</td>\n",
       "      <td>THERMOMETER ORAL ELEC DGTL SCALE 144/CS</td>\n",
       "      <td>256.32</td>\n",
       "    </tr>\n",
       "    <tr>\n",
       "      <th>2</th>\n",
       "      <td>13-201-966-EA</td>\n",
       "      <td>1/27/2016</td>\n",
       "      <td>THERMOMETER 15105S FRZ-GUIDE -40 TO +80</td>\n",
       "      <td>5.70</td>\n",
       "    </tr>\n",
       "  </tbody>\n",
       "</table>\n",
       "</div>"
      ],
      "text/plain": [
       "         MPN-UOM Date PO Created                         Last Description  \\\n",
       "4     MDS9950-EA       2/26/2016         THERMOMETER ORAL ELEC DGTL SCALE   \n",
       "3     MDS9950-CS       2/16/2016  THERMOMETER ORAL ELEC DGTL SCALE 144/CS   \n",
       "2  13-201-966-EA       1/27/2016  THERMOMETER 15105S FRZ-GUIDE -40 TO +80   \n",
       "\n",
       "   Last Price  \n",
       "4        1.83  \n",
       "3      256.32  \n",
       "2        5.70  "
      ]
     },
     "execution_count": 282,
     "metadata": {},
     "output_type": "execute_result"
    }
   ],
   "source": [
    "#df_last.loc['Last Price'] = df_last['Unit Price less Dist Fee']\n",
    "df_last = df_last.rename(columns = {'Unit Price less Dist Fee':'Last Price'})\n",
    "df_last = df_last.rename(columns = {'Description':'Last Description'})\n",
    "df_last"
   ]
  },
  {
   "cell_type": "code",
   "execution_count": 284,
   "metadata": {},
   "outputs": [],
   "source": [
    "df_sum = pd.merge(df_sap, df_last, left_on = 'MPN-UOM', right_on = 'MPN-UOM', how='left')\n",
    "df_sum.to_csv('file_name.csv')"
   ]
  },
  {
   "cell_type": "code",
   "execution_count": 327,
   "metadata": {
    "scrolled": false
   },
   "outputs": [],
   "source": [
    "df_sum['Total'] = df_sum['Last Price'] * df_sum['Qty Paid']\n"
   ]
  },
  {
   "cell_type": "code",
   "execution_count": 328,
   "metadata": {
    "scrolled": true
   },
   "outputs": [
    {
     "data": {
      "text/html": [
       "<div>\n",
       "<table border=\"1\" class=\"dataframe\">\n",
       "  <thead>\n",
       "    <tr style=\"text-align: right;\">\n",
       "      <th></th>\n",
       "      <th>PO Number</th>\n",
       "      <th>PO Line</th>\n",
       "      <th>Cont Ind</th>\n",
       "      <th>Contract</th>\n",
       "      <th>Cont Type</th>\n",
       "      <th>Invoice Date</th>\n",
       "      <th>Invoice No</th>\n",
       "      <th>Vendor Reference</th>\n",
       "      <th>Date PO Created_x</th>\n",
       "      <th>Total Cost per Line</th>\n",
       "      <th>...</th>\n",
       "      <th>Case No</th>\n",
       "      <th>SQ Cart No</th>\n",
       "      <th>Req No</th>\n",
       "      <th>Req Line</th>\n",
       "      <th>PO Unit Price</th>\n",
       "      <th>MPN-UOM</th>\n",
       "      <th>Date PO Created_y</th>\n",
       "      <th>Last Description</th>\n",
       "      <th>Last Price</th>\n",
       "      <th>Total</th>\n",
       "    </tr>\n",
       "  </thead>\n",
       "  <tbody>\n",
       "    <tr>\n",
       "      <th>0</th>\n",
       "      <td>4.500134e+09</td>\n",
       "      <td>300.0</td>\n",
       "      <td>NaN</td>\n",
       "      <td>NONC1500-M</td>\n",
       "      <td>NaN</td>\n",
       "      <td>1/22/2016</td>\n",
       "      <td>5.109316e+09</td>\n",
       "      <td>1.093508e+09</td>\n",
       "      <td>1/19/2016</td>\n",
       "      <td>260.81</td>\n",
       "      <td>...</td>\n",
       "      <td>NaN</td>\n",
       "      <td>NaN</td>\n",
       "      <td>12101312.0</td>\n",
       "      <td>10.0</td>\n",
       "      <td>260.81</td>\n",
       "      <td>MDS9950-CS</td>\n",
       "      <td>2/16/2016</td>\n",
       "      <td>THERMOMETER ORAL ELEC DGTL SCALE 144/CS</td>\n",
       "      <td>256.32</td>\n",
       "      <td>256.32</td>\n",
       "    </tr>\n",
       "    <tr>\n",
       "      <th>1</th>\n",
       "      <td>4.500134e+09</td>\n",
       "      <td>3.0</td>\n",
       "      <td>NaN</td>\n",
       "      <td>NaN</td>\n",
       "      <td>NaN</td>\n",
       "      <td>1/21/2016</td>\n",
       "      <td>5.109316e+09</td>\n",
       "      <td>5.109316e+09</td>\n",
       "      <td>1/19/2016</td>\n",
       "      <td>34.2</td>\n",
       "      <td>...</td>\n",
       "      <td>NaN</td>\n",
       "      <td>NaN</td>\n",
       "      <td>12101192.0</td>\n",
       "      <td>10.0</td>\n",
       "      <td>5.70</td>\n",
       "      <td>13-201-966-EA</td>\n",
       "      <td>1/27/2016</td>\n",
       "      <td>THERMOMETER 15105S FRZ-GUIDE -40 TO +80</td>\n",
       "      <td>5.70</td>\n",
       "      <td>34.20</td>\n",
       "    </tr>\n",
       "    <tr>\n",
       "      <th>2</th>\n",
       "      <td>4.500134e+09</td>\n",
       "      <td>1.0</td>\n",
       "      <td>NaN</td>\n",
       "      <td>NaN</td>\n",
       "      <td>NaN</td>\n",
       "      <td>2/2/2016</td>\n",
       "      <td>5.109324e+09</td>\n",
       "      <td>5.109324e+09</td>\n",
       "      <td>1/27/2016</td>\n",
       "      <td>5.7</td>\n",
       "      <td>...</td>\n",
       "      <td>NaN</td>\n",
       "      <td>NaN</td>\n",
       "      <td>12105105.0</td>\n",
       "      <td>10.0</td>\n",
       "      <td>5.70</td>\n",
       "      <td>13-201-966-EA</td>\n",
       "      <td>1/27/2016</td>\n",
       "      <td>THERMOMETER 15105S FRZ-GUIDE -40 TO +80</td>\n",
       "      <td>5.70</td>\n",
       "      <td>5.70</td>\n",
       "    </tr>\n",
       "    <tr>\n",
       "      <th>3</th>\n",
       "      <td>4.500135e+09</td>\n",
       "      <td>285.0</td>\n",
       "      <td>NaN</td>\n",
       "      <td>NONC1500-M</td>\n",
       "      <td>NaN</td>\n",
       "      <td>2/23/2016</td>\n",
       "      <td>5.109339e+09</td>\n",
       "      <td>1.094749e+09</td>\n",
       "      <td>2/16/2016</td>\n",
       "      <td>260.81</td>\n",
       "      <td>...</td>\n",
       "      <td>NaN</td>\n",
       "      <td>NaN</td>\n",
       "      <td>12114089.0</td>\n",
       "      <td>10.0</td>\n",
       "      <td>260.81</td>\n",
       "      <td>MDS9950-CS</td>\n",
       "      <td>2/16/2016</td>\n",
       "      <td>THERMOMETER ORAL ELEC DGTL SCALE 144/CS</td>\n",
       "      <td>256.32</td>\n",
       "      <td>256.32</td>\n",
       "    </tr>\n",
       "    <tr>\n",
       "      <th>4</th>\n",
       "      <td>4.500135e+09</td>\n",
       "      <td>2.0</td>\n",
       "      <td>NaN</td>\n",
       "      <td>NONC1500-M</td>\n",
       "      <td>NaN</td>\n",
       "      <td>2/29/2016</td>\n",
       "      <td>5.109344e+09</td>\n",
       "      <td>1.094976e+09</td>\n",
       "      <td>2/26/2016</td>\n",
       "      <td>22.32</td>\n",
       "      <td>...</td>\n",
       "      <td>NaN</td>\n",
       "      <td>NaN</td>\n",
       "      <td>12119375.0</td>\n",
       "      <td>26.0</td>\n",
       "      <td>1.86</td>\n",
       "      <td>MDS9950-EA</td>\n",
       "      <td>2/26/2016</td>\n",
       "      <td>THERMOMETER ORAL ELEC DGTL SCALE</td>\n",
       "      <td>1.83</td>\n",
       "      <td>21.96</td>\n",
       "    </tr>\n",
       "  </tbody>\n",
       "</table>\n",
       "<p>5 rows × 57 columns</p>\n",
       "</div>"
      ],
      "text/plain": [
       "      PO Number  PO Line Cont Ind    Contract Cont Type Invoice Date  \\\n",
       "0  4.500134e+09    300.0      NaN  NONC1500-M       NaN    1/22/2016   \n",
       "1  4.500134e+09      3.0      NaN         NaN       NaN    1/21/2016   \n",
       "2  4.500134e+09      1.0      NaN         NaN       NaN     2/2/2016   \n",
       "3  4.500135e+09    285.0      NaN  NONC1500-M       NaN    2/23/2016   \n",
       "4  4.500135e+09      2.0      NaN  NONC1500-M       NaN    2/29/2016   \n",
       "\n",
       "     Invoice No  Vendor Reference Date PO Created_x Total Cost per Line  \\\n",
       "0  5.109316e+09      1.093508e+09         1/19/2016              260.81   \n",
       "1  5.109316e+09      5.109316e+09         1/19/2016                34.2   \n",
       "2  5.109324e+09      5.109324e+09         1/27/2016                 5.7   \n",
       "3  5.109339e+09      1.094749e+09         2/16/2016              260.81   \n",
       "4  5.109344e+09      1.094976e+09         2/26/2016               22.32   \n",
       "\n",
       "    ...    Case No  SQ Cart No      Req No  Req Line  PO Unit Price  \\\n",
       "0   ...        NaN         NaN  12101312.0      10.0         260.81   \n",
       "1   ...        NaN         NaN  12101192.0      10.0           5.70   \n",
       "2   ...        NaN         NaN  12105105.0      10.0           5.70   \n",
       "3   ...        NaN         NaN  12114089.0      10.0         260.81   \n",
       "4   ...        NaN         NaN  12119375.0      26.0           1.86   \n",
       "\n",
       "         MPN-UOM Date PO Created_y                         Last Description  \\\n",
       "0     MDS9950-CS         2/16/2016  THERMOMETER ORAL ELEC DGTL SCALE 144/CS   \n",
       "1  13-201-966-EA         1/27/2016  THERMOMETER 15105S FRZ-GUIDE -40 TO +80   \n",
       "2  13-201-966-EA         1/27/2016  THERMOMETER 15105S FRZ-GUIDE -40 TO +80   \n",
       "3     MDS9950-CS         2/16/2016  THERMOMETER ORAL ELEC DGTL SCALE 144/CS   \n",
       "4     MDS9950-EA         2/26/2016         THERMOMETER ORAL ELEC DGTL SCALE   \n",
       "\n",
       "  Last Price   Total  \n",
       "0     256.32  256.32  \n",
       "1       5.70   34.20  \n",
       "2       5.70    5.70  \n",
       "3     256.32  256.32  \n",
       "4       1.83   21.96  \n",
       "\n",
       "[5 rows x 57 columns]"
      ]
     },
     "execution_count": 328,
     "metadata": {},
     "output_type": "execute_result"
    }
   ],
   "source": [
    "df_sum.head()"
   ]
  },
  {
   "cell_type": "code",
   "execution_count": 336,
   "metadata": {},
   "outputs": [
    {
     "data": {
      "text/html": [
       "<div>\n",
       "<table border=\"1\" class=\"dataframe\">\n",
       "  <thead>\n",
       "    <tr style=\"text-align: right;\">\n",
       "      <th></th>\n",
       "      <th></th>\n",
       "      <th></th>\n",
       "      <th></th>\n",
       "      <th>Qty Paid</th>\n",
       "      <th>Total</th>\n",
       "    </tr>\n",
       "    <tr>\n",
       "      <th>Manufacturer Name</th>\n",
       "      <th>Last Description</th>\n",
       "      <th>Last Price</th>\n",
       "      <th>U O M</th>\n",
       "      <th></th>\n",
       "      <th></th>\n",
       "    </tr>\n",
       "  </thead>\n",
       "  <tbody>\n",
       "    <tr>\n",
       "      <th>FISHER HEALTHCARE</th>\n",
       "      <th>THERMOMETER 15105S FRZ-GUIDE -40 TO +80</th>\n",
       "      <th>5.70</th>\n",
       "      <th>EA</th>\n",
       "      <td>9.0</td>\n",
       "      <td>51.30</td>\n",
       "    </tr>\n",
       "    <tr>\n",
       "      <th rowspan=\"2\" valign=\"top\">MEDLINE INDUSTRIES INC</th>\n",
       "      <th>THERMOMETER ORAL ELEC DGTL SCALE</th>\n",
       "      <th>1.83</th>\n",
       "      <th>EA</th>\n",
       "      <td>250.0</td>\n",
       "      <td>457.50</td>\n",
       "    </tr>\n",
       "    <tr>\n",
       "      <th>THERMOMETER ORAL ELEC DGTL SCALE 144/CS</th>\n",
       "      <th>256.32</th>\n",
       "      <th>CS</th>\n",
       "      <td>2.0</td>\n",
       "      <td>512.64</td>\n",
       "    </tr>\n",
       "  </tbody>\n",
       "</table>\n",
       "</div>"
      ],
      "text/plain": [
       "                                                                                 Qty Paid  \\\n",
       "Manufacturer Name      Last Description                        Last Price U O M             \n",
       "FISHER HEALTHCARE      THERMOMETER 15105S FRZ-GUIDE -40 TO +80 5.70       EA          9.0   \n",
       "MEDLINE INDUSTRIES INC THERMOMETER ORAL ELEC DGTL SCALE        1.83       EA        250.0   \n",
       "                       THERMOMETER ORAL ELEC DGTL SCALE 144/CS 256.32     CS          2.0   \n",
       "\n",
       "                                                                                  Total  \n",
       "Manufacturer Name      Last Description                        Last Price U O M          \n",
       "FISHER HEALTHCARE      THERMOMETER 15105S FRZ-GUIDE -40 TO +80 5.70       EA      51.30  \n",
       "MEDLINE INDUSTRIES INC THERMOMETER ORAL ELEC DGTL SCALE        1.83       EA     457.50  \n",
       "                       THERMOMETER ORAL ELEC DGTL SCALE 144/CS 256.32     CS     512.64  "
      ]
     },
     "execution_count": 336,
     "metadata": {},
     "output_type": "execute_result"
    }
   ],
   "source": [
    "table = pd.pivot_table(df_sum, values=['Qty Paid', 'Total'], index=['Manufacturer Name', 'Last Description', 'Last Price', 'U O M'], columns = [], aggfunc=np.sum)\n",
    "table"
   ]
  },
  {
   "cell_type": "code",
   "execution_count": 337,
   "metadata": {},
   "outputs": [
    {
     "data": {
      "text/plain": [
       "1021.4400000000001"
      ]
     },
     "execution_count": 337,
     "metadata": {},
     "output_type": "execute_result"
    }
   ],
   "source": [
    "table\n",
    "table.columns\n",
    "table['Total'].sum()"
   ]
  },
  {
   "cell_type": "code",
   "execution_count": 334,
   "metadata": {},
   "outputs": [
    {
     "data": {
      "text/html": [
       "<div>\n",
       "<table border=\"1\" class=\"dataframe\">\n",
       "  <thead>\n",
       "    <tr style=\"text-align: right;\">\n",
       "      <th></th>\n",
       "      <th>Qty Paid</th>\n",
       "      <th>Total</th>\n",
       "    </tr>\n",
       "  </thead>\n",
       "  <tbody>\n",
       "    <tr>\n",
       "      <th>(FISHER HEALTHCARE, THERMOMETER 15105S FRZ-GUIDE -40 TO +80, 5.7, EA)</th>\n",
       "      <td>9.00</td>\n",
       "      <td>51.30</td>\n",
       "    </tr>\n",
       "    <tr>\n",
       "      <th>(MEDLINE INDUSTRIES INC, THERMOMETER ORAL ELEC DGTL SCALE, 1.83, EA)</th>\n",
       "      <td>250.00</td>\n",
       "      <td>457.50</td>\n",
       "    </tr>\n",
       "    <tr>\n",
       "      <th>(MEDLINE INDUSTRIES INC, THERMOMETER ORAL ELEC DGTL SCALE 144/CS, 256.32, CS)</th>\n",
       "      <td>2.00</td>\n",
       "      <td>512.64</td>\n",
       "    </tr>\n",
       "    <tr>\n",
       "      <th>Grand Total</th>\n",
       "      <td>1021.44</td>\n",
       "      <td>1021.44</td>\n",
       "    </tr>\n",
       "  </tbody>\n",
       "</table>\n",
       "</div>"
      ],
      "text/plain": [
       "                                                    Qty Paid    Total\n",
       "(FISHER HEALTHCARE, THERMOMETER 15105S FRZ-GUID...      9.00    51.30\n",
       "(MEDLINE INDUSTRIES INC, THERMOMETER ORAL ELEC ...    250.00   457.50\n",
       "(MEDLINE INDUSTRIES INC, THERMOMETER ORAL ELEC ...      2.00   512.64\n",
       "Grand Total                                          1021.44  1021.44"
      ]
     },
     "execution_count": 334,
     "metadata": {},
     "output_type": "execute_result"
    }
   ],
   "source": [
    "table\n"
   ]
  },
  {
   "cell_type": "code",
   "execution_count": 297,
   "metadata": {},
   "outputs": [
    {
     "data": {
      "text/html": [
       "<div>\n",
       "<table border=\"1\" class=\"dataframe\">\n",
       "  <thead>\n",
       "    <tr style=\"text-align: right;\">\n",
       "      <th></th>\n",
       "      <th></th>\n",
       "      <th></th>\n",
       "      <th></th>\n",
       "      <th></th>\n",
       "      <th>Qty Paid</th>\n",
       "    </tr>\n",
       "    <tr>\n",
       "      <th>Manufacturer Name</th>\n",
       "      <th>MPN-UOM</th>\n",
       "      <th>Vendor Mat Number</th>\n",
       "      <th>U O M</th>\n",
       "      <th>Last Price</th>\n",
       "      <th></th>\n",
       "    </tr>\n",
       "  </thead>\n",
       "  <tbody>\n",
       "    <tr>\n",
       "      <th>FISHER HEALTHCARE</th>\n",
       "      <th>13-201-966-EA</th>\n",
       "      <th>13-201-966</th>\n",
       "      <th>EA</th>\n",
       "      <th>5.70</th>\n",
       "      <td>9.0</td>\n",
       "    </tr>\n",
       "    <tr>\n",
       "      <th rowspan=\"2\" valign=\"top\">MEDLINE INDUSTRIES INC</th>\n",
       "      <th>MDS9950-CS</th>\n",
       "      <th>MDS9950</th>\n",
       "      <th>CS</th>\n",
       "      <th>256.32</th>\n",
       "      <td>2.0</td>\n",
       "    </tr>\n",
       "    <tr>\n",
       "      <th>MDS9950-EA</th>\n",
       "      <th>MDS9950H</th>\n",
       "      <th>EA</th>\n",
       "      <th>1.83</th>\n",
       "      <td>250.0</td>\n",
       "    </tr>\n",
       "  </tbody>\n",
       "</table>\n",
       "</div>"
      ],
      "text/plain": [
       "                                                                         Qty Paid\n",
       "Manufacturer Name      MPN-UOM       Vendor Mat Number U O M Last Price          \n",
       "FISHER HEALTHCARE      13-201-966-EA 13-201-966        EA    5.70             9.0\n",
       "MEDLINE INDUSTRIES INC MDS9950-CS    MDS9950           CS    256.32           2.0\n",
       "                       MDS9950-EA    MDS9950H          EA    1.83           250.0"
      ]
     },
     "execution_count": 297,
     "metadata": {},
     "output_type": "execute_result"
    }
   ],
   "source": [
    "df_res = df_sum.groupby(['Manufacturer Name', 'MPN-UOM', 'Vendor Mat Number', 'U O M', 'Last Price'])[['Qty Paid']].sum()\n",
    "df_res.head()\n"
   ]
  },
  {
   "cell_type": "code",
   "execution_count": 292,
   "metadata": {},
   "outputs": [
    {
     "data": {
      "text/plain": [
       "Qty Paid    float64\n",
       "dtype: object"
      ]
     },
     "execution_count": 292,
     "metadata": {},
     "output_type": "execute_result"
    }
   ],
   "source": [
    "#aa = pd.merge(df_sum2, df_last, left_on = 'MPN-UOM', right_on = 'MPN-UOM', how='left')\n",
    "df_sum2.dtypes"
   ]
  },
  {
   "cell_type": "code",
   "execution_count": 293,
   "metadata": {},
   "outputs": [
    {
     "data": {
      "text/plain": [
       "PO Number                   float64\n",
       "PO Line                     float64\n",
       "Cont Ind                     object\n",
       "Contract                     object\n",
       "Cont Type                    object\n",
       "Invoice Date                 object\n",
       "Invoice No                  float64\n",
       "Vendor Reference            float64\n",
       "Date PO Created              object\n",
       "Total Cost per Line          object\n",
       "Freight Amt                   int64\n",
       "Unit Price                  float64\n",
       "Unit Price less Dist Fee    float64\n",
       "Dist Fee %                  float64\n",
       "Dist Fee Amt                float64\n",
       "Qty Paid                    float64\n",
       "MatGrp                       object\n",
       "U O M                        object\n",
       "Material Group Desc          object\n",
       "Item No                     float64\n",
       "Stock                        object\n",
       "Description                  object\n",
       "GL Acct                     float64\n",
       "GL Acct Desc                 object\n",
       "Fund                        float64\n",
       "Fund Ctr                    float64\n",
       "Fund Ctr Desc                object\n",
       "Div Node                     object\n",
       "Division Desc                object\n",
       "Dept Node                    object\n",
       "Department Desc              object\n",
       "Sub-Dept                     object\n",
       "Sub-Dept Desc                object\n",
       "Cost Ctr                    float64\n",
       "Recipient                    object\n",
       "Unloading Pt                 object\n",
       "WBS Element                 float64\n",
       "Vendor No                   float64\n",
       "Vendor Name                  object\n",
       "Vendor Mat Number            object\n",
       "Manufacturer Part No         object\n",
       "Manufacturer                float64\n",
       "Manufacturer Name            object\n",
       "UNSPSC code                 float64\n",
       "UNSPSC Desc                  object\n",
       "Purch Gp                     object\n",
       "Buyer Name                   object\n",
       "Case No                     float64\n",
       "SQ Cart No                  float64\n",
       "Req No                      float64\n",
       "Req Line                    float64\n",
       "PO Unit Price               float64\n",
       "dtype: object"
      ]
     },
     "execution_count": 293,
     "metadata": {},
     "output_type": "execute_result"
    }
   ],
   "source": [
    "df.dtypes"
   ]
  },
  {
   "cell_type": "code",
   "execution_count": 289,
   "metadata": {},
   "outputs": [
    {
     "data": {
      "text/html": [
       "<div>\n",
       "<table border=\"1\" class=\"dataframe\">\n",
       "  <thead>\n",
       "    <tr style=\"text-align: right;\">\n",
       "      <th></th>\n",
       "      <th>Qty Paid</th>\n",
       "    </tr>\n",
       "  </thead>\n",
       "  <tbody>\n",
       "    <tr>\n",
       "      <th>count</th>\n",
       "      <td>3.000000</td>\n",
       "    </tr>\n",
       "    <tr>\n",
       "      <th>mean</th>\n",
       "      <td>87.000000</td>\n",
       "    </tr>\n",
       "    <tr>\n",
       "      <th>std</th>\n",
       "      <td>141.205524</td>\n",
       "    </tr>\n",
       "    <tr>\n",
       "      <th>min</th>\n",
       "      <td>2.000000</td>\n",
       "    </tr>\n",
       "    <tr>\n",
       "      <th>25%</th>\n",
       "      <td>5.500000</td>\n",
       "    </tr>\n",
       "    <tr>\n",
       "      <th>50%</th>\n",
       "      <td>9.000000</td>\n",
       "    </tr>\n",
       "    <tr>\n",
       "      <th>75%</th>\n",
       "      <td>129.500000</td>\n",
       "    </tr>\n",
       "    <tr>\n",
       "      <th>max</th>\n",
       "      <td>250.000000</td>\n",
       "    </tr>\n",
       "  </tbody>\n",
       "</table>\n",
       "</div>"
      ],
      "text/plain": [
       "         Qty Paid\n",
       "count    3.000000\n",
       "mean    87.000000\n",
       "std    141.205524\n",
       "min      2.000000\n",
       "25%      5.500000\n",
       "50%      9.000000\n",
       "75%    129.500000\n",
       "max    250.000000"
      ]
     },
     "execution_count": 289,
     "metadata": {},
     "output_type": "execute_result"
    }
   ],
   "source": [
    "df_sum2.describe()"
   ]
  },
  {
   "cell_type": "code",
   "execution_count": 290,
   "metadata": {},
   "outputs": [
    {
     "ename": "KeyError",
     "evalue": "'Last Price'",
     "output_type": "error",
     "traceback": [
      "\u001b[0;31m---------------------------------------------------------------------------\u001b[0m",
      "\u001b[0;31mKeyError\u001b[0m                                  Traceback (most recent call last)",
      "\u001b[0;32m<ipython-input-290-3512891bf243>\u001b[0m in \u001b[0;36m<module>\u001b[0;34m()\u001b[0m\n\u001b[0;32m----> 1\u001b[0;31m \u001b[1;36m2\u001b[0m\u001b[1;33m*\u001b[0m\u001b[0mdf_sum2\u001b[0m\u001b[1;33m[\u001b[0m\u001b[1;34m'Last Price'\u001b[0m\u001b[1;33m]\u001b[0m\u001b[1;33m\u001b[0m\u001b[0m\n\u001b[0m",
      "\u001b[0;32mC:\\Miniconda3\\envs\\DAND\\lib\\site-packages\\pandas\\core\\frame.pyc\u001b[0m in \u001b[0;36m__getitem__\u001b[0;34m(self, key)\u001b[0m\n\u001b[1;32m   2057\u001b[0m             \u001b[1;32mreturn\u001b[0m \u001b[0mself\u001b[0m\u001b[1;33m.\u001b[0m\u001b[0m_getitem_multilevel\u001b[0m\u001b[1;33m(\u001b[0m\u001b[0mkey\u001b[0m\u001b[1;33m)\u001b[0m\u001b[1;33m\u001b[0m\u001b[0m\n\u001b[1;32m   2058\u001b[0m         \u001b[1;32melse\u001b[0m\u001b[1;33m:\u001b[0m\u001b[1;33m\u001b[0m\u001b[0m\n\u001b[0;32m-> 2059\u001b[0;31m             \u001b[1;32mreturn\u001b[0m \u001b[0mself\u001b[0m\u001b[1;33m.\u001b[0m\u001b[0m_getitem_column\u001b[0m\u001b[1;33m(\u001b[0m\u001b[0mkey\u001b[0m\u001b[1;33m)\u001b[0m\u001b[1;33m\u001b[0m\u001b[0m\n\u001b[0m\u001b[1;32m   2060\u001b[0m \u001b[1;33m\u001b[0m\u001b[0m\n\u001b[1;32m   2061\u001b[0m     \u001b[1;32mdef\u001b[0m \u001b[0m_getitem_column\u001b[0m\u001b[1;33m(\u001b[0m\u001b[0mself\u001b[0m\u001b[1;33m,\u001b[0m \u001b[0mkey\u001b[0m\u001b[1;33m)\u001b[0m\u001b[1;33m:\u001b[0m\u001b[1;33m\u001b[0m\u001b[0m\n",
      "\u001b[0;32mC:\\Miniconda3\\envs\\DAND\\lib\\site-packages\\pandas\\core\\frame.pyc\u001b[0m in \u001b[0;36m_getitem_column\u001b[0;34m(self, key)\u001b[0m\n\u001b[1;32m   2064\u001b[0m         \u001b[1;31m# get column\u001b[0m\u001b[1;33m\u001b[0m\u001b[1;33m\u001b[0m\u001b[0m\n\u001b[1;32m   2065\u001b[0m         \u001b[1;32mif\u001b[0m \u001b[0mself\u001b[0m\u001b[1;33m.\u001b[0m\u001b[0mcolumns\u001b[0m\u001b[1;33m.\u001b[0m\u001b[0mis_unique\u001b[0m\u001b[1;33m:\u001b[0m\u001b[1;33m\u001b[0m\u001b[0m\n\u001b[0;32m-> 2066\u001b[0;31m             \u001b[1;32mreturn\u001b[0m \u001b[0mself\u001b[0m\u001b[1;33m.\u001b[0m\u001b[0m_get_item_cache\u001b[0m\u001b[1;33m(\u001b[0m\u001b[0mkey\u001b[0m\u001b[1;33m)\u001b[0m\u001b[1;33m\u001b[0m\u001b[0m\n\u001b[0m\u001b[1;32m   2067\u001b[0m \u001b[1;33m\u001b[0m\u001b[0m\n\u001b[1;32m   2068\u001b[0m         \u001b[1;31m# duplicate columns & possible reduce dimensionality\u001b[0m\u001b[1;33m\u001b[0m\u001b[1;33m\u001b[0m\u001b[0m\n",
      "\u001b[0;32mC:\\Miniconda3\\envs\\DAND\\lib\\site-packages\\pandas\\core\\generic.pyc\u001b[0m in \u001b[0;36m_get_item_cache\u001b[0;34m(self, item)\u001b[0m\n\u001b[1;32m   1384\u001b[0m         \u001b[0mres\u001b[0m \u001b[1;33m=\u001b[0m \u001b[0mcache\u001b[0m\u001b[1;33m.\u001b[0m\u001b[0mget\u001b[0m\u001b[1;33m(\u001b[0m\u001b[0mitem\u001b[0m\u001b[1;33m)\u001b[0m\u001b[1;33m\u001b[0m\u001b[0m\n\u001b[1;32m   1385\u001b[0m         \u001b[1;32mif\u001b[0m \u001b[0mres\u001b[0m \u001b[1;32mis\u001b[0m \u001b[0mNone\u001b[0m\u001b[1;33m:\u001b[0m\u001b[1;33m\u001b[0m\u001b[0m\n\u001b[0;32m-> 1386\u001b[0;31m             \u001b[0mvalues\u001b[0m \u001b[1;33m=\u001b[0m \u001b[0mself\u001b[0m\u001b[1;33m.\u001b[0m\u001b[0m_data\u001b[0m\u001b[1;33m.\u001b[0m\u001b[0mget\u001b[0m\u001b[1;33m(\u001b[0m\u001b[0mitem\u001b[0m\u001b[1;33m)\u001b[0m\u001b[1;33m\u001b[0m\u001b[0m\n\u001b[0m\u001b[1;32m   1387\u001b[0m             \u001b[0mres\u001b[0m \u001b[1;33m=\u001b[0m \u001b[0mself\u001b[0m\u001b[1;33m.\u001b[0m\u001b[0m_box_item_values\u001b[0m\u001b[1;33m(\u001b[0m\u001b[0mitem\u001b[0m\u001b[1;33m,\u001b[0m \u001b[0mvalues\u001b[0m\u001b[1;33m)\u001b[0m\u001b[1;33m\u001b[0m\u001b[0m\n\u001b[1;32m   1388\u001b[0m             \u001b[0mcache\u001b[0m\u001b[1;33m[\u001b[0m\u001b[0mitem\u001b[0m\u001b[1;33m]\u001b[0m \u001b[1;33m=\u001b[0m \u001b[0mres\u001b[0m\u001b[1;33m\u001b[0m\u001b[0m\n",
      "\u001b[0;32mC:\\Miniconda3\\envs\\DAND\\lib\\site-packages\\pandas\\core\\internals.pyc\u001b[0m in \u001b[0;36mget\u001b[0;34m(self, item, fastpath)\u001b[0m\n\u001b[1;32m   3539\u001b[0m \u001b[1;33m\u001b[0m\u001b[0m\n\u001b[1;32m   3540\u001b[0m             \u001b[1;32mif\u001b[0m \u001b[1;32mnot\u001b[0m \u001b[0misnull\u001b[0m\u001b[1;33m(\u001b[0m\u001b[0mitem\u001b[0m\u001b[1;33m)\u001b[0m\u001b[1;33m:\u001b[0m\u001b[1;33m\u001b[0m\u001b[0m\n\u001b[0;32m-> 3541\u001b[0;31m                 \u001b[0mloc\u001b[0m \u001b[1;33m=\u001b[0m \u001b[0mself\u001b[0m\u001b[1;33m.\u001b[0m\u001b[0mitems\u001b[0m\u001b[1;33m.\u001b[0m\u001b[0mget_loc\u001b[0m\u001b[1;33m(\u001b[0m\u001b[0mitem\u001b[0m\u001b[1;33m)\u001b[0m\u001b[1;33m\u001b[0m\u001b[0m\n\u001b[0m\u001b[1;32m   3542\u001b[0m             \u001b[1;32melse\u001b[0m\u001b[1;33m:\u001b[0m\u001b[1;33m\u001b[0m\u001b[0m\n\u001b[1;32m   3543\u001b[0m                 \u001b[0mindexer\u001b[0m \u001b[1;33m=\u001b[0m \u001b[0mnp\u001b[0m\u001b[1;33m.\u001b[0m\u001b[0marange\u001b[0m\u001b[1;33m(\u001b[0m\u001b[0mlen\u001b[0m\u001b[1;33m(\u001b[0m\u001b[0mself\u001b[0m\u001b[1;33m.\u001b[0m\u001b[0mitems\u001b[0m\u001b[1;33m)\u001b[0m\u001b[1;33m)\u001b[0m\u001b[1;33m[\u001b[0m\u001b[0misnull\u001b[0m\u001b[1;33m(\u001b[0m\u001b[0mself\u001b[0m\u001b[1;33m.\u001b[0m\u001b[0mitems\u001b[0m\u001b[1;33m)\u001b[0m\u001b[1;33m]\u001b[0m\u001b[1;33m\u001b[0m\u001b[0m\n",
      "\u001b[0;32mC:\\Miniconda3\\envs\\DAND\\lib\\site-packages\\pandas\\indexes\\base.pyc\u001b[0m in \u001b[0;36mget_loc\u001b[0;34m(self, key, method, tolerance)\u001b[0m\n\u001b[1;32m   2134\u001b[0m                 \u001b[1;32mreturn\u001b[0m \u001b[0mself\u001b[0m\u001b[1;33m.\u001b[0m\u001b[0m_engine\u001b[0m\u001b[1;33m.\u001b[0m\u001b[0mget_loc\u001b[0m\u001b[1;33m(\u001b[0m\u001b[0mkey\u001b[0m\u001b[1;33m)\u001b[0m\u001b[1;33m\u001b[0m\u001b[0m\n\u001b[1;32m   2135\u001b[0m             \u001b[1;32mexcept\u001b[0m \u001b[0mKeyError\u001b[0m\u001b[1;33m:\u001b[0m\u001b[1;33m\u001b[0m\u001b[0m\n\u001b[0;32m-> 2136\u001b[0;31m                 \u001b[1;32mreturn\u001b[0m \u001b[0mself\u001b[0m\u001b[1;33m.\u001b[0m\u001b[0m_engine\u001b[0m\u001b[1;33m.\u001b[0m\u001b[0mget_loc\u001b[0m\u001b[1;33m(\u001b[0m\u001b[0mself\u001b[0m\u001b[1;33m.\u001b[0m\u001b[0m_maybe_cast_indexer\u001b[0m\u001b[1;33m(\u001b[0m\u001b[0mkey\u001b[0m\u001b[1;33m)\u001b[0m\u001b[1;33m)\u001b[0m\u001b[1;33m\u001b[0m\u001b[0m\n\u001b[0m\u001b[1;32m   2137\u001b[0m \u001b[1;33m\u001b[0m\u001b[0m\n\u001b[1;32m   2138\u001b[0m         \u001b[0mindexer\u001b[0m \u001b[1;33m=\u001b[0m \u001b[0mself\u001b[0m\u001b[1;33m.\u001b[0m\u001b[0mget_indexer\u001b[0m\u001b[1;33m(\u001b[0m\u001b[1;33m[\u001b[0m\u001b[0mkey\u001b[0m\u001b[1;33m]\u001b[0m\u001b[1;33m,\u001b[0m \u001b[0mmethod\u001b[0m\u001b[1;33m=\u001b[0m\u001b[0mmethod\u001b[0m\u001b[1;33m,\u001b[0m \u001b[0mtolerance\u001b[0m\u001b[1;33m=\u001b[0m\u001b[0mtolerance\u001b[0m\u001b[1;33m)\u001b[0m\u001b[1;33m\u001b[0m\u001b[0m\n",
      "\u001b[0;32mpandas\\index.pyx\u001b[0m in \u001b[0;36mpandas.index.IndexEngine.get_loc (pandas\\index.c:4443)\u001b[0;34m()\u001b[0m\n",
      "\u001b[0;32mpandas\\index.pyx\u001b[0m in \u001b[0;36mpandas.index.IndexEngine.get_loc (pandas\\index.c:4289)\u001b[0;34m()\u001b[0m\n",
      "\u001b[0;32mpandas\\src\\hashtable_class_helper.pxi\u001b[0m in \u001b[0;36mpandas.hashtable.PyObjectHashTable.get_item (pandas\\hashtable.c:13733)\u001b[0;34m()\u001b[0m\n",
      "\u001b[0;32mpandas\\src\\hashtable_class_helper.pxi\u001b[0m in \u001b[0;36mpandas.hashtable.PyObjectHashTable.get_item (pandas\\hashtable.c:13687)\u001b[0;34m()\u001b[0m\n",
      "\u001b[0;31mKeyError\u001b[0m: 'Last Price'"
     ]
    }
   ],
   "source": [
    "2*df_sum2['Last Price']\n"
   ]
  },
  {
   "cell_type": "code",
   "execution_count": 189,
   "metadata": {},
   "outputs": [
    {
     "ename": "KeyError",
     "evalue": "'Unit Price less Dist Fee_y'",
     "output_type": "error",
     "traceback": [
      "\u001b[0;31m---------------------------------------------------------------------------\u001b[0m",
      "\u001b[0;31mKeyError\u001b[0m                                  Traceback (most recent call last)",
      "\u001b[0;32m<ipython-input-189-191586da3851>\u001b[0m in \u001b[0;36m<module>\u001b[0;34m()\u001b[0m\n\u001b[0;32m----> 1\u001b[0;31m \u001b[0mdf_sum2\u001b[0m\u001b[1;33m[\u001b[0m\u001b[1;34m'Last Price'\u001b[0m\u001b[1;33m]\u001b[0m \u001b[1;33m=\u001b[0m \u001b[0mdf_sum2\u001b[0m\u001b[1;33m[\u001b[0m\u001b[1;34m'Unit Price less Dist Fee_y'\u001b[0m\u001b[1;33m]\u001b[0m\u001b[1;33m\u001b[0m\u001b[0m\n\u001b[0m\u001b[1;32m      2\u001b[0m \u001b[0mdf_sum2\u001b[0m\u001b[1;33m[\u001b[0m\u001b[1;34m'Price Total'\u001b[0m\u001b[1;33m]\u001b[0m \u001b[1;33m=\u001b[0m \u001b[0mdf_sum2\u001b[0m\u001b[1;33m[\u001b[0m\u001b[1;34m'Last Price'\u001b[0m\u001b[1;33m]\u001b[0m \u001b[1;33m*\u001b[0m \u001b[0mdf_sum2\u001b[0m\u001b[1;33m[\u001b[0m\u001b[1;34m'Qty Paid'\u001b[0m\u001b[1;33m]\u001b[0m\u001b[1;33m\u001b[0m\u001b[0m\n",
      "\u001b[0;32mC:\\Miniconda3\\envs\\DAND\\lib\\site-packages\\pandas\\core\\frame.pyc\u001b[0m in \u001b[0;36m__getitem__\u001b[0;34m(self, key)\u001b[0m\n\u001b[1;32m   2057\u001b[0m             \u001b[1;32mreturn\u001b[0m \u001b[0mself\u001b[0m\u001b[1;33m.\u001b[0m\u001b[0m_getitem_multilevel\u001b[0m\u001b[1;33m(\u001b[0m\u001b[0mkey\u001b[0m\u001b[1;33m)\u001b[0m\u001b[1;33m\u001b[0m\u001b[0m\n\u001b[1;32m   2058\u001b[0m         \u001b[1;32melse\u001b[0m\u001b[1;33m:\u001b[0m\u001b[1;33m\u001b[0m\u001b[0m\n\u001b[0;32m-> 2059\u001b[0;31m             \u001b[1;32mreturn\u001b[0m \u001b[0mself\u001b[0m\u001b[1;33m.\u001b[0m\u001b[0m_getitem_column\u001b[0m\u001b[1;33m(\u001b[0m\u001b[0mkey\u001b[0m\u001b[1;33m)\u001b[0m\u001b[1;33m\u001b[0m\u001b[0m\n\u001b[0m\u001b[1;32m   2060\u001b[0m \u001b[1;33m\u001b[0m\u001b[0m\n\u001b[1;32m   2061\u001b[0m     \u001b[1;32mdef\u001b[0m \u001b[0m_getitem_column\u001b[0m\u001b[1;33m(\u001b[0m\u001b[0mself\u001b[0m\u001b[1;33m,\u001b[0m \u001b[0mkey\u001b[0m\u001b[1;33m)\u001b[0m\u001b[1;33m:\u001b[0m\u001b[1;33m\u001b[0m\u001b[0m\n",
      "\u001b[0;32mC:\\Miniconda3\\envs\\DAND\\lib\\site-packages\\pandas\\core\\frame.pyc\u001b[0m in \u001b[0;36m_getitem_column\u001b[0;34m(self, key)\u001b[0m\n\u001b[1;32m   2064\u001b[0m         \u001b[1;31m# get column\u001b[0m\u001b[1;33m\u001b[0m\u001b[1;33m\u001b[0m\u001b[0m\n\u001b[1;32m   2065\u001b[0m         \u001b[1;32mif\u001b[0m \u001b[0mself\u001b[0m\u001b[1;33m.\u001b[0m\u001b[0mcolumns\u001b[0m\u001b[1;33m.\u001b[0m\u001b[0mis_unique\u001b[0m\u001b[1;33m:\u001b[0m\u001b[1;33m\u001b[0m\u001b[0m\n\u001b[0;32m-> 2066\u001b[0;31m             \u001b[1;32mreturn\u001b[0m \u001b[0mself\u001b[0m\u001b[1;33m.\u001b[0m\u001b[0m_get_item_cache\u001b[0m\u001b[1;33m(\u001b[0m\u001b[0mkey\u001b[0m\u001b[1;33m)\u001b[0m\u001b[1;33m\u001b[0m\u001b[0m\n\u001b[0m\u001b[1;32m   2067\u001b[0m \u001b[1;33m\u001b[0m\u001b[0m\n\u001b[1;32m   2068\u001b[0m         \u001b[1;31m# duplicate columns & possible reduce dimensionality\u001b[0m\u001b[1;33m\u001b[0m\u001b[1;33m\u001b[0m\u001b[0m\n",
      "\u001b[0;32mC:\\Miniconda3\\envs\\DAND\\lib\\site-packages\\pandas\\core\\generic.pyc\u001b[0m in \u001b[0;36m_get_item_cache\u001b[0;34m(self, item)\u001b[0m\n\u001b[1;32m   1384\u001b[0m         \u001b[0mres\u001b[0m \u001b[1;33m=\u001b[0m \u001b[0mcache\u001b[0m\u001b[1;33m.\u001b[0m\u001b[0mget\u001b[0m\u001b[1;33m(\u001b[0m\u001b[0mitem\u001b[0m\u001b[1;33m)\u001b[0m\u001b[1;33m\u001b[0m\u001b[0m\n\u001b[1;32m   1385\u001b[0m         \u001b[1;32mif\u001b[0m \u001b[0mres\u001b[0m \u001b[1;32mis\u001b[0m \u001b[0mNone\u001b[0m\u001b[1;33m:\u001b[0m\u001b[1;33m\u001b[0m\u001b[0m\n\u001b[0;32m-> 1386\u001b[0;31m             \u001b[0mvalues\u001b[0m \u001b[1;33m=\u001b[0m \u001b[0mself\u001b[0m\u001b[1;33m.\u001b[0m\u001b[0m_data\u001b[0m\u001b[1;33m.\u001b[0m\u001b[0mget\u001b[0m\u001b[1;33m(\u001b[0m\u001b[0mitem\u001b[0m\u001b[1;33m)\u001b[0m\u001b[1;33m\u001b[0m\u001b[0m\n\u001b[0m\u001b[1;32m   1387\u001b[0m             \u001b[0mres\u001b[0m \u001b[1;33m=\u001b[0m \u001b[0mself\u001b[0m\u001b[1;33m.\u001b[0m\u001b[0m_box_item_values\u001b[0m\u001b[1;33m(\u001b[0m\u001b[0mitem\u001b[0m\u001b[1;33m,\u001b[0m \u001b[0mvalues\u001b[0m\u001b[1;33m)\u001b[0m\u001b[1;33m\u001b[0m\u001b[0m\n\u001b[1;32m   1388\u001b[0m             \u001b[0mcache\u001b[0m\u001b[1;33m[\u001b[0m\u001b[0mitem\u001b[0m\u001b[1;33m]\u001b[0m \u001b[1;33m=\u001b[0m \u001b[0mres\u001b[0m\u001b[1;33m\u001b[0m\u001b[0m\n",
      "\u001b[0;32mC:\\Miniconda3\\envs\\DAND\\lib\\site-packages\\pandas\\core\\internals.pyc\u001b[0m in \u001b[0;36mget\u001b[0;34m(self, item, fastpath)\u001b[0m\n\u001b[1;32m   3539\u001b[0m \u001b[1;33m\u001b[0m\u001b[0m\n\u001b[1;32m   3540\u001b[0m             \u001b[1;32mif\u001b[0m \u001b[1;32mnot\u001b[0m \u001b[0misnull\u001b[0m\u001b[1;33m(\u001b[0m\u001b[0mitem\u001b[0m\u001b[1;33m)\u001b[0m\u001b[1;33m:\u001b[0m\u001b[1;33m\u001b[0m\u001b[0m\n\u001b[0;32m-> 3541\u001b[0;31m                 \u001b[0mloc\u001b[0m \u001b[1;33m=\u001b[0m \u001b[0mself\u001b[0m\u001b[1;33m.\u001b[0m\u001b[0mitems\u001b[0m\u001b[1;33m.\u001b[0m\u001b[0mget_loc\u001b[0m\u001b[1;33m(\u001b[0m\u001b[0mitem\u001b[0m\u001b[1;33m)\u001b[0m\u001b[1;33m\u001b[0m\u001b[0m\n\u001b[0m\u001b[1;32m   3542\u001b[0m             \u001b[1;32melse\u001b[0m\u001b[1;33m:\u001b[0m\u001b[1;33m\u001b[0m\u001b[0m\n\u001b[1;32m   3543\u001b[0m                 \u001b[0mindexer\u001b[0m \u001b[1;33m=\u001b[0m \u001b[0mnp\u001b[0m\u001b[1;33m.\u001b[0m\u001b[0marange\u001b[0m\u001b[1;33m(\u001b[0m\u001b[0mlen\u001b[0m\u001b[1;33m(\u001b[0m\u001b[0mself\u001b[0m\u001b[1;33m.\u001b[0m\u001b[0mitems\u001b[0m\u001b[1;33m)\u001b[0m\u001b[1;33m)\u001b[0m\u001b[1;33m[\u001b[0m\u001b[0misnull\u001b[0m\u001b[1;33m(\u001b[0m\u001b[0mself\u001b[0m\u001b[1;33m.\u001b[0m\u001b[0mitems\u001b[0m\u001b[1;33m)\u001b[0m\u001b[1;33m]\u001b[0m\u001b[1;33m\u001b[0m\u001b[0m\n",
      "\u001b[0;32mC:\\Miniconda3\\envs\\DAND\\lib\\site-packages\\pandas\\indexes\\base.pyc\u001b[0m in \u001b[0;36mget_loc\u001b[0;34m(self, key, method, tolerance)\u001b[0m\n\u001b[1;32m   2134\u001b[0m                 \u001b[1;32mreturn\u001b[0m \u001b[0mself\u001b[0m\u001b[1;33m.\u001b[0m\u001b[0m_engine\u001b[0m\u001b[1;33m.\u001b[0m\u001b[0mget_loc\u001b[0m\u001b[1;33m(\u001b[0m\u001b[0mkey\u001b[0m\u001b[1;33m)\u001b[0m\u001b[1;33m\u001b[0m\u001b[0m\n\u001b[1;32m   2135\u001b[0m             \u001b[1;32mexcept\u001b[0m \u001b[0mKeyError\u001b[0m\u001b[1;33m:\u001b[0m\u001b[1;33m\u001b[0m\u001b[0m\n\u001b[0;32m-> 2136\u001b[0;31m                 \u001b[1;32mreturn\u001b[0m \u001b[0mself\u001b[0m\u001b[1;33m.\u001b[0m\u001b[0m_engine\u001b[0m\u001b[1;33m.\u001b[0m\u001b[0mget_loc\u001b[0m\u001b[1;33m(\u001b[0m\u001b[0mself\u001b[0m\u001b[1;33m.\u001b[0m\u001b[0m_maybe_cast_indexer\u001b[0m\u001b[1;33m(\u001b[0m\u001b[0mkey\u001b[0m\u001b[1;33m)\u001b[0m\u001b[1;33m)\u001b[0m\u001b[1;33m\u001b[0m\u001b[0m\n\u001b[0m\u001b[1;32m   2137\u001b[0m \u001b[1;33m\u001b[0m\u001b[0m\n\u001b[1;32m   2138\u001b[0m         \u001b[0mindexer\u001b[0m \u001b[1;33m=\u001b[0m \u001b[0mself\u001b[0m\u001b[1;33m.\u001b[0m\u001b[0mget_indexer\u001b[0m\u001b[1;33m(\u001b[0m\u001b[1;33m[\u001b[0m\u001b[0mkey\u001b[0m\u001b[1;33m]\u001b[0m\u001b[1;33m,\u001b[0m \u001b[0mmethod\u001b[0m\u001b[1;33m=\u001b[0m\u001b[0mmethod\u001b[0m\u001b[1;33m,\u001b[0m \u001b[0mtolerance\u001b[0m\u001b[1;33m=\u001b[0m\u001b[0mtolerance\u001b[0m\u001b[1;33m)\u001b[0m\u001b[1;33m\u001b[0m\u001b[0m\n",
      "\u001b[0;32mpandas\\index.pyx\u001b[0m in \u001b[0;36mpandas.index.IndexEngine.get_loc (pandas\\index.c:4443)\u001b[0;34m()\u001b[0m\n",
      "\u001b[0;32mpandas\\index.pyx\u001b[0m in \u001b[0;36mpandas.index.IndexEngine.get_loc (pandas\\index.c:4289)\u001b[0;34m()\u001b[0m\n",
      "\u001b[0;32mpandas\\src\\hashtable_class_helper.pxi\u001b[0m in \u001b[0;36mpandas.hashtable.PyObjectHashTable.get_item (pandas\\hashtable.c:13733)\u001b[0;34m()\u001b[0m\n",
      "\u001b[0;32mpandas\\src\\hashtable_class_helper.pxi\u001b[0m in \u001b[0;36mpandas.hashtable.PyObjectHashTable.get_item (pandas\\hashtable.c:13687)\u001b[0;34m()\u001b[0m\n",
      "\u001b[0;31mKeyError\u001b[0m: 'Unit Price less Dist Fee_y'"
     ]
    }
   ],
   "source": [
    "df_sum2['Last Price'] = df_sum2['Unit Price less Dist Fee_y']\n",
    "df_sum2['Price Total'] = df_sum2['Last Price'] * df_sum2['Qty Paid']\n"
   ]
  },
  {
   "cell_type": "code",
   "execution_count": 184,
   "metadata": {},
   "outputs": [
    {
     "data": {
      "text/html": [
       "<div>\n",
       "<table border=\"1\" class=\"dataframe\">\n",
       "  <thead>\n",
       "    <tr style=\"text-align: right;\">\n",
       "      <th></th>\n",
       "      <th></th>\n",
       "      <th></th>\n",
       "      <th></th>\n",
       "      <th></th>\n",
       "      <th>Qty Paid</th>\n",
       "      <th>Unit Price less Dist Fee_y</th>\n",
       "    </tr>\n",
       "    <tr>\n",
       "      <th>Manufacturer Name</th>\n",
       "      <th>MPN-UOM</th>\n",
       "      <th>Vendor Mat Number</th>\n",
       "      <th>U O M</th>\n",
       "      <th>Unit Price less Dist Fee_y</th>\n",
       "      <th></th>\n",
       "      <th></th>\n",
       "    </tr>\n",
       "  </thead>\n",
       "  <tbody>\n",
       "    <tr>\n",
       "      <th>FISHER HEALTHCARE</th>\n",
       "      <th>13-201-966-EA</th>\n",
       "      <th>13-201-966</th>\n",
       "      <th>EA</th>\n",
       "      <th>5.70</th>\n",
       "      <td>9.0</td>\n",
       "      <td>17.10</td>\n",
       "    </tr>\n",
       "    <tr>\n",
       "      <th rowspan=\"2\" valign=\"top\">MEDLINE INDUSTRIES INC</th>\n",
       "      <th>MDS9950-CS</th>\n",
       "      <th>MDS9950</th>\n",
       "      <th>CS</th>\n",
       "      <th>256.32</th>\n",
       "      <td>2.0</td>\n",
       "      <td>512.64</td>\n",
       "    </tr>\n",
       "    <tr>\n",
       "      <th>MDS9950-EA</th>\n",
       "      <th>MDS9950H</th>\n",
       "      <th>EA</th>\n",
       "      <th>1.83</th>\n",
       "      <td>250.0</td>\n",
       "      <td>49.41</td>\n",
       "    </tr>\n",
       "  </tbody>\n",
       "</table>\n",
       "</div>"
      ],
      "text/plain": [
       "                                                                                         Qty Paid  \\\n",
       "Manufacturer Name      MPN-UOM       Vendor Mat Number U O M Unit Price less Dist Fee_y             \n",
       "FISHER HEALTHCARE      13-201-966-EA 13-201-966        EA    5.70                             9.0   \n",
       "MEDLINE INDUSTRIES INC MDS9950-CS    MDS9950           CS    256.32                           2.0   \n",
       "                       MDS9950-EA    MDS9950H          EA    1.83                           250.0   \n",
       "\n",
       "                                                                                         Unit Price less Dist Fee_y  \n",
       "Manufacturer Name      MPN-UOM       Vendor Mat Number U O M Unit Price less Dist Fee_y                              \n",
       "FISHER HEALTHCARE      13-201-966-EA 13-201-966        EA    5.70                                             17.10  \n",
       "MEDLINE INDUSTRIES INC MDS9950-CS    MDS9950           CS    256.32                                          512.64  \n",
       "                       MDS9950-EA    MDS9950H          EA    1.83                                             49.41  "
      ]
     },
     "execution_count": 184,
     "metadata": {},
     "output_type": "execute_result"
    }
   ],
   "source": [
    "df_sum2\n"
   ]
  },
  {
   "cell_type": "code",
   "execution_count": 170,
   "metadata": {},
   "outputs": [
    {
     "ename": "KeyError",
     "evalue": "'Price Total'",
     "output_type": "error",
     "traceback": [
      "\u001b[0;31m---------------------------------------------------------------------------\u001b[0m",
      "\u001b[0;31mKeyError\u001b[0m                                  Traceback (most recent call last)",
      "\u001b[0;32m<ipython-input-170-12e0b73938ca>\u001b[0m in \u001b[0;36m<module>\u001b[0;34m()\u001b[0m\n\u001b[0;32m----> 1\u001b[0;31m \u001b[0mdf_sum2\u001b[0m\u001b[1;33m[\u001b[0m\u001b[1;34m'Price Total'\u001b[0m\u001b[1;33m]\u001b[0m\u001b[1;33m.\u001b[0m\u001b[0msum\u001b[0m\u001b[1;33m(\u001b[0m\u001b[1;33m)\u001b[0m\u001b[1;33m\u001b[0m\u001b[0m\n\u001b[0m",
      "\u001b[0;32mC:\\Miniconda3\\envs\\DAND\\lib\\site-packages\\pandas\\core\\frame.pyc\u001b[0m in \u001b[0;36m__getitem__\u001b[0;34m(self, key)\u001b[0m\n\u001b[1;32m   2057\u001b[0m             \u001b[1;32mreturn\u001b[0m \u001b[0mself\u001b[0m\u001b[1;33m.\u001b[0m\u001b[0m_getitem_multilevel\u001b[0m\u001b[1;33m(\u001b[0m\u001b[0mkey\u001b[0m\u001b[1;33m)\u001b[0m\u001b[1;33m\u001b[0m\u001b[0m\n\u001b[1;32m   2058\u001b[0m         \u001b[1;32melse\u001b[0m\u001b[1;33m:\u001b[0m\u001b[1;33m\u001b[0m\u001b[0m\n\u001b[0;32m-> 2059\u001b[0;31m             \u001b[1;32mreturn\u001b[0m \u001b[0mself\u001b[0m\u001b[1;33m.\u001b[0m\u001b[0m_getitem_column\u001b[0m\u001b[1;33m(\u001b[0m\u001b[0mkey\u001b[0m\u001b[1;33m)\u001b[0m\u001b[1;33m\u001b[0m\u001b[0m\n\u001b[0m\u001b[1;32m   2060\u001b[0m \u001b[1;33m\u001b[0m\u001b[0m\n\u001b[1;32m   2061\u001b[0m     \u001b[1;32mdef\u001b[0m \u001b[0m_getitem_column\u001b[0m\u001b[1;33m(\u001b[0m\u001b[0mself\u001b[0m\u001b[1;33m,\u001b[0m \u001b[0mkey\u001b[0m\u001b[1;33m)\u001b[0m\u001b[1;33m:\u001b[0m\u001b[1;33m\u001b[0m\u001b[0m\n",
      "\u001b[0;32mC:\\Miniconda3\\envs\\DAND\\lib\\site-packages\\pandas\\core\\frame.pyc\u001b[0m in \u001b[0;36m_getitem_column\u001b[0;34m(self, key)\u001b[0m\n\u001b[1;32m   2064\u001b[0m         \u001b[1;31m# get column\u001b[0m\u001b[1;33m\u001b[0m\u001b[1;33m\u001b[0m\u001b[0m\n\u001b[1;32m   2065\u001b[0m         \u001b[1;32mif\u001b[0m \u001b[0mself\u001b[0m\u001b[1;33m.\u001b[0m\u001b[0mcolumns\u001b[0m\u001b[1;33m.\u001b[0m\u001b[0mis_unique\u001b[0m\u001b[1;33m:\u001b[0m\u001b[1;33m\u001b[0m\u001b[0m\n\u001b[0;32m-> 2066\u001b[0;31m             \u001b[1;32mreturn\u001b[0m \u001b[0mself\u001b[0m\u001b[1;33m.\u001b[0m\u001b[0m_get_item_cache\u001b[0m\u001b[1;33m(\u001b[0m\u001b[0mkey\u001b[0m\u001b[1;33m)\u001b[0m\u001b[1;33m\u001b[0m\u001b[0m\n\u001b[0m\u001b[1;32m   2067\u001b[0m \u001b[1;33m\u001b[0m\u001b[0m\n\u001b[1;32m   2068\u001b[0m         \u001b[1;31m# duplicate columns & possible reduce dimensionality\u001b[0m\u001b[1;33m\u001b[0m\u001b[1;33m\u001b[0m\u001b[0m\n",
      "\u001b[0;32mC:\\Miniconda3\\envs\\DAND\\lib\\site-packages\\pandas\\core\\generic.pyc\u001b[0m in \u001b[0;36m_get_item_cache\u001b[0;34m(self, item)\u001b[0m\n\u001b[1;32m   1384\u001b[0m         \u001b[0mres\u001b[0m \u001b[1;33m=\u001b[0m \u001b[0mcache\u001b[0m\u001b[1;33m.\u001b[0m\u001b[0mget\u001b[0m\u001b[1;33m(\u001b[0m\u001b[0mitem\u001b[0m\u001b[1;33m)\u001b[0m\u001b[1;33m\u001b[0m\u001b[0m\n\u001b[1;32m   1385\u001b[0m         \u001b[1;32mif\u001b[0m \u001b[0mres\u001b[0m \u001b[1;32mis\u001b[0m \u001b[0mNone\u001b[0m\u001b[1;33m:\u001b[0m\u001b[1;33m\u001b[0m\u001b[0m\n\u001b[0;32m-> 1386\u001b[0;31m             \u001b[0mvalues\u001b[0m \u001b[1;33m=\u001b[0m \u001b[0mself\u001b[0m\u001b[1;33m.\u001b[0m\u001b[0m_data\u001b[0m\u001b[1;33m.\u001b[0m\u001b[0mget\u001b[0m\u001b[1;33m(\u001b[0m\u001b[0mitem\u001b[0m\u001b[1;33m)\u001b[0m\u001b[1;33m\u001b[0m\u001b[0m\n\u001b[0m\u001b[1;32m   1387\u001b[0m             \u001b[0mres\u001b[0m \u001b[1;33m=\u001b[0m \u001b[0mself\u001b[0m\u001b[1;33m.\u001b[0m\u001b[0m_box_item_values\u001b[0m\u001b[1;33m(\u001b[0m\u001b[0mitem\u001b[0m\u001b[1;33m,\u001b[0m \u001b[0mvalues\u001b[0m\u001b[1;33m)\u001b[0m\u001b[1;33m\u001b[0m\u001b[0m\n\u001b[1;32m   1388\u001b[0m             \u001b[0mcache\u001b[0m\u001b[1;33m[\u001b[0m\u001b[0mitem\u001b[0m\u001b[1;33m]\u001b[0m \u001b[1;33m=\u001b[0m \u001b[0mres\u001b[0m\u001b[1;33m\u001b[0m\u001b[0m\n",
      "\u001b[0;32mC:\\Miniconda3\\envs\\DAND\\lib\\site-packages\\pandas\\core\\internals.pyc\u001b[0m in \u001b[0;36mget\u001b[0;34m(self, item, fastpath)\u001b[0m\n\u001b[1;32m   3539\u001b[0m \u001b[1;33m\u001b[0m\u001b[0m\n\u001b[1;32m   3540\u001b[0m             \u001b[1;32mif\u001b[0m \u001b[1;32mnot\u001b[0m \u001b[0misnull\u001b[0m\u001b[1;33m(\u001b[0m\u001b[0mitem\u001b[0m\u001b[1;33m)\u001b[0m\u001b[1;33m:\u001b[0m\u001b[1;33m\u001b[0m\u001b[0m\n\u001b[0;32m-> 3541\u001b[0;31m                 \u001b[0mloc\u001b[0m \u001b[1;33m=\u001b[0m \u001b[0mself\u001b[0m\u001b[1;33m.\u001b[0m\u001b[0mitems\u001b[0m\u001b[1;33m.\u001b[0m\u001b[0mget_loc\u001b[0m\u001b[1;33m(\u001b[0m\u001b[0mitem\u001b[0m\u001b[1;33m)\u001b[0m\u001b[1;33m\u001b[0m\u001b[0m\n\u001b[0m\u001b[1;32m   3542\u001b[0m             \u001b[1;32melse\u001b[0m\u001b[1;33m:\u001b[0m\u001b[1;33m\u001b[0m\u001b[0m\n\u001b[1;32m   3543\u001b[0m                 \u001b[0mindexer\u001b[0m \u001b[1;33m=\u001b[0m \u001b[0mnp\u001b[0m\u001b[1;33m.\u001b[0m\u001b[0marange\u001b[0m\u001b[1;33m(\u001b[0m\u001b[0mlen\u001b[0m\u001b[1;33m(\u001b[0m\u001b[0mself\u001b[0m\u001b[1;33m.\u001b[0m\u001b[0mitems\u001b[0m\u001b[1;33m)\u001b[0m\u001b[1;33m)\u001b[0m\u001b[1;33m[\u001b[0m\u001b[0misnull\u001b[0m\u001b[1;33m(\u001b[0m\u001b[0mself\u001b[0m\u001b[1;33m.\u001b[0m\u001b[0mitems\u001b[0m\u001b[1;33m)\u001b[0m\u001b[1;33m]\u001b[0m\u001b[1;33m\u001b[0m\u001b[0m\n",
      "\u001b[0;32mC:\\Miniconda3\\envs\\DAND\\lib\\site-packages\\pandas\\indexes\\base.pyc\u001b[0m in \u001b[0;36mget_loc\u001b[0;34m(self, key, method, tolerance)\u001b[0m\n\u001b[1;32m   2134\u001b[0m                 \u001b[1;32mreturn\u001b[0m \u001b[0mself\u001b[0m\u001b[1;33m.\u001b[0m\u001b[0m_engine\u001b[0m\u001b[1;33m.\u001b[0m\u001b[0mget_loc\u001b[0m\u001b[1;33m(\u001b[0m\u001b[0mkey\u001b[0m\u001b[1;33m)\u001b[0m\u001b[1;33m\u001b[0m\u001b[0m\n\u001b[1;32m   2135\u001b[0m             \u001b[1;32mexcept\u001b[0m \u001b[0mKeyError\u001b[0m\u001b[1;33m:\u001b[0m\u001b[1;33m\u001b[0m\u001b[0m\n\u001b[0;32m-> 2136\u001b[0;31m                 \u001b[1;32mreturn\u001b[0m \u001b[0mself\u001b[0m\u001b[1;33m.\u001b[0m\u001b[0m_engine\u001b[0m\u001b[1;33m.\u001b[0m\u001b[0mget_loc\u001b[0m\u001b[1;33m(\u001b[0m\u001b[0mself\u001b[0m\u001b[1;33m.\u001b[0m\u001b[0m_maybe_cast_indexer\u001b[0m\u001b[1;33m(\u001b[0m\u001b[0mkey\u001b[0m\u001b[1;33m)\u001b[0m\u001b[1;33m)\u001b[0m\u001b[1;33m\u001b[0m\u001b[0m\n\u001b[0m\u001b[1;32m   2137\u001b[0m \u001b[1;33m\u001b[0m\u001b[0m\n\u001b[1;32m   2138\u001b[0m         \u001b[0mindexer\u001b[0m \u001b[1;33m=\u001b[0m \u001b[0mself\u001b[0m\u001b[1;33m.\u001b[0m\u001b[0mget_indexer\u001b[0m\u001b[1;33m(\u001b[0m\u001b[1;33m[\u001b[0m\u001b[0mkey\u001b[0m\u001b[1;33m]\u001b[0m\u001b[1;33m,\u001b[0m \u001b[0mmethod\u001b[0m\u001b[1;33m=\u001b[0m\u001b[0mmethod\u001b[0m\u001b[1;33m,\u001b[0m \u001b[0mtolerance\u001b[0m\u001b[1;33m=\u001b[0m\u001b[0mtolerance\u001b[0m\u001b[1;33m)\u001b[0m\u001b[1;33m\u001b[0m\u001b[0m\n",
      "\u001b[0;32mpandas\\index.pyx\u001b[0m in \u001b[0;36mpandas.index.IndexEngine.get_loc (pandas\\index.c:4443)\u001b[0;34m()\u001b[0m\n",
      "\u001b[0;32mpandas\\index.pyx\u001b[0m in \u001b[0;36mpandas.index.IndexEngine.get_loc (pandas\\index.c:4289)\u001b[0;34m()\u001b[0m\n",
      "\u001b[0;32mpandas\\src\\hashtable_class_helper.pxi\u001b[0m in \u001b[0;36mpandas.hashtable.PyObjectHashTable.get_item (pandas\\hashtable.c:13733)\u001b[0;34m()\u001b[0m\n",
      "\u001b[0;32mpandas\\src\\hashtable_class_helper.pxi\u001b[0m in \u001b[0;36mpandas.hashtable.PyObjectHashTable.get_item (pandas\\hashtable.c:13687)\u001b[0;34m()\u001b[0m\n",
      "\u001b[0;31mKeyError\u001b[0m: 'Price Total'"
     ]
    }
   ],
   "source": [
    "df_sum2['Price Total'].sum()\n"
   ]
  },
  {
   "cell_type": "code",
   "execution_count": 133,
   "metadata": {},
   "outputs": [
    {
     "data": {
      "text/html": [
       "<div>\n",
       "<table border=\"1\" class=\"dataframe\">\n",
       "  <thead>\n",
       "    <tr style=\"text-align: right;\">\n",
       "      <th></th>\n",
       "      <th>Qty Paid</th>\n",
       "      <th>Unit Price less Dist Fee_y</th>\n",
       "    </tr>\n",
       "  </thead>\n",
       "  <tbody>\n",
       "    <tr>\n",
       "      <th>(FISHER HEALTHCARE, 13-201-966-EA, 13-201-966, EA, 5.7)</th>\n",
       "      <td>9.0</td>\n",
       "      <td>17.10</td>\n",
       "    </tr>\n",
       "    <tr>\n",
       "      <th>(MEDLINE INDUSTRIES INC, MDS9950-CS, MDS9950, CS, 256.32)</th>\n",
       "      <td>2.0</td>\n",
       "      <td>512.64</td>\n",
       "    </tr>\n",
       "    <tr>\n",
       "      <th>(MEDLINE INDUSTRIES INC, MDS9950-EA, MDS9950H, EA, 1.83)</th>\n",
       "      <td>250.0</td>\n",
       "      <td>49.41</td>\n",
       "    </tr>\n",
       "    <tr>\n",
       "      <th>Total</th>\n",
       "      <td>NaN</td>\n",
       "      <td>1158.30</td>\n",
       "    </tr>\n",
       "  </tbody>\n",
       "</table>\n",
       "</div>"
      ],
      "text/plain": [
       "                                                    Qty Paid  \\\n",
       "(FISHER HEALTHCARE, 13-201-966-EA, 13-201-966, ...       9.0   \n",
       "(MEDLINE INDUSTRIES INC, MDS9950-CS, MDS9950, C...       2.0   \n",
       "(MEDLINE INDUSTRIES INC, MDS9950-EA, MDS9950H, ...     250.0   \n",
       "Total                                                    NaN   \n",
       "\n",
       "                                                    Unit Price less Dist Fee_y  \n",
       "(FISHER HEALTHCARE, 13-201-966-EA, 13-201-966, ...                       17.10  \n",
       "(MEDLINE INDUSTRIES INC, MDS9950-CS, MDS9950, C...                      512.64  \n",
       "(MEDLINE INDUSTRIES INC, MDS9950-EA, MDS9950H, ...                       49.41  \n",
       "Total                                                                  1158.30  "
      ]
     },
     "execution_count": 133,
     "metadata": {},
     "output_type": "execute_result"
    }
   ],
   "source": [
    "#https://stackoverflow.com/questions/41286569/get-total-of-pandas-column\n",
    "#df_sum2.at['Total', 'Unit Price less Dist Fee_y'] = df['Unit Price less Dist Fee_y'].sum()\n",
    "df_sum2.loc['Total'] = pd.Series(df_sum2['Unit Price less Dist Fee_y'].sum(), index = ['Unit Price less Dist Fee_y'])\n",
    "df_sum2"
   ]
  },
  {
   "cell_type": "code",
   "execution_count": 128,
   "metadata": {},
   "outputs": [],
   "source": [
    "\n",
    "# Series Concatenate\n",
    "#pd.concat([s1, s2], axis=1) \n",
    "\n",
    "# Series(['a', 'b', 'c']).str.cat(['A', 'B', 'C'], sep=',')\n",
    "# s1.str.cat(s2, sep = '-').head()\n",
    "# DataFrame Concatenate \n",
    "#df_SAP['Manufacturer Part No'] +'--'+ df_SAP['U O M']\n",
    "\n",
    "#String Concat\n",
    "#'+'.join(['a', 'b'])\n",
    "# Select columns in DataFrames\n",
    "# df_SAP.ix[:,0:2].head()\n",
    "# Show Data Types in DataFrame\n",
    "#df_sum.dtypes\n",
    "#Define and init a DataFrame\n",
    "#df3 = pd.DataFrame(np.random.randn(10, 5), columns=['a', 'b', 'c', 'd', 'e'])\n",
    "\n",
    "# Count time of execution time\n",
    "#timeit df.index\n",
    "\n",
    "# Show dataframe cols\n",
    "#df.columns"
   ]
  },
  {
   "cell_type": "code",
   "execution_count": null,
   "metadata": {},
   "outputs": [],
   "source": []
  },
  {
   "cell_type": "code",
   "execution_count": null,
   "metadata": {},
   "outputs": [],
   "source": []
  },
  {
   "cell_type": "code",
   "execution_count": null,
   "metadata": {},
   "outputs": [],
   "source": []
  },
  {
   "cell_type": "code",
   "execution_count": null,
   "metadata": {},
   "outputs": [],
   "source": []
  },
  {
   "cell_type": "code",
   "execution_count": null,
   "metadata": {},
   "outputs": [],
   "source": []
  },
  {
   "cell_type": "code",
   "execution_count": null,
   "metadata": {},
   "outputs": [],
   "source": []
  },
  {
   "cell_type": "code",
   "execution_count": null,
   "metadata": {
    "scrolled": false
   },
   "outputs": [],
   "source": []
  },
  {
   "cell_type": "code",
   "execution_count": null,
   "metadata": {},
   "outputs": [],
   "source": []
  },
  {
   "cell_type": "code",
   "execution_count": 109,
   "metadata": {},
   "outputs": [],
   "source": []
  },
  {
   "cell_type": "code",
   "execution_count": null,
   "metadata": {
    "collapsed": true
   },
   "outputs": [],
   "source": []
  },
  {
   "cell_type": "code",
   "execution_count": null,
   "metadata": {
    "collapsed": true
   },
   "outputs": [],
   "source": []
  },
  {
   "cell_type": "code",
   "execution_count": null,
   "metadata": {
    "collapsed": true
   },
   "outputs": [],
   "source": []
  },
  {
   "cell_type": "code",
   "execution_count": null,
   "metadata": {},
   "outputs": [],
   "source": []
  },
  {
   "cell_type": "code",
   "execution_count": null,
   "metadata": {
    "collapsed": true
   },
   "outputs": [],
   "source": []
  },
  {
   "cell_type": "code",
   "execution_count": null,
   "metadata": {
    "collapsed": true
   },
   "outputs": [],
   "source": []
  },
  {
   "cell_type": "code",
   "execution_count": null,
   "metadata": {},
   "outputs": [],
   "source": []
  },
  {
   "cell_type": "code",
   "execution_count": null,
   "metadata": {
    "collapsed": true
   },
   "outputs": [],
   "source": []
  },
  {
   "cell_type": "code",
   "execution_count": null,
   "metadata": {},
   "outputs": [],
   "source": []
  },
  {
   "cell_type": "code",
   "execution_count": null,
   "metadata": {
    "scrolled": true
   },
   "outputs": [],
   "source": []
  },
  {
   "cell_type": "code",
   "execution_count": null,
   "metadata": {},
   "outputs": [],
   "source": []
  },
  {
   "cell_type": "code",
   "execution_count": null,
   "metadata": {},
   "outputs": [],
   "source": []
  },
  {
   "cell_type": "code",
   "execution_count": null,
   "metadata": {},
   "outputs": [],
   "source": []
  },
  {
   "cell_type": "code",
   "execution_count": null,
   "metadata": {},
   "outputs": [],
   "source": []
  },
  {
   "cell_type": "code",
   "execution_count": null,
   "metadata": {},
   "outputs": [],
   "source": []
  },
  {
   "cell_type": "markdown",
   "metadata": {},
   "source": [
    "## HINT: ##\n",
    "How to get row count:? Most efficient way!?\n",
    "\n",
    "__https://stackoverflow.com/questions/15943769/how-do-i-get-the-row-count-of-a-pandas-dataframe__"
   ]
  },
  {
   "cell_type": "code",
   "execution_count": null,
   "metadata": {
    "collapsed": true
   },
   "outputs": [],
   "source": []
  },
  {
   "cell_type": "code",
   "execution_count": null,
   "metadata": {
    "collapsed": true
   },
   "outputs": [],
   "source": []
  },
  {
   "cell_type": "code",
   "execution_count": null,
   "metadata": {
    "collapsed": true
   },
   "outputs": [],
   "source": []
  },
  {
   "cell_type": "code",
   "execution_count": null,
   "metadata": {
    "collapsed": true
   },
   "outputs": [],
   "source": []
  },
  {
   "cell_type": "code",
   "execution_count": 24,
   "metadata": {},
   "outputs": [
    {
     "data": {
      "text/html": [
       "<div>\n",
       "<table border=\"1\" class=\"dataframe\">\n",
       "  <thead>\n",
       "    <tr style=\"text-align: right;\">\n",
       "      <th></th>\n",
       "      <th>Unit Price</th>\n",
       "      <th>Unit Price less Dist Fee</th>\n",
       "      <th>Dist Fee %</th>\n",
       "      <th>Dist Fee Amt</th>\n",
       "      <th>Qty Paid</th>\n",
       "      <th>MatGrp</th>\n",
       "      <th>U O M</th>\n",
       "    </tr>\n",
       "  </thead>\n",
       "  <tbody>\n",
       "    <tr>\n",
       "      <th>3</th>\n",
       "      <td>4.71</td>\n",
       "      <td>4.63</td>\n",
       "      <td>0.0175</td>\n",
       "      <td>0.08</td>\n",
       "      <td>4</td>\n",
       "      <td>H29</td>\n",
       "      <td>EA</td>\n",
       "    </tr>\n",
       "    <tr>\n",
       "      <th>4</th>\n",
       "      <td>24.35</td>\n",
       "      <td>23.93</td>\n",
       "      <td>0.0175</td>\n",
       "      <td>0.42</td>\n",
       "      <td>1</td>\n",
       "      <td>H17</td>\n",
       "      <td>CS</td>\n",
       "    </tr>\n",
       "  </tbody>\n",
       "</table>\n",
       "</div>"
      ],
      "text/plain": [
       "   Unit Price  Unit Price less Dist Fee  Dist Fee %  Dist Fee Amt  Qty Paid  \\\n",
       "3        4.71                      4.63      0.0175          0.08         4   \n",
       "4       24.35                     23.93      0.0175          0.42         1   \n",
       "\n",
       "  MatGrp U O M  \n",
       "3    H29    EA  \n",
       "4    H17    CS  "
      ]
     },
     "execution_count": 24,
     "metadata": {},
     "output_type": "execute_result"
    }
   ],
   "source": [
    "df[3:5]"
   ]
  },
  {
   "cell_type": "code",
   "execution_count": 25,
   "metadata": {},
   "outputs": [
    {
     "data": {
      "text/plain": [
       "Unit Price                    4.71\n",
       "Unit Price less Dist Fee      4.63\n",
       "Dist Fee %                  0.0175\n",
       "Dist Fee Amt                  0.08\n",
       "Qty Paid                         8\n",
       "MatGrp                         H29\n",
       "U O M                           EA\n",
       "Name: 1, dtype: object"
      ]
     },
     "execution_count": 25,
     "metadata": {},
     "output_type": "execute_result"
    }
   ],
   "source": [
    "df.loc[1]"
   ]
  },
  {
   "cell_type": "code",
   "execution_count": 26,
   "metadata": {},
   "outputs": [
    {
     "data": {
      "text/plain": [
       "Unit Price                    4.71\n",
       "Unit Price less Dist Fee      4.63\n",
       "Dist Fee %                  0.0175\n",
       "Dist Fee Amt                  0.08\n",
       "Qty Paid                         8\n",
       "MatGrp                         H29\n",
       "U O M                           EA\n",
       "Name: 1, dtype: object"
      ]
     },
     "execution_count": 26,
     "metadata": {},
     "output_type": "execute_result"
    }
   ],
   "source": [
    "df.iloc[1]"
   ]
  },
  {
   "cell_type": "code",
   "execution_count": 27,
   "metadata": {},
   "outputs": [
    {
     "name": "stdout",
     "output_type": "stream",
     "text": [
      "<class 'pandas.core.frame.DataFrame'>\n",
      "RangeIndex: 28 entries, 0 to 27\n",
      "Data columns (total 7 columns):\n",
      "Unit Price                  28 non-null float64\n",
      "Unit Price less Dist Fee    28 non-null float64\n",
      "Dist Fee %                  28 non-null float64\n",
      "Dist Fee Amt                28 non-null float64\n",
      "Qty Paid                    28 non-null int64\n",
      "MatGrp                      28 non-null object\n",
      "U O M                       28 non-null object\n",
      "dtypes: float64(4), int64(1), object(2)\n",
      "memory usage: 1.6+ KB\n"
     ]
    }
   ],
   "source": [
    "df.info()"
   ]
  },
  {
   "cell_type": "code",
   "execution_count": 29,
   "metadata": {},
   "outputs": [
    {
     "data": {
      "text/plain": [
       "array([[-0.5472924 ,  1.08422219,  0.01953574],\n",
       "       [-0.64524308, -0.3072253 ,  2.13017443],\n",
       "       [ 0.27041088, -0.58103745, -0.65473917]])"
      ]
     },
     "execution_count": 29,
     "metadata": {},
     "output_type": "execute_result"
    }
   ],
   "source": [
    "np.random.randn(3,3)"
   ]
  },
  {
   "cell_type": "code",
   "execution_count": 32,
   "metadata": {
    "collapsed": true
   },
   "outputs": [],
   "source": [
    "pd.set_option('display.width', 80) # default is 80"
   ]
  },
  {
   "cell_type": "code",
   "execution_count": 34,
   "metadata": {},
   "outputs": [
    {
     "data": {
      "text/html": [
       "<div>\n",
       "<table border=\"1\" class=\"dataframe\">\n",
       "  <thead>\n",
       "    <tr style=\"text-align: right;\">\n",
       "      <th></th>\n",
       "      <th>Unit Price</th>\n",
       "      <th>Unit Price less Dist Fee</th>\n",
       "      <th>Dist Fee %</th>\n",
       "      <th>Dist Fee Amt</th>\n",
       "      <th>Qty Paid</th>\n",
       "      <th>MatGrp</th>\n",
       "      <th>U O M</th>\n",
       "    </tr>\n",
       "  </thead>\n",
       "  <tbody>\n",
       "    <tr>\n",
       "      <th>0</th>\n",
       "      <td>24.35</td>\n",
       "      <td>23.93</td>\n",
       "      <td>0.0175</td>\n",
       "      <td>0.42</td>\n",
       "      <td>1</td>\n",
       "      <td>H17</td>\n",
       "      <td>CS</td>\n",
       "    </tr>\n",
       "    <tr>\n",
       "      <th>1</th>\n",
       "      <td>4.71</td>\n",
       "      <td>4.63</td>\n",
       "      <td>0.0175</td>\n",
       "      <td>0.08</td>\n",
       "      <td>8</td>\n",
       "      <td>H29</td>\n",
       "      <td>EA</td>\n",
       "    </tr>\n",
       "    <tr>\n",
       "      <th>2</th>\n",
       "      <td>4.71</td>\n",
       "      <td>4.63</td>\n",
       "      <td>0.0175</td>\n",
       "      <td>0.08</td>\n",
       "      <td>2</td>\n",
       "      <td>H29</td>\n",
       "      <td>EA</td>\n",
       "    </tr>\n",
       "    <tr>\n",
       "      <th>3</th>\n",
       "      <td>4.71</td>\n",
       "      <td>4.63</td>\n",
       "      <td>0.0175</td>\n",
       "      <td>0.08</td>\n",
       "      <td>4</td>\n",
       "      <td>H29</td>\n",
       "      <td>EA</td>\n",
       "    </tr>\n",
       "    <tr>\n",
       "      <th>4</th>\n",
       "      <td>24.35</td>\n",
       "      <td>23.93</td>\n",
       "      <td>0.0175</td>\n",
       "      <td>0.42</td>\n",
       "      <td>1</td>\n",
       "      <td>H17</td>\n",
       "      <td>CS</td>\n",
       "    </tr>\n",
       "  </tbody>\n",
       "</table>\n",
       "</div>"
      ],
      "text/plain": [
       "   Unit Price  Unit Price less Dist Fee  Dist Fee %  Dist Fee Amt  Qty Paid  \\\n",
       "0       24.35                     23.93      0.0175          0.42         1   \n",
       "1        4.71                      4.63      0.0175          0.08         8   \n",
       "2        4.71                      4.63      0.0175          0.08         2   \n",
       "3        4.71                      4.63      0.0175          0.08         4   \n",
       "4       24.35                     23.93      0.0175          0.42         1   \n",
       "\n",
       "  MatGrp U O M  \n",
       "0    H17    CS  \n",
       "1    H29    EA  \n",
       "2    H29    EA  \n",
       "3    H29    EA  \n",
       "4    H17    CS  "
      ]
     },
     "execution_count": 34,
     "metadata": {},
     "output_type": "execute_result"
    }
   ],
   "source": [
    "df.head()\n"
   ]
  },
  {
   "cell_type": "code",
   "execution_count": 3,
   "metadata": {
    "collapsed": true
   },
   "outputs": [],
   "source": [
    "left = pd.DataFrame({'key': ['cam', 'heath', 'jason', 'cam'], 'v1': [10, 11, 12, 2]})"
   ]
  },
  {
   "cell_type": "code",
   "execution_count": 198,
   "metadata": {},
   "outputs": [
    {
     "data": {
      "text/plain": [
       "0     9\n",
       "1    10\n",
       "2    11\n",
       "3     1\n",
       "Name: v1, dtype: int64"
      ]
     },
     "execution_count": 198,
     "metadata": {},
     "output_type": "execute_result"
    }
   ],
   "source": [
    "left['v1']-1\n"
   ]
  },
  {
   "cell_type": "code",
   "execution_count": 7,
   "metadata": {},
   "outputs": [
    {
     "data": {
      "text/html": [
       "<div>\n",
       "<table border=\"1\" class=\"dataframe\">\n",
       "  <thead>\n",
       "    <tr style=\"text-align: right;\">\n",
       "      <th></th>\n",
       "      <th>key</th>\n",
       "      <th>v1</th>\n",
       "    </tr>\n",
       "  </thead>\n",
       "  <tbody>\n",
       "    <tr>\n",
       "      <th>0</th>\n",
       "      <td>cam</td>\n",
       "      <td>20</td>\n",
       "    </tr>\n",
       "    <tr>\n",
       "      <th>1</th>\n",
       "      <td>heath</td>\n",
       "      <td>30</td>\n",
       "    </tr>\n",
       "    <tr>\n",
       "      <th>2</th>\n",
       "      <td>jason</td>\n",
       "      <td>44</td>\n",
       "    </tr>\n",
       "  </tbody>\n",
       "</table>\n",
       "</div>"
      ],
      "text/plain": [
       "     key  v1\n",
       "0    cam  20\n",
       "1  heath  30\n",
       "2  jason  44"
      ]
     },
     "execution_count": 7,
     "metadata": {},
     "output_type": "execute_result"
    }
   ],
   "source": [
    "right = pd.DataFrame({'key': ['cam', 'heath', 'jason'], 'v1': [20, 30, 44]})\n",
    "right"
   ]
  },
  {
   "cell_type": "code",
   "execution_count": 11,
   "metadata": {},
   "outputs": [
    {
     "data": {
      "text/html": [
       "<div>\n",
       "<table border=\"1\" class=\"dataframe\">\n",
       "  <thead>\n",
       "    <tr style=\"text-align: right;\">\n",
       "      <th></th>\n",
       "      <th>key</th>\n",
       "      <th>v1_x</th>\n",
       "      <th>v1_y</th>\n",
       "    </tr>\n",
       "  </thead>\n",
       "  <tbody>\n",
       "    <tr>\n",
       "      <th>0</th>\n",
       "      <td>cam</td>\n",
       "      <td>10</td>\n",
       "      <td>20</td>\n",
       "    </tr>\n",
       "    <tr>\n",
       "      <th>1</th>\n",
       "      <td>heath</td>\n",
       "      <td>11</td>\n",
       "      <td>30</td>\n",
       "    </tr>\n",
       "    <tr>\n",
       "      <th>2</th>\n",
       "      <td>jason</td>\n",
       "      <td>12</td>\n",
       "      <td>44</td>\n",
       "    </tr>\n",
       "    <tr>\n",
       "      <th>3</th>\n",
       "      <td>cam</td>\n",
       "      <td>2</td>\n",
       "      <td>20</td>\n",
       "    </tr>\n",
       "  </tbody>\n",
       "</table>\n",
       "</div>"
      ],
      "text/plain": [
       "     key  v1_x  v1_y\n",
       "0    cam    10    20\n",
       "1  heath    11    30\n",
       "2  jason    12    44\n",
       "3    cam     2    20"
      ]
     },
     "execution_count": 11,
     "metadata": {},
     "output_type": "execute_result"
    }
   ],
   "source": [
    "import pandas as pd\n",
    "rev_df = pd.merge(left, right, left_on = 'key', right_on = 'key', how='left')\n",
    "rev_df\n"
   ]
  },
  {
   "cell_type": "code",
   "execution_count": 15,
   "metadata": {},
   "outputs": [
    {
     "data": {
      "text/html": [
       "<div>\n",
       "<table border=\"1\" class=\"dataframe\">\n",
       "  <thead>\n",
       "    <tr style=\"text-align: right;\">\n",
       "      <th></th>\n",
       "      <th>v1_x</th>\n",
       "      <th>v1_y</th>\n",
       "    </tr>\n",
       "    <tr>\n",
       "      <th>key</th>\n",
       "      <th></th>\n",
       "      <th></th>\n",
       "    </tr>\n",
       "  </thead>\n",
       "  <tbody>\n",
       "    <tr>\n",
       "      <th>cam</th>\n",
       "      <td>12</td>\n",
       "      <td>40</td>\n",
       "    </tr>\n",
       "    <tr>\n",
       "      <th>heath</th>\n",
       "      <td>11</td>\n",
       "      <td>30</td>\n",
       "    </tr>\n",
       "    <tr>\n",
       "      <th>jason</th>\n",
       "      <td>12</td>\n",
       "      <td>44</td>\n",
       "    </tr>\n",
       "  </tbody>\n",
       "</table>\n",
       "</div>"
      ],
      "text/plain": [
       "       v1_x  v1_y\n",
       "key              \n",
       "cam      12    40\n",
       "heath    11    30\n",
       "jason    12    44"
      ]
     },
     "execution_count": 15,
     "metadata": {},
     "output_type": "execute_result"
    }
   ],
   "source": [
    "rev_df.groupby(['key']).sum()"
   ]
  },
  {
   "cell_type": "code",
   "execution_count": null,
   "metadata": {
    "collapsed": true
   },
   "outputs": [],
   "source": []
  },
  {
   "cell_type": "code",
   "execution_count": null,
   "metadata": {
    "collapsed": true
   },
   "outputs": [],
   "source": []
  },
  {
   "cell_type": "code",
   "execution_count": 41,
   "metadata": {
    "collapsed": true
   },
   "outputs": [],
   "source": [
    "data = 'col1,col2,col3\\na,b,1\\na,b,2\\nc,d,3'"
   ]
  },
  {
   "cell_type": "code",
   "execution_count": null,
   "metadata": {
    "collapsed": true
   },
   "outputs": [],
   "source": []
  },
  {
   "cell_type": "code",
   "execution_count": null,
   "metadata": {
    "collapsed": true
   },
   "outputs": [],
   "source": []
  },
  {
   "cell_type": "code",
   "execution_count": 53,
   "metadata": {
    "collapsed": true
   },
   "outputs": [],
   "source": [
    "from StringIO import StringIO # for Python 2"
   ]
  },
  {
   "cell_type": "code",
   "execution_count": 54,
   "metadata": {},
   "outputs": [
    {
     "data": {
      "text/html": [
       "<div>\n",
       "<table border=\"1\" class=\"dataframe\">\n",
       "  <thead>\n",
       "    <tr style=\"text-align: right;\">\n",
       "      <th></th>\n",
       "      <th>col1</th>\n",
       "      <th>col2</th>\n",
       "      <th>col3</th>\n",
       "    </tr>\n",
       "  </thead>\n",
       "  <tbody>\n",
       "    <tr>\n",
       "      <th>0</th>\n",
       "      <td>a</td>\n",
       "      <td>b</td>\n",
       "      <td>1</td>\n",
       "    </tr>\n",
       "    <tr>\n",
       "      <th>1</th>\n",
       "      <td>a</td>\n",
       "      <td>b</td>\n",
       "      <td>2</td>\n",
       "    </tr>\n",
       "    <tr>\n",
       "      <th>2</th>\n",
       "      <td>c</td>\n",
       "      <td>d</td>\n",
       "      <td>3</td>\n",
       "    </tr>\n",
       "  </tbody>\n",
       "</table>\n",
       "</div>"
      ],
      "text/plain": [
       "  col1 col2  col3\n",
       "0    a    b     1\n",
       "1    a    b     2\n",
       "2    c    d     3"
      ]
     },
     "execution_count": 54,
     "metadata": {},
     "output_type": "execute_result"
    }
   ],
   "source": [
    "pd.read_csv(StringIO(data))"
   ]
  },
  {
   "cell_type": "code",
   "execution_count": 83,
   "metadata": {
    "collapsed": true
   },
   "outputs": [],
   "source": [
    "df2 = pd.read_csv(\"C:/Users/GuoRubing/Google Drive/Python/uams_reports_test/SAP.csv\")"
   ]
  },
  {
   "cell_type": "code",
   "execution_count": 84,
   "metadata": {},
   "outputs": [
    {
     "data": {
      "text/html": [
       "<div>\n",
       "<table border=\"1\" class=\"dataframe\">\n",
       "  <thead>\n",
       "    <tr style=\"text-align: right;\">\n",
       "      <th></th>\n",
       "      <th>PO Number</th>\n",
       "      <th>PO Line</th>\n",
       "      <th>Cont Ind</th>\n",
       "      <th>Contract</th>\n",
       "      <th>Cont Type</th>\n",
       "      <th>Invoice Date</th>\n",
       "      <th>Invoice No</th>\n",
       "      <th>Vendor Reference</th>\n",
       "      <th>Date PO Created</th>\n",
       "      <th>Total Cost per Line</th>\n",
       "      <th>...</th>\n",
       "      <th>Manufacturer Name</th>\n",
       "      <th>UNSPSC code</th>\n",
       "      <th>UNSPSC Desc</th>\n",
       "      <th>Purch Gp</th>\n",
       "      <th>Buyer Name</th>\n",
       "      <th>Case No</th>\n",
       "      <th>SQ Cart No</th>\n",
       "      <th>Req No</th>\n",
       "      <th>Req Line</th>\n",
       "      <th>PO Unit Price</th>\n",
       "    </tr>\n",
       "  </thead>\n",
       "  <tbody>\n",
       "    <tr>\n",
       "      <th>0</th>\n",
       "      <td>4500133194</td>\n",
       "      <td>40.0</td>\n",
       "      <td>X</td>\n",
       "      <td>MS25276</td>\n",
       "      <td>AROK</td>\n",
       "      <td>1/7/2016</td>\n",
       "      <td>5.109306e+09</td>\n",
       "      <td>1.092907e+09</td>\n",
       "      <td>1/4/2016</td>\n",
       "      <td>957.12</td>\n",
       "      <td>...</td>\n",
       "      <td>MEDLINE INDUSTRIES INC</td>\n",
       "      <td>42181605.0</td>\n",
       "      <td>BLOOD PRESSURE CUFF OR BLADDER</td>\n",
       "      <td>WB</td>\n",
       "      <td>Janice Carter</td>\n",
       "      <td>NaN</td>\n",
       "      <td>NaN</td>\n",
       "      <td>12094108.0</td>\n",
       "      <td>10.0</td>\n",
       "      <td>9.97</td>\n",
       "    </tr>\n",
       "    <tr>\n",
       "      <th>1</th>\n",
       "      <td>4500133194</td>\n",
       "      <td>41.0</td>\n",
       "      <td>X</td>\n",
       "      <td>MS25276</td>\n",
       "      <td>AROK</td>\n",
       "      <td>1/7/2016</td>\n",
       "      <td>5.109306e+09</td>\n",
       "      <td>1.092907e+09</td>\n",
       "      <td>1/4/2016</td>\n",
       "      <td>158.73</td>\n",
       "      <td>...</td>\n",
       "      <td>MEDLINE INDUSTRIES INC</td>\n",
       "      <td>42181605.0</td>\n",
       "      <td>BLOOD PRESSURE CUFF OR BLADDER</td>\n",
       "      <td>WB</td>\n",
       "      <td>Janice Carter</td>\n",
       "      <td>NaN</td>\n",
       "      <td>NaN</td>\n",
       "      <td>12094109.0</td>\n",
       "      <td>10.0</td>\n",
       "      <td>12.21</td>\n",
       "    </tr>\n",
       "    <tr>\n",
       "      <th>2</th>\n",
       "      <td>4500133245</td>\n",
       "      <td>35.0</td>\n",
       "      <td>X</td>\n",
       "      <td>MS25276</td>\n",
       "      <td>AROK</td>\n",
       "      <td>1/8/2016</td>\n",
       "      <td>5.109307e+09</td>\n",
       "      <td>1.092964e+09</td>\n",
       "      <td>1/5/2016</td>\n",
       "      <td>608.17</td>\n",
       "      <td>...</td>\n",
       "      <td>MEDLINE INDUSTRIES INC</td>\n",
       "      <td>42181605.0</td>\n",
       "      <td>BLOOD PRESSURE CUFF OR BLADDER</td>\n",
       "      <td>WB</td>\n",
       "      <td>Janice Carter</td>\n",
       "      <td>NaN</td>\n",
       "      <td>NaN</td>\n",
       "      <td>12094837.0</td>\n",
       "      <td>10.0</td>\n",
       "      <td>9.97</td>\n",
       "    </tr>\n",
       "    <tr>\n",
       "      <th>3</th>\n",
       "      <td>4500133245</td>\n",
       "      <td>36.0</td>\n",
       "      <td>X</td>\n",
       "      <td>MS25276</td>\n",
       "      <td>AROK</td>\n",
       "      <td>1/8/2016</td>\n",
       "      <td>5.109307e+09</td>\n",
       "      <td>1.092964e+09</td>\n",
       "      <td>1/5/2016</td>\n",
       "      <td>451.77</td>\n",
       "      <td>...</td>\n",
       "      <td>MEDLINE INDUSTRIES INC</td>\n",
       "      <td>42181605.0</td>\n",
       "      <td>BLOOD PRESSURE CUFF OR BLADDER</td>\n",
       "      <td>WB</td>\n",
       "      <td>Janice Carter</td>\n",
       "      <td>NaN</td>\n",
       "      <td>NaN</td>\n",
       "      <td>12094838.0</td>\n",
       "      <td>10.0</td>\n",
       "      <td>12.21</td>\n",
       "    </tr>\n",
       "    <tr>\n",
       "      <th>4</th>\n",
       "      <td>4500133297</td>\n",
       "      <td>28.0</td>\n",
       "      <td>X</td>\n",
       "      <td>MS25276</td>\n",
       "      <td>AROK</td>\n",
       "      <td>1/7/2016</td>\n",
       "      <td>5.109307e+09</td>\n",
       "      <td>1.092907e+09</td>\n",
       "      <td>1/6/2016</td>\n",
       "      <td>827.51</td>\n",
       "      <td>...</td>\n",
       "      <td>MEDLINE INDUSTRIES INC</td>\n",
       "      <td>42181605.0</td>\n",
       "      <td>BLOOD PRESSURE CUFF OR BLADDER</td>\n",
       "      <td>WB</td>\n",
       "      <td>Janice Carter</td>\n",
       "      <td>NaN</td>\n",
       "      <td>NaN</td>\n",
       "      <td>12095469.0</td>\n",
       "      <td>10.0</td>\n",
       "      <td>9.97</td>\n",
       "    </tr>\n",
       "  </tbody>\n",
       "</table>\n",
       "<p>5 rows × 52 columns</p>\n",
       "</div>"
      ],
      "text/plain": [
       "    PO Number  PO Line Cont Ind Contract Cont Type Invoice Date    Invoice No  \\\n",
       "0  4500133194     40.0        X  MS25276      AROK     1/7/2016  5.109306e+09   \n",
       "1  4500133194     41.0        X  MS25276      AROK     1/7/2016  5.109306e+09   \n",
       "2  4500133245     35.0        X  MS25276      AROK     1/8/2016  5.109307e+09   \n",
       "3  4500133245     36.0        X  MS25276      AROK     1/8/2016  5.109307e+09   \n",
       "4  4500133297     28.0        X  MS25276      AROK     1/7/2016  5.109307e+09   \n",
       "\n",
       "   Vendor Reference Date PO Created Total Cost per Line      ...       \\\n",
       "0      1.092907e+09        1/4/2016              957.12      ...        \n",
       "1      1.092907e+09        1/4/2016              158.73      ...        \n",
       "2      1.092964e+09        1/5/2016              608.17      ...        \n",
       "3      1.092964e+09        1/5/2016              451.77      ...        \n",
       "4      1.092907e+09        1/6/2016              827.51      ...        \n",
       "\n",
       "        Manufacturer Name UNSPSC code                     UNSPSC Desc  \\\n",
       "0  MEDLINE INDUSTRIES INC  42181605.0  BLOOD PRESSURE CUFF OR BLADDER   \n",
       "1  MEDLINE INDUSTRIES INC  42181605.0  BLOOD PRESSURE CUFF OR BLADDER   \n",
       "2  MEDLINE INDUSTRIES INC  42181605.0  BLOOD PRESSURE CUFF OR BLADDER   \n",
       "3  MEDLINE INDUSTRIES INC  42181605.0  BLOOD PRESSURE CUFF OR BLADDER   \n",
       "4  MEDLINE INDUSTRIES INC  42181605.0  BLOOD PRESSURE CUFF OR BLADDER   \n",
       "\n",
       "   Purch Gp     Buyer Name  Case No SQ Cart No      Req No Req Line  \\\n",
       "0        WB  Janice Carter      NaN        NaN  12094108.0     10.0   \n",
       "1        WB  Janice Carter      NaN        NaN  12094109.0     10.0   \n",
       "2        WB  Janice Carter      NaN        NaN  12094837.0     10.0   \n",
       "3        WB  Janice Carter      NaN        NaN  12094838.0     10.0   \n",
       "4        WB  Janice Carter      NaN        NaN  12095469.0     10.0   \n",
       "\n",
       "  PO Unit Price  \n",
       "0          9.97  \n",
       "1         12.21  \n",
       "2          9.97  \n",
       "3         12.21  \n",
       "4          9.97  \n",
       "\n",
       "[5 rows x 52 columns]"
      ]
     },
     "execution_count": 84,
     "metadata": {},
     "output_type": "execute_result"
    }
   ],
   "source": [
    "df2.head()"
   ]
  },
  {
   "cell_type": "code",
   "execution_count": 85,
   "metadata": {},
   "outputs": [
    {
     "data": {
      "text/plain": [
       "3210"
      ]
     },
     "execution_count": 85,
     "metadata": {},
     "output_type": "execute_result"
    }
   ],
   "source": [
    "len(df2.index)"
   ]
  },
  {
   "cell_type": "code",
   "execution_count": 86,
   "metadata": {},
   "outputs": [
    {
     "data": {
      "text/plain": [
       "RangeIndex(start=0, stop=3210, step=1)"
      ]
     },
     "execution_count": 86,
     "metadata": {},
     "output_type": "execute_result"
    }
   ],
   "source": []
  },
  {
   "cell_type": "code",
   "execution_count": null,
   "metadata": {
    "collapsed": true
   },
   "outputs": [],
   "source": []
  }
 ],
 "metadata": {
  "kernelspec": {
   "display_name": "Python 3",
   "language": "python",
   "name": "python3"
  },
  "language_info": {
   "codemirror_mode": {
    "name": "ipython",
    "version": 3
   },
   "file_extension": ".py",
   "mimetype": "text/x-python",
   "name": "python",
   "nbconvert_exporter": "python",
   "pygments_lexer": "ipython3",
   "version": "3.6.3"
  }
 },
 "nbformat": 4,
 "nbformat_minor": 2
}
